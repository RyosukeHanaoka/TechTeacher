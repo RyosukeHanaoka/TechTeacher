{
  "nbformat": 4,
  "nbformat_minor": 0,
  "metadata": {
    "colab": {
      "provenance": [],
      "mount_file_id": "11xuqNQ2wyGcx9dx_1o0wypfTleVOFBEE",
      "authorship_tag": "ABX9TyP9LHwjVHv7sMs+BPz72Nog",
      "include_colab_link": true
    },
    "kernelspec": {
      "name": "python3",
      "display_name": "Python 3"
    },
    "language_info": {
      "name": "python"
    }
  },
  "cells": [
    {
      "cell_type": "markdown",
      "metadata": {
        "id": "view-in-github",
        "colab_type": "text"
      },
      "source": [
        "<a href=\"https://colab.research.google.com/github/RyosukeHanaoka/TechTeacher/blob/main/my_Hand_Landmarkers.ipynb\" target=\"_parent\"><img src=\"https://colab.research.google.com/assets/colab-badge.svg\" alt=\"Open In Colab\"/></a>"
      ]
    },
    {
      "cell_type": "code",
      "execution_count": 1,
      "metadata": {
        "colab": {
          "base_uri": "https://localhost:8080/"
        },
        "id": "JVo4dBc6hRvn",
        "outputId": "8d84dcf5-4c72-4f82-cae3-c0d73f88d55f"
      },
      "outputs": [
        {
          "output_type": "stream",
          "name": "stdout",
          "text": [
            "\u001b[2K     \u001b[90m━━━━━━━━━━━━━━━━━━━━━━━━━━━━━━━━━━━━━━━━\u001b[0m \u001b[32m33.9/33.9 MB\u001b[0m \u001b[31m53.6 MB/s\u001b[0m eta \u001b[36m0:00:00\u001b[0m\n",
            "\u001b[?25h"
          ]
        }
      ],
      "source": [
        "# 必要なパッケージをインストール\n",
        "!pip install -q mediapipe==0.10.0\n",
        "\n",
        "# hand_landmarkerモデルをダウンロード\n",
        "!wget -q https://storage.googleapis.com/mediapipe-models/hand_landmarker/hand_landmarker/float16/1/hand_landmarker.task\n",
        "\n",
        "# mediapipeとその他の依存関係をインポート\n",
        "from mediapipe import solutions\n",
        "from mediapipe.framework.formats import landmark_pb2\n",
        "import numpy as np"
      ]
    },
    {
      "cell_type": "code",
      "source": [
        "# 定数の設定（テキスト表示に関するもの）\n",
        "MARGIN = 10  # pixels\n",
        "FONT_SIZE = 1\n",
        "FONT_THICKNESS = 1\n",
        "HANDEDNESS_TEXT_COLOR = (88, 205, 54) # vibrant green"
      ],
      "metadata": {
        "id": "9wmGNkvyhXm2"
      },
      "execution_count": 2,
      "outputs": []
    },
    {
      "cell_type": "code",
      "source": [
        "# 画像に手のランドマークを描画する関数\n",
        "def draw_landmarks_on_image(rgb_image, detection_result):\n",
        "  hand_landmarks_list = detection_result.hand_landmarks  # 手のランドマークのリスト\n",
        "  handedness_list = detection_result.handedness  # 手（左か右）の情報のリスト\n",
        "  annotated_image = np.copy(rgb_image)  # 元の画像をコピー\n",
        "\n",
        "  # 検出された手に対してループ処理\n",
        "  for idx in range(len(hand_landmarks_list)):\n",
        "    hand_landmarks = hand_landmarks_list[idx]\n",
        "    handedness = handedness_list[idx]\n",
        "\n",
        "    # ランドマークをプロトコルバッファの形式に変換\n",
        "    hand_landmarks_proto = landmark_pb2.NormalizedLandmarkList()\n",
        "    hand_landmarks_proto.landmark.extend([\n",
        "      landmark_pb2.NormalizedLandmark(x=landmark.x, y=landmark.y, z=landmark.z) for landmark in hand_landmarks\n",
        "    ])\n",
        "\n",
        "    # ランドマークと接続線を描画\n",
        "    solutions.drawing_utils.draw_landmarks(\n",
        "      annotated_image,\n",
        "      hand_landmarks_proto,\n",
        "      solutions.hands.HAND_CONNECTIONS,\n",
        "      solutions.drawing_styles.get_default_hand_landmarks_style(),\n",
        "      solutions.drawing_styles.get_default_hand_connections_style())\n",
        "\n",
        "    # 手の境界ボックスの左上隅の座標を取得\n",
        "    height, width, _ = annotated_image.shape\n",
        "    x_coordinates = [landmark.x for landmark in hand_landmarks]\n",
        "    y_coordinates = [landmark.y for landmark in hand_landmarks]\n",
        "    text_x = int(min(x_coordinates) * width)\n",
        "    text_y = int(min(y_coordinates) * height) - MARGIN\n",
        "\n",
        "    # 手（左か右）の情報を画像に描画\n",
        "    cv2.putText(annotated_image, f\"{handedness[0].category_name}\",\n",
        "                (text_x, text_y), cv2.FONT_HERSHEY_DUPLEX,\n",
        "                FONT_SIZE, HANDEDNESS_TEXT_COLOR, FONT_THICKNESS, cv2.LINE_AA)\n",
        "\n",
        "  return annotated_image  # 注釈付き画像を返す"
      ],
      "metadata": {
        "id": "rl-U_1B2hcA9"
      },
      "execution_count": 3,
      "outputs": []
    },
    {
      "cell_type": "code",
      "source": [
        "# テスト用の画像をダウンロード\n",
        "!wget -q -O image.jpg https://storage.googleapis.com/mediapipe-tasks/hand_landmarker/woman_hands.jpg"
      ],
      "metadata": {
        "id": "VSaurTkwhgkz"
      },
      "execution_count": 9,
      "outputs": []
    },
    {
      "cell_type": "code",
      "source": [
        "# 画像を読み込んで表示\n",
        "import cv2\n",
        "from google.colab.patches import cv2_imshow\n",
        "img = cv2.imread(\"image.jpg\")\n",
        "cv2_imshow(img)\n",
        "\n",
        "# ファイルアップロードのためのコード\n",
        "#from google.colab import files\n",
        "#uploaded = files.upload()\n",
        "\n",
        "# アップロードされたファイルを保存\n",
        "for filename in uploaded:\n",
        "  content = uploaded[filename]\n",
        "  with open(filename, 'wb') as f:\n",
        "    f.write(content)\n",
        "\n",
        "# アップロードされたファイルがあれば、その名前を取得\n",
        "if len(uploaded.keys()):\n",
        "  IMAGE_FILE = next(iter(uploaded))\n",
        "  print('Uploaded file:', IMAGE_FILE)"
      ],
      "metadata": {
        "id": "qLpBHsZHhnxM"
      },
      "execution_count": null,
      "outputs": []
    },
    {
      "cell_type": "code",
      "source": [
        "# STEP 1: 必要なモジュールをインポート\n",
        "import cv2\n",
        "from google.colab.patches import cv2_imshow\n",
        "import mediapipe as mp\n",
        "from mediapipe.tasks import python\n",
        "from mediapipe.tasks.python import vision"
      ],
      "metadata": {
        "id": "8iKaIFUmhz9e"
      },
      "execution_count": 11,
      "outputs": []
    },
    {
      "cell_type": "code",
      "source": [
        "# STEP 2: HandLandmarkerオブジェクトを作成\n",
        "base_options = python.BaseOptions(model_asset_path='hand_landmarker.task')  # モデルのパスを指定\n",
        "options = vision.HandLandmarkerOptions(base_options=base_options,\n",
        "                                       num_hands=2)  # 2つの手を検出する設定\n",
        "detector = vision.HandLandmarker.create_from_options(options)  # detectorオブジェクトを作成"
      ],
      "metadata": {
        "id": "lOcjiBUTFyuY"
      },
      "execution_count": 12,
      "outputs": []
    },
    {
      "cell_type": "code",
      "source": [
        "# STEP 3: 入力画像をロード\n",
        "image = mp.Image.create_from_file(\"image.jpg\")  # 画像を読み込む"
      ],
      "metadata": {
        "id": "Y717qCO9F2mo"
      },
      "execution_count": 13,
      "outputs": []
    },
    {
      "cell_type": "code",
      "source": [
        "# STEP 4: 入力画像から手のランドマークを検出\n",
        "detection_result = detector.detect(image)  # 検出を実行"
      ],
      "metadata": {
        "id": "5BtitpGiF5QE"
      },
      "execution_count": 14,
      "outputs": []
    },
    {
      "cell_type": "code",
      "source": [
        "# STEP 5: 検出結果を処理（この場合は視覚化）\n",
        "annotated_image = draw_landmarks_on_image(image.numpy_view(), detection_result)  # ランドマークを画像に描画\n",
        "cv2_imshow(cv2.cvtColor(annotated_image, cv2.COLOR_RGB2BGR))  # RGBからBGRに変換して画像を表示"
      ],
      "metadata": {
        "id": "zm15Cq5BF9ln"
      },
      "execution_count": null,
      "outputs": []
    },
    {
      "cell_type": "code",
      "source": [
        "import os\n",
        "import cv2\n",
        "import mediapipe as mp\n",
        "from mediapipe.tasks import python\n",
        "from mediapipe.tasks.python import vision"
      ],
      "metadata": {
        "id": "qb0w7-v1n0r0"
      },
      "execution_count": 16,
      "outputs": []
    },
    {
      "cell_type": "code",
      "source": [
        "joint_names = {\n",
        "    0: 'WRIST',\n",
        "    1: 'THUMB_CMC',\n",
        "    2: 'THUMB_MCP',\n",
        "    3: 'THUMB_IP',\n",
        "    4: 'THUMB_TIP',\n",
        "    5: 'INDEX_FINGER_MCP',\n",
        "    6: 'INDEX_FINGER_PIP',\n",
        "    7: 'INDEX_FINGER_DIP',\n",
        "    8: 'INDEX_FINGER_TIP',\n",
        "    9: 'MIDDLE_FINGER_MCP',\n",
        "    10: 'MIDDLE_FINGER_PIP',\n",
        "    11: 'MIDDLE_FINGER_DIP',\n",
        "    12: 'MIDDLE_FINGER_TIP',\n",
        "    13: 'RING_FINGER_MCP',\n",
        "    14: 'RING_FINGER_PIP',\n",
        "    15: 'RING_FINGER_DIP',\n",
        "    16: 'RING_FINGER_TIP',\n",
        "    17: 'PINKY_MCP',\n",
        "    18: 'PINKY_PIP',\n",
        "    19: 'PINKY_DIP',\n",
        "    20: 'PINKY_TIP'\n",
        "}"
      ],
      "metadata": {
        "id": "AGTT_kTOGN8U"
      },
      "execution_count": 17,
      "outputs": []
    },
    {
      "cell_type": "code",
      "source": [
        "# 入力と出力のディレクトリを設定\n",
        "input_folder_path = '/content/drive/MyDrive/Landmarkers_Files/'\n",
        "base_output_folder_path = '/content/drive/MyDrive/Landmarkers_Files_Processed/'\n",
        "\n",
        "# 出力フォルダが存在しない場合は作成\n",
        "if not os.path.exists(base_output_folder_path):\n",
        "  os.makedirs(base_output_folder_path)"
      ],
      "metadata": {
        "id": "VyQ64hRLGUeu"
      },
      "execution_count": 19,
      "outputs": []
    },
    {
      "cell_type": "code",
      "source": [
        "# 画像ごとに処理\n",
        "image_files = [f for f in os.listdir(input_folder_path) if f.endswith('.jpg')]\n",
        "for image_file in image_files:\n",
        "  input_path = os.path.join(input_folder_path, image_file)\n",
        "\n",
        "  img = cv2.imread(input_path)\n",
        "  height, width, _ = img.shape\n",
        "\n",
        "  # STEP 1: Create an HandLandmarker object.\n",
        "  base_options = python.BaseOptions(model_asset_path='hand_landmarker.task')\n",
        "  options = vision.HandLandmarkerOptions(base_options=base_options, num_hands=2)\n",
        "  detector = vision.HandLandmarker.create_from_options(options)\n",
        "\n",
        "  # STEP 2: Convert image to the Mediapipe Image format\n",
        "  image = mp.Image.create_from_numpy_array(img)\n",
        "\n",
        "  # STEP 3: Detect hand landmarks from the input image.\n",
        "  detection_result = detector.detect(image)\n",
        "\n",
        "  for idx, hand_landmarks in enumerate(detection_result.hand_landmarks):\n",
        "    for joint_idx, landmark in enumerate(hand_landmarks):\n",
        "\n",
        "      x = int(landmark.x * width)\n",
        "      y = int(landmark.y * height)\n",
        "\n",
        "      # Calculate the cropping rectangle (replace 10mm with appropriate pixels)\n",
        "      crop_x1 = max(0, x - 10)\n",
        "      crop_x2 = min(width, x + 10)\n",
        "      crop_y1 = max(0, y - 10)\n",
        "      crop_y2 = min(height, y + 10)\n",
        "\n",
        "      # Crop the image\n",
        "      cropped_img = img[crop_y1:crop_y2, crop_x1:crop_x2]\n",
        "\n",
        "      # Prepare output folder\n",
        "      joint_name = str(joint_idx) + '.' + str(joint_idx)  # replace this with the actual joint name\n",
        "      joint_folder_path = os.path.join(base_output_folder_path, joint_name)\n",
        "\n",
        "      if not os.path.exists(joint_folder_path):\n",
        "        os.makedirs(joint_folder_path)\n",
        "\n",
        "      # Save the cropped image\n",
        "      output_path = os.path.join(joint_folder_path, image_file)\n",
        "      cv2.imwrite(output_path, cropped_img)"
      ],
      "metadata": {
        "colab": {
          "base_uri": "https://localhost:8080/",
          "height": 249
        },
        "id": "agMrn9hjIJ_M",
        "outputId": "72602d1c-061f-496a-d066-60e9efad0457"
      },
      "execution_count": 29,
      "outputs": [
        {
          "output_type": "error",
          "ename": "AttributeError",
          "evalue": "ignored",
          "traceback": [
            "\u001b[0;31m---------------------------------------------------------------------------\u001b[0m",
            "\u001b[0;31mAttributeError\u001b[0m                            Traceback (most recent call last)",
            "\u001b[0;32m<ipython-input-29-49dcbb6bfff5>\u001b[0m in \u001b[0;36m<cell line: 3>\u001b[0;34m()\u001b[0m\n\u001b[1;32m     13\u001b[0m \u001b[0;34m\u001b[0m\u001b[0m\n\u001b[1;32m     14\u001b[0m   \u001b[0;31m# STEP 2: Convert image to the Mediapipe Image format\u001b[0m\u001b[0;34m\u001b[0m\u001b[0;34m\u001b[0m\u001b[0m\n\u001b[0;32m---> 15\u001b[0;31m   \u001b[0mimage\u001b[0m \u001b[0;34m=\u001b[0m \u001b[0mmp\u001b[0m\u001b[0;34m.\u001b[0m\u001b[0mImage\u001b[0m\u001b[0;34m.\u001b[0m\u001b[0mcreate_from_numpy_array\u001b[0m\u001b[0;34m(\u001b[0m\u001b[0mimg\u001b[0m\u001b[0;34m)\u001b[0m\u001b[0;34m\u001b[0m\u001b[0;34m\u001b[0m\u001b[0m\n\u001b[0m\u001b[1;32m     16\u001b[0m \u001b[0;34m\u001b[0m\u001b[0m\n\u001b[1;32m     17\u001b[0m   \u001b[0;31m# STEP 3: Detect hand landmarks from the input image.\u001b[0m\u001b[0;34m\u001b[0m\u001b[0;34m\u001b[0m\u001b[0m\n",
            "\u001b[0;31mAttributeError\u001b[0m: type object 'mediapipe.python._framework_bindings.image.Image' has no attribute 'create_from_numpy_array'"
          ]
        }
      ]
    },
    {
      "cell_type": "code",
      "source": [
        "# 画像ごとに処理\n",
        "image_files = [f for f in os.listdir(input_folder_path) if f.endswith('.jpg')]\n",
        "for image_file in image_files:\n",
        "  input_path = os.path.join(input_folder_path, image_file)\n",
        "\n",
        "  img = cv2.imread(input_path)\n",
        "  height, width, _ = img.shape\n",
        "   # STEP 1: Create an HandLandmarker object.\n",
        "  base_options = python.BaseOptions(model_asset_path='hand_landmarker.task')\n",
        "  options = vision.HandLandmarkerOptions(base_options=base_options, num_hands=2)\n",
        "  detector = vision.HandLandmarker.create_from_options(options)\n",
        "   # STEP 2: Convert image to the Mediapipe Image format\n",
        "  image = mp.Image.create_from_numpy_array(img)\n",
        "  # STEP 3: Detect hand landmarks from the input image.\n",
        "  detection_result = detector.detect(image)"
      ],
      "metadata": {
        "colab": {
          "base_uri": "https://localhost:8080/",
          "height": 249
        },
        "id": "5oQRVbKqGZFH",
        "outputId": "08b38b5e-8bed-4256-9f07-e462bc87258a"
      },
      "execution_count": 28,
      "outputs": [
        {
          "output_type": "error",
          "ename": "AttributeError",
          "evalue": "ignored",
          "traceback": [
            "\u001b[0;31m---------------------------------------------------------------------------\u001b[0m",
            "\u001b[0;31mAttributeError\u001b[0m                            Traceback (most recent call last)",
            "\u001b[0;32m<ipython-input-28-6b78e68d09f4>\u001b[0m in \u001b[0;36m<cell line: 3>\u001b[0;34m()\u001b[0m\n\u001b[1;32m     11\u001b[0m   \u001b[0mdetector\u001b[0m \u001b[0;34m=\u001b[0m \u001b[0mvision\u001b[0m\u001b[0;34m.\u001b[0m\u001b[0mHandLandmarker\u001b[0m\u001b[0;34m.\u001b[0m\u001b[0mcreate_from_options\u001b[0m\u001b[0;34m(\u001b[0m\u001b[0moptions\u001b[0m\u001b[0;34m)\u001b[0m\u001b[0;34m\u001b[0m\u001b[0;34m\u001b[0m\u001b[0m\n\u001b[1;32m     12\u001b[0m    \u001b[0;31m# STEP 2: Convert image to the Mediapipe Image format\u001b[0m\u001b[0;34m\u001b[0m\u001b[0;34m\u001b[0m\u001b[0m\n\u001b[0;32m---> 13\u001b[0;31m   \u001b[0mimage\u001b[0m \u001b[0;34m=\u001b[0m \u001b[0mmp\u001b[0m\u001b[0;34m.\u001b[0m\u001b[0mImage\u001b[0m\u001b[0;34m.\u001b[0m\u001b[0mcreate_from_numpy_array\u001b[0m\u001b[0;34m(\u001b[0m\u001b[0mimg\u001b[0m\u001b[0;34m)\u001b[0m\u001b[0;34m\u001b[0m\u001b[0;34m\u001b[0m\u001b[0m\n\u001b[0m\u001b[1;32m     14\u001b[0m   \u001b[0;31m# STEP 3: Detect hand landmarks from the input image.\u001b[0m\u001b[0;34m\u001b[0m\u001b[0;34m\u001b[0m\u001b[0m\n\u001b[1;32m     15\u001b[0m   \u001b[0mdetection_result\u001b[0m \u001b[0;34m=\u001b[0m \u001b[0mdetector\u001b[0m\u001b[0;34m.\u001b[0m\u001b[0mdetect\u001b[0m\u001b[0;34m(\u001b[0m\u001b[0mimage\u001b[0m\u001b[0;34m)\u001b[0m\u001b[0;34m\u001b[0m\u001b[0;34m\u001b[0m\u001b[0m\n",
            "\u001b[0;31mAttributeError\u001b[0m: type object 'mediapipe.python._framework_bindings.image.Image' has no attribute 'create_from_numpy_array'"
          ]
        }
      ]
    },
    {
      "cell_type": "code",
      "source": [
        "for idx, hand_landmarks in enumerate(detection_result.hand_landmarks):\n",
        "  for joint_idx, landmark in enumerate(hand_landmarks):\n",
        "\n",
        "      x = int(landmark.x * width)\n",
        "      y = int(landmark.y * height)\n",
        "      # Calculate the cropping rectangle (replace 10mm with appropriate pixels)\n",
        "      crop_x1 = max(0, x - 10)\n",
        "      crop_x2 = min(width, x + 10)\n",
        "      crop_y1 = max(0, y - 10)\n",
        "      crop_y2 = min(height, y + 10)\n",
        "      # Crop the image\n",
        "      cropped_img = img[crop_y1:crop_y2, crop_x1:crop_x2]\n",
        "      # Prepare output folder\n",
        "      #joint_name = str(joint_idx) + '.' + str(joint_idx)  # replace this with the actual joint name\n",
        "      #joint_folder_path = os.path.join(base_output_folder_path, joint_name)\n",
        "      # Prepare output folder\n",
        "      joint_name = joint_names[joint_idx]\n",
        "      joint_folder_path = os.path.join(base_output_folder_path, joint_name)\n",
        "      if not os.path.exists(joint_folder_path):\n",
        "        os.makedirs(joint_folder_path)\n",
        "      # Save the cropped image\n",
        "      output_path = os.path.join(joint_folder_path, image_file)\n",
        "      cv2.imwrite(output_path, cropped_img)"
      ],
      "metadata": {
        "id": "iqLub0eaGyqE"
      },
      "execution_count": 27,
      "outputs": []
    },
    {
      "cell_type": "code",
      "source": [],
      "metadata": {
        "colab": {
          "base_uri": "https://localhost:8080/"
        },
        "id": "8XaxAv2RG4uT",
        "outputId": "747f3492-7a11-4d18-dab7-fb5c04d2aecb"
      },
      "execution_count": 26,
      "outputs": [
        {
          "output_type": "execute_result",
          "data": {
            "text/plain": [
              "True"
            ]
          },
          "metadata": {},
          "execution_count": 26
        }
      ]
    },
    {
      "cell_type": "code",
      "source": [],
      "metadata": {
        "id": "qH0W5J2EG8-N"
      },
      "execution_count": null,
      "outputs": []
    },
    {
      "cell_type": "code",
      "source": [],
      "metadata": {
        "id": "LvQVkKv0HDfL"
      },
      "execution_count": null,
      "outputs": []
    }
  ]
}