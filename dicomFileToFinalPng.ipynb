{
  "nbformat": 4,
  "nbformat_minor": 0,
  "metadata": {
    "colab": {
      "provenance": [],
      "mount_file_id": "https://github.com/RyosukeHanaoka/TechTeacher/blob/main/dicomFileToPng.ipynb",
      "authorship_tag": "ABX9TyNHqSTsElkdLOi6ga7yjBgK",
      "include_colab_link": true
    },
    "kernelspec": {
      "name": "python3",
      "display_name": "Python 3"
    },
    "language_info": {
      "name": "python"
    }
  },
  "cells": [
    {
      "cell_type": "markdown",
      "metadata": {
        "id": "view-in-github",
        "colab_type": "text"
      },
      "source": [
        "<a href=\"https://colab.research.google.com/github/RyosukeHanaoka/TechTeacher/blob/main/dicomFileToFinalPng.ipynb\" target=\"_parent\"><img src=\"https://colab.research.google.com/assets/colab-badge.svg\" alt=\"Open In Colab\"/></a>"
      ]
    },
    {
      "cell_type": "markdown",
      "source": [
        "#必要なモジュールのインストール"
      ],
      "metadata": {
        "id": "viYqzpLZnbE9"
      }
    },
    {
      "cell_type": "code",
      "source": [
        "!pip install pydicom\n",
        "!pip install pylibjpeg\n",
        "!pip install python-gdcm\n",
        "!pip install pylibjpeg-libjpeg"
      ],
      "metadata": {
        "colab": {
          "base_uri": "https://localhost:8080/"
        },
        "id": "kPsQvIyGQTcF",
        "outputId": "d6f096f0-a2a4-4890-9280-702abfc0e71a"
      },
      "execution_count": 1,
      "outputs": [
        {
          "output_type": "stream",
          "name": "stdout",
          "text": [
            "Collecting pydicom\n",
            "  Downloading pydicom-2.4.3-py3-none-any.whl (1.8 MB)\n",
            "\u001b[2K     \u001b[90m━━━━━━━━━━━━━━━━━━━━━━━━━━━━━━━━━━━━━━━━\u001b[0m \u001b[32m1.8/1.8 MB\u001b[0m \u001b[31m8.2 MB/s\u001b[0m eta \u001b[36m0:00:00\u001b[0m\n",
            "\u001b[?25hInstalling collected packages: pydicom\n",
            "Successfully installed pydicom-2.4.3\n",
            "Collecting pylibjpeg\n",
            "  Downloading pylibjpeg-1.4.0-py3-none-any.whl (28 kB)\n",
            "Requirement already satisfied: numpy in /usr/local/lib/python3.10/dist-packages (from pylibjpeg) (1.23.5)\n",
            "Installing collected packages: pylibjpeg\n",
            "Successfully installed pylibjpeg-1.4.0\n",
            "Collecting python-gdcm\n",
            "  Downloading python_gdcm-3.0.22-cp310-cp310-manylinux_2_17_x86_64.manylinux2014_x86_64.whl (13.0 MB)\n",
            "\u001b[2K     \u001b[90m━━━━━━━━━━━━━━━━━━━━━━━━━━━━━━━━━━━━━━━━\u001b[0m \u001b[32m13.0/13.0 MB\u001b[0m \u001b[31m76.9 MB/s\u001b[0m eta \u001b[36m0:00:00\u001b[0m\n",
            "\u001b[?25hInstalling collected packages: python-gdcm\n",
            "Successfully installed python-gdcm-3.0.22\n",
            "Collecting pylibjpeg-libjpeg\n",
            "  Downloading pylibjpeg_libjpeg-1.3.4-cp310-cp310-manylinux_2_17_x86_64.manylinux2014_x86_64.whl (4.3 MB)\n",
            "\u001b[2K     \u001b[90m━━━━━━━━━━━━━━━━━━━━━━━━━━━━━━━━━━━━━━━━\u001b[0m \u001b[32m4.3/4.3 MB\u001b[0m \u001b[31m3.5 MB/s\u001b[0m eta \u001b[36m0:00:00\u001b[0m\n",
            "\u001b[?25hRequirement already satisfied: numpy>=1.22 in /usr/local/lib/python3.10/dist-packages (from pylibjpeg-libjpeg) (1.23.5)\n",
            "Installing collected packages: pylibjpeg-libjpeg\n",
            "Successfully installed pylibjpeg-libjpeg-1.3.4\n"
          ]
        }
      ]
    },
    {
      "cell_type": "code",
      "source": [
        "# まず、使用するライブラリを呼び出す。\n",
        "from google.colab import drive\n",
        "import os\n",
        "import shutil\n",
        "import pydicom\n",
        "import cv2\n",
        "import numpy as np"
      ],
      "metadata": {
        "id": "rqw2EVD2odWl"
      },
      "execution_count": 2,
      "outputs": []
    },
    {
      "cell_type": "code",
      "source": [
        "# Google Driveを呼び出す。\n",
        "drive.mount('/content/drive')"
      ],
      "metadata": {
        "colab": {
          "base_uri": "https://localhost:8080/"
        },
        "id": "53EuykkiooBI",
        "outputId": "5c421abc-9b50-4cfb-f8f0-1dfe65227264"
      },
      "execution_count": 3,
      "outputs": [
        {
          "output_type": "stream",
          "name": "stdout",
          "text": [
            "Mounted at /content/drive\n"
          ]
        }
      ]
    },
    {
      "cell_type": "markdown",
      "source": [
        "#作業に使用するxpFilesのコピーを作成する。"
      ],
      "metadata": {
        "id": "tWfC_E7FnqUU"
      }
    },
    {
      "cell_type": "code",
      "source": [
        "# xpFilesのコピーを作成する。\n",
        "shutil.copytree('/content/drive/MyDrive/xpFiles','/content/drive/MyDrive/xpFiles_copy')"
      ],
      "metadata": {
        "id": "Xq5YBjNuosSj",
        "colab": {
          "base_uri": "https://localhost:8080/",
          "height": 34
        },
        "outputId": "a0389192-d946-4380-e501-0af4bfac871a"
      },
      "execution_count": 5,
      "outputs": [
        {
          "output_type": "execute_result",
          "data": {
            "text/plain": [
              "'/content/drive/MyDrive/xpFiles_copy'"
            ],
            "application/vnd.google.colaboratory.intrinsic+json": {
              "type": "string"
            }
          },
          "metadata": {},
          "execution_count": 5
        }
      ]
    },
    {
      "cell_type": "markdown",
      "source": [
        "#directory名に含まれている患者idをDICOMファイルのファイル名の先頭に付加する。"
      ],
      "metadata": {
        "id": "YF--6gASoA1u"
      }
    },
    {
      "cell_type": "code",
      "source": [
        "for root, dirs, files in os.walk('/content/drive/MyDrive/xpFiles_copy'):# '/content/drive/MyDrive/xpFiles_copy'の中のroot、directory、fileを走査する。\n",
        "    for file in files:\n",
        "        # 変数patient_idを定義\n",
        "        patient_id = os.path.dirname(root)[40:46]\n",
        "        # 変数patient_filename_taleを定義\n",
        "        patient_filename_tale = os.path.basename(root)\n",
        "        # 変数new_filenameを定義\n",
        "        file_extension = os.path.splitext(file)[1]  # 元のファイルの拡張子を取得\n",
        "        new_filename = patient_id+'_'+ patient_filename_tale+\".dcm\"\n",
        "        os.rename(os.path.join(root, file), os.path.join(root, new_filename))"
      ],
      "metadata": {
        "id": "dA9nqBrg-sxV"
      },
      "execution_count": 6,
      "outputs": []
    },
    {
      "cell_type": "markdown",
      "source": [
        "###ファイルの損傷に備えてxpFiles_copyはバックアップとして保存、xpFiles_copy_of_copyを作成"
      ],
      "metadata": {
        "id": "2KHwhKvFoYCo"
      }
    },
    {
      "cell_type": "code",
      "source": [
        "# xpFiles_copyのコピーを作成する。\n",
        "shutil.copytree('/content/drive/MyDrive/xpFiles_copy','/content/drive/MyDrive/xpFiles_copy_of_copy')"
      ],
      "metadata": {
        "colab": {
          "base_uri": "https://localhost:8080/",
          "height": 34
        },
        "id": "icyaiLNKK4zi",
        "outputId": "6f906d7c-5745-48dc-f5aa-629d9c4f6c70"
      },
      "execution_count": 7,
      "outputs": [
        {
          "output_type": "execute_result",
          "data": {
            "text/plain": [
              "'/content/drive/MyDrive/xpFiles_copy_of_copy'"
            ],
            "application/vnd.google.colaboratory.intrinsic+json": {
              "type": "string"
            }
          },
          "metadata": {},
          "execution_count": 7
        }
      ]
    },
    {
      "cell_type": "markdown",
      "source": [
        "#DICOMの'BodyPartExamined'が'HAND'のファイルのみ抽出、'xpFiles_Hand'に保存"
      ],
      "metadata": {
        "id": "wLo-2d2ZpP9t"
      }
    },
    {
      "cell_type": "code",
      "source": [
        "os.makedirs('/content/drive/MyDrive/xpFiles_Hand', exist_ok=True)\n",
        "\n",
        "for root, dirs, files in os.walk('/content/drive/MyDrive/xpFiles_copy_of_copy'):\n",
        "    for file in files:\n",
        "        dcmfile_path = os.path.join(root, file)\n",
        "        ds = pydicom.dcmread(dcmfile_path, force=True)\n",
        "\n",
        "        if hasattr(ds, 'BodyPartExamined'):\n",
        "            body_part = ds.BodyPartExamined\n",
        "            if body_part == 'HAND':\n",
        "                shutil.move(dcmfile_path, '/content/drive/MyDrive/xpFiles_Hand')"
      ],
      "metadata": {
        "id": "cP27QTWKKyoA"
      },
      "execution_count": 8,
      "outputs": []
    },
    {
      "cell_type": "code",
      "source": [
        "#xpFiles_Handのコピーを作成する。\n",
        "shutil.copytree('/content/drive/MyDrive/xpFiles_Hand','/content/drive/MyDrive/xpFiles_Hand_copy')"
      ],
      "metadata": {
        "colab": {
          "base_uri": "https://localhost:8080/",
          "height": 34
        },
        "id": "5hqzzmnfk6RN",
        "outputId": "ad17af18-004b-4e80-8b3e-dafe715d2217"
      },
      "execution_count": 15,
      "outputs": [
        {
          "output_type": "execute_result",
          "data": {
            "text/plain": [
              "'/content/drive/MyDrive/xpFiles_Hand_copy'"
            ],
            "application/vnd.google.colaboratory.intrinsic+json": {
              "type": "string"
            }
          },
          "metadata": {},
          "execution_count": 15
        }
      ]
    },
    {
      "cell_type": "markdown",
      "source": [
        "#DICOMをPNGに変換する。"
      ],
      "metadata": {
        "id": "NZfYLCjFp67d"
      }
    },
    {
      "cell_type": "code",
      "source": [
        "import numpy as np\n",
        "import pydicom\n",
        "import pylibjpeg\n",
        "from PIL import Image\n",
        "import os"
      ],
      "metadata": {
        "id": "LASmQs57Swex"
      },
      "execution_count": 4,
      "outputs": []
    },
    {
      "cell_type": "code",
      "source": [
        "import numpy as np\n",
        "import cv2\n",
        "import pydicom\n",
        "import os\n",
        "\n",
        "def dicom_to_png(dcmfile_path, png_directory):\n",
        "    try:\n",
        "        ds = pydicom.dcmread(dcmfile_path)\n",
        "\n",
        "        rescale_slope = ds.get(\"RescaleSlope\", 1)\n",
        "        rescale_intercept = ds.get(\"RescaleIntercept\", 0)\n",
        "\n",
        "        img = ds.pixel_array * rescale_slope + rescale_intercept\n",
        "\n",
        "        # 画像を0-255の範囲に正規化\n",
        "        img = np.interp(img, (img.min(), img.max()), (0, 255))\n",
        "\n",
        "        pngfile_path = os.path.join(png_directory, os.path.basename(dcmfile_path).replace('.dcm', '.png'))\n",
        "        cv2.imwrite(pngfile_path, img.astype(np.uint8))\n",
        "\n",
        "    except Exception as e:  # すべての例外をキャッチ\n",
        "        print(f\"An error occurred while processing {dcmfile_path}: {str(e)}\")\n",
        "\n",
        "png_directory = '/content/drive/MyDrive/xpFilesFinal_png'\n",
        "os.makedirs(png_directory, exist_ok=True)\n",
        "\n",
        "for root, dirs, files in os.walk('/content/drive/MyDrive/xpFiles_Hand_copy'):\n",
        "    for file in files:\n",
        "        dcmfile_path = os.path.join(root, file)\n",
        "        dicom_to_png(dcmfile_path, png_directory)"
      ],
      "metadata": {
        "id": "HLsAVJuTryXk"
      },
      "execution_count": 6,
      "outputs": []
    },
    {
      "cell_type": "code",
      "source": [
        "shutil.copytree('/content/drive/MyDrive/xpFilesFinal_png','/content/drive/MyDrive/backUpofXpFilesFinal_png')"
      ],
      "metadata": {
        "colab": {
          "base_uri": "https://localhost:8080/",
          "height": 34
        },
        "id": "0VJhYgw11j2Z",
        "outputId": "38397ebf-d85b-46af-bcf2-6990707b6555"
      },
      "execution_count": 7,
      "outputs": [
        {
          "output_type": "execute_result",
          "data": {
            "text/plain": [
              "'/content/drive/MyDrive/backUpofXpFilesFinal_png'"
            ],
            "application/vnd.google.colaboratory.intrinsic+json": {
              "type": "string"
            }
          },
          "metadata": {},
          "execution_count": 7
        }
      ]
    }
  ]
}