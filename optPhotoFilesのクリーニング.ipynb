{
  "nbformat": 4,
  "nbformat_minor": 0,
  "metadata": {
    "colab": {
      "provenance": [],
      "authorship_tag": "ABX9TyNH31sgU3Y76GNlZMroVh28",
      "include_colab_link": true
    },
    "kernelspec": {
      "name": "python3",
      "display_name": "Python 3"
    },
    "language_info": {
      "name": "python"
    }
  },
  "cells": [
    {
      "cell_type": "markdown",
      "metadata": {
        "id": "view-in-github",
        "colab_type": "text"
      },
      "source": [
        "<a href=\"https://colab.research.google.com/github/RyosukeHanaoka/TechTeacher/blob/main/optPhotoFiles%E3%81%AE%E3%82%AF%E3%83%AA%E3%83%BC%E3%83%8B%E3%83%B3%E3%82%B0.ipynb\" target=\"_parent\"><img src=\"https://colab.research.google.com/assets/colab-badge.svg\" alt=\"Open In Colab\"/></a>"
      ]
    },
    {
      "cell_type": "code",
      "source": [
        "from google.colab import drive\n",
        "drive.mount('/content/drive')"
      ],
      "metadata": {
        "colab": {
          "base_uri": "https://localhost:8080/"
        },
        "id": "N72MJ4aXuD65",
        "outputId": "2c22f66d-39de-4f22-8e24-5505b82efb00"
      },
      "execution_count": 1,
      "outputs": [
        {
          "output_type": "stream",
          "name": "stdout",
          "text": [
            "Mounted at /content/drive\n"
          ]
        }
      ]
    },
    {
      "cell_type": "markdown",
      "source": [
        "#必要なライブラリの導入"
      ],
      "metadata": {
        "id": "6DcSKvvObSUR"
      }
    },
    {
      "cell_type": "code",
      "source": [
        "from PIL import Image\n",
        "import os\n",
        "import shutil\n",
        "!pip install pyheif"
      ],
      "metadata": {
        "id": "tMopMNqDbQYl"
      },
      "execution_count": null,
      "outputs": []
    },
    {
      "cell_type": "markdown",
      "source": [
        "##データのバックアップ\n",
        "加工した画像は別に保存するので、原本がクラッシュすることはない予定だが、二重三重に原本を保護することを心がける。このため、shutil.copytree()を用いて、OptPhotoFiles/backup/内に原本のコピーを作成する。"
      ],
      "metadata": {
        "id": "saa0wWJmbYVx"
      }
    },
    {
      "cell_type": "code",
      "source": [
        "# データのバックアップ\n",
        "shutil.copytree('/content/drive/MyDrive/OptPhotoFiles/optPhotoFiles/RA/RA_Right_Hand/',\n",
        "                '/content/drive/MyDrive/OptPhotoFiles/backup/optPhotoFiles/RA_Right_Hand/')\n",
        "shutil.copytree('/content/drive/MyDrive/OptPhotoFiles/optPhotoFiles/nonRA/nonRA_Right_Hand/',\n",
        "                '/content/drive/MyDrive/OptPhotoFiles/backup/optPhotoFiles/nonRA_Right_Hand/')\n",
        "shutil.copytree('/content/drive/MyDrive/OptPhotoFiles/optPhotoFiles/RA/RA_Left_Hand/',\n",
        "                '/content/drive/MyDrive/OptPhotoFiles/backup/optPhotoFiles/RA_Left_Hand/')\n",
        "shutil.copytree('/content/drive/MyDrive/OptPhotoFiles/optPhotoFiles/nonRA/nonRA_Left_Hand/',\n",
        "                '/content/drive/MyDrive/OptPhotoFiles/backup/optPhotoFiles/nonRA_Left_Hand/')\n"
      ],
      "metadata": {
        "colab": {
          "base_uri": "https://localhost:8080/",
          "height": 156
        },
        "id": "MlbdogUWtnbo",
        "outputId": "f102aed4-6003-41b8-f147-e3997c75d05f"
      },
      "execution_count": 2,
      "outputs": [
        {
          "output_type": "stream",
          "name": "stdout",
          "text": [
            "Collecting pyheif\n",
            "  Downloading pyheif-0.7.1-cp310-cp310-manylinux_2_17_x86_64.manylinux2014_x86_64.whl (9.8 MB)\n",
            "\u001b[2K     \u001b[90m━━━━━━━━━━━━━━━━━━━━━━━━━━━━━━━━━━━━━━━━\u001b[0m \u001b[32m9.8/9.8 MB\u001b[0m \u001b[31m56.6 MB/s\u001b[0m eta \u001b[36m0:00:00\u001b[0m\n",
            "\u001b[?25hRequirement already satisfied: cffi>=1.0.0 in /usr/local/lib/python3.10/dist-packages (from pyheif) (1.16.0)\n",
            "Requirement already satisfied: pycparser in /usr/local/lib/python3.10/dist-packages (from cffi>=1.0.0->pyheif) (2.21)\n",
            "Installing collected packages: pyheif\n",
            "Successfully installed pyheif-0.7.1\n"
          ]
        },
        {
          "output_type": "execute_result",
          "data": {
            "text/plain": [
              "'/content/drive/MyDrive/OptPhotoFiles/backup/optPhotoFiles/nonRA_Left_Hand/'"
            ],
            "application/vnd.google.colaboratory.intrinsic+json": {
              "type": "string"
            }
          },
          "metadata": {},
          "execution_count": 2
        }
      ]
    },
    {
      "cell_type": "markdown",
      "source": [
        "#HEICフォーマットの画像の変換\n",
        "HEICフォーマットの画像が大量に含まれていたため、pyheifライブラリを用いて、これををjpegフォーマット画像に変換する関数\"heic_convert_to\"を定義した。"
      ],
      "metadata": {
        "id": "B9Ca-3cqcQpn"
      }
    },
    {
      "cell_type": "code",
      "source": [
        "#heicを変換する関数を定義\n",
        "def heic_convert_to(heic_filename, output_filename, q=90):\n",
        "    import pyheif\n",
        "    from PIL import Image\n",
        "\n",
        "    heif = pyheif.read(heic_filename)\n",
        "\n",
        "    image = Image.frombytes(\n",
        "        heif.mode,\n",
        "        heif.size,\n",
        "        heif.data,\n",
        "        \"raw\",\n",
        "        heif.mode,\n",
        "        heif.stride,\n",
        "    )\n",
        "\n",
        "    image.save(output_filename, quality=q)"
      ],
      "metadata": {
        "id": "T0e53Ms_HOdD"
      },
      "execution_count": 7,
      "outputs": []
    },
    {
      "cell_type": "markdown",
      "source": [
        "#ファイル名の再定義関数を定義\n",
        "協力者から送られたファイル名には、日本語全角文字や個人名が含まれ、その命名規則もさまざまである。このため、これ以降、個人のプロファイリングが不可能となることを受容し、ファイル名を再定義する関数、\"rename_files\"を定義した。"
      ],
      "metadata": {
        "id": "HfZCTNSpdDbU"
      }
    },
    {
      "cell_type": "code",
      "execution_count": 8,
      "metadata": {
        "id": "Ecz_8zOYtgDk"
      },
      "outputs": [],
      "source": [
        "#ファイル名を通し番号で統一する関数\"rename_files\"を定義。\n",
        "def rename_files(directory, prefix, start_number=1):\n",
        "    counter = start_number\n",
        "    for foldername, subfolders, filenames in os.walk(directory):\n",
        "        for filename in filenames:\n",
        "            # ファイルの絶対パスを取得\n",
        "            filepath = os.path.join(foldername, filename)\n",
        "\n",
        "            # 新しいファイル名を作成\n",
        "            new_filename = f\"{prefix}_{str(counter).zfill(6)}{os.path.splitext(filename)[1]}\"\n",
        "            new_filepath = os.path.join(foldername, new_filename)\n",
        "\n",
        "            # ファイル名を変更\n",
        "            os.rename(filepath, new_filepath)\n",
        "            counter += 1"
      ]
    },
    {
      "cell_type": "markdown",
      "source": [
        "#ファイル名の再定義\n",
        "\"optPhotoFiles\"に格納されている全ファイルを変更する。患者群では、\"patients\"が、健常者群では\"healthy_control\"が含まれるファイル番号を命名する。再定義後の画像は、OptPhotoFiles/optPhotoFiles_renamed/に格納する。"
      ],
      "metadata": {
        "id": "QFhodxczYIVD"
      }
    },
    {
      "cell_type": "code",
      "source": [
        "# 変換する画像が含まれるディレクトリパス(nonRA_右手)\n",
        "os.makedirs('/content/drive/MyDrive/OptPhotoFiles/optPhotoFiles_renamed/optPhotoFiles_nonRA_right_renamed', exist_ok=True)\n",
        "input_dir = '/content/drive/MyDrive/OptPhotoFiles/optPhotoFiles/nonRA/nonRA_Right_Hand'\n",
        "output_dir = '/content/drive/MyDrive/OptPhotoFiles/optPhotoFiles_renamed/optPhotoFiles_nonRA_right_renamed'\n",
        "#input_dirの内部を検索\n",
        "for filename in os.listdir(input_dir):\n",
        "    if filename.lower().endswith('.heic'):\n",
        "        input_filepath = os.path.join(input_dir, filename)\n",
        "        output_filepath = os.path.join(output_dir, os.path.splitext(filename)[0] + '.jpg')\n",
        "        try:\n",
        "            heic_convert_to(input_filepath, output_filepath)#関数;heic_convert_toを実行\n",
        "            print(f\"Converted {filename} to JPEG\")#作業に成功したらこちらを表示\n",
        "        except Exception as e:\n",
        "            print(f\"Couldn't convert {filename}: {e}\")#うまくいかなければこちらを表示\n",
        "    else :\n",
        "        input_filepath = os.path.join(input_dir, filename)\n",
        "        output_filepath = os.path.join(output_dir, os.path.splitext(filename)[0] + '.jpg')\n",
        "        shutil.copy(input_filepath, output_filepath)\n",
        "rename_files('/content/drive/MyDrive/OptPhotoFiles/optPhotoFiles_renamed/optPhotoFiles_nonRA_right_renamed/', 'healthy_control')\n",
        "\n",
        "# 変換する画像が含まれるディレクトリパス(nonRA_左手)\n",
        "os.makedirs('/content/drive/MyDrive/OptPhotoFiles/optPhotoFiles_renamed/optPhotoFiles_nonRA_left_renamed', exist_ok=True)\n",
        "input_dir = '/content/drive/MyDrive/OptPhotoFiles/optPhotoFiles/nonRA/nonRA_Left_Hand'\n",
        "output_dir = '/content/drive/MyDrive/OptPhotoFiles/optPhotoFiles_renamed/optPhotoFiles_nonRA_left_renamed'\n",
        "#input_dirの内部を検索\n",
        "for filename in os.listdir(input_dir):\n",
        "    if filename.lower().endswith('.heic'):\n",
        "        input_filepath = os.path.join(input_dir, filename)\n",
        "        output_filepath = os.path.join(output_dir, os.path.splitext(filename)[0] + '.jpg')\n",
        "\n",
        "        try:\n",
        "            heic_convert_to(input_filepath, output_filepath)#関数;heic_convert_toを実行\n",
        "            print(f\"Converted {filename} to JPEG\")#作業に成功したらこちらを表示\n",
        "        except Exception as e:\n",
        "            print(f\"Couldn't convert {filename}: {e}\")#うまくいかなければこちらを表示\n",
        "    else :\n",
        "        input_filepath = os.path.join(input_dir, filename)\n",
        "        output_filepath = os.path.join(output_dir, os.path.splitext(filename)[0] + '.jpg')\n",
        "        shutil.copy(input_filepath, output_filepath)\n",
        "rename_files('/content/drive/MyDrive/OptPhotoFiles/optPhotoFiles_renamed/optPhotoFiles_nonRA_left_renamed/', 'healthy_control')\n",
        "\n",
        "# 変換する画像が含まれるディレクトリパス(RA_右手)\n",
        "os.makedirs('/content/drive/MyDrive/OptPhotoFiles/optPhotoFiles_renamed/optPhotoFiles_RA_right_renamed', exist_ok=True)\n",
        "input_dir = '/content/drive/MyDrive/OptPhotoFiles/optPhotoFiles/RA/RA_Right_Hand'\n",
        "output_dir = '/content/drive/MyDrive/OptPhotoFiles/optPhotoFiles_renamed/optPhotoFiles_RA_right_renamed'\n",
        "#input_dirの内部を検索\n",
        "for filename in os.listdir(input_dir):\n",
        "    if filename.lower().endswith('.heic'):\n",
        "        input_filepath = os.path.join(input_dir, filename)\n",
        "        output_filepath = os.path.join(output_dir, os.path.splitext(filename)[0] + '.jpg')\n",
        "\n",
        "        try:\n",
        "            heic_convert_to(input_filepath, output_filepath)#関数;heic_convert_toを実行\n",
        "            print(f\"Converted {filename} to JPEG\")#作業に成功したらこちらを表示\n",
        "        except Exception as e:\n",
        "            print(f\"Couldn't convert {filename}: {e}\")#うまくいかなければこちらを表示\n",
        "    else :\n",
        "        input_filepath = os.path.join(input_dir, filename)\n",
        "        output_filepath = os.path.join(output_dir, os.path.splitext(filename)[0] + '.jpg')\n",
        "        shutil.copy(input_filepath, output_filepath)\n",
        "rename_files('/content/drive/MyDrive/OptPhotoFiles/optPhotoFiles_renamed/optPhotoFiles_RA_right_renamed/', 'patients')\n",
        "\n",
        "# 変換する画像が含まれるディレクトリパス(RA_左手)\n",
        "os.makedirs('/content/drive/MyDrive/OptPhotoFiles/optPhotoFiles_renamed/optPhotoFiles_RA_left_renamed', exist_ok=True)\n",
        "input_dir = '/content/drive/MyDrive/OptPhotoFiles/optPhotoFiles/RA/RA_Left_Hand'\n",
        "output_dir = '/content/drive/MyDrive/OptPhotoFiles/optPhotoFiles_renamed/optPhotoFiles_RA_left_renamed'\n",
        "#input_dirの内部を検索\n",
        "for filename in os.listdir(input_dir):\n",
        "    if filename.lower().endswith('.heic'):\n",
        "        input_filepath = os.path.join(input_dir, filename)\n",
        "        output_filepath = os.path.join(output_dir, os.path.splitext(filename)[0] + '.jpg')\n",
        "\n",
        "        try:\n",
        "            heic_convert_to(input_filepath, output_filepath)#関数;heic_convert_toを実行\n",
        "            print(f\"Converted {filename} to JPEG\")#作業に成功したらこちらを表示\n",
        "        except Exception as e:\n",
        "            print(f\"Couldn't convert {filename}: {e}\")#うまくいかなければこちらを表示\n",
        "    else :\n",
        "        input_filepath = os.path.join(input_dir, filename)\n",
        "        output_filepath = os.path.join(output_dir, os.path.splitext(filename)[0] + '.jpg')\n",
        "        shutil.copy(input_filepath, output_filepath)\n",
        "rename_files('/content/drive/MyDrive/OptPhotoFiles/optPhotoFiles_renamed/optPhotoFiles_RA_left_renamed/', 'patients')"
      ],
      "metadata": {
        "colab": {
          "base_uri": "https://localhost:8080/"
        },
        "id": "L9S0_3DlXEyD",
        "outputId": "775f458b-0d7b-42c9-fb79-0283c74d55c6"
      },
      "execution_count": 13,
      "outputs": [
        {
          "output_type": "stream",
          "name": "stdout",
          "text": [
            "Converted IMG_1797 - Ho2O hO2O.HEIC to JPEG\n",
            "Converted IMG_2324 - Yuuki Uchida.HEIC to JPEG\n",
            "Couldn't convert IMG_6586 - あこすあこす.HEIC: Input is not a HEIF/AVIF file\n",
            "Converted IMG_1907 - Manami Okamura.HEIC to JPEG\n",
            "Converted IMG_9517 - kujilife.HEIC to JPEG\n",
            "Converted IMG_7199 (2) - Akira Ishida.HEIC to JPEG\n",
            "Converted IMG_9772 - 虎金六知ひーやん.HEIC to JPEG\n",
            "Converted 85597DAA-3D79-48F4-9D3A-B2D814E104C2_1_201_a - u akitakeru.heic to JPEG\n",
            "Converted IMG_3830 - TA KE.HEIC to JPEG\n",
            "Converted CFB65066-75A1-41BA-8A5F-647920ED0899 - T T (瀧).heic to JPEG\n",
            "Converted IMG_8542 - 長尾早希.HEIC to JPEG\n",
            "Converted IMG_5739 - 黒川京子.HEIC to JPEG\n",
            "Converted IMG_1981 - Ayaka Saito.HEIC to JPEG\n",
            "Converted IMG_3200 - 星空.HEIC to JPEG\n",
            "Converted 4F665B36-1D03-40F8-BCD6-6FE616E12B22 - 茅原陽子.heic to JPEG\n",
            "Converted IMG_7850 - 稲美.HEIC to JPEG\n",
            "Converted IMG_7729 - mayu.HEIC to JPEG\n",
            "Converted IMG_3821 - KT_DB.HEIC to JPEG\n",
            "Converted IMG_0350 - Yuki Nakazawa.HEIC to JPEG\n",
            "Converted 9ACDA11C-8900-4391-B5CA-CB03144BE301 - 桃式会社Liam.heic to JPEG\n",
            "Converted IMG_8141 - 長岡知宏.HEIC to JPEG\n",
            "Converted IMG_4804 - 小野一樹.HEIC to JPEG\n",
            "Converted IMG_8891 - Keigo Tsubata.HEIC to JPEG\n",
            "Converted IMG_9897 - ともこ.HEIC to JPEG\n",
            "Converted IMG_6933 - Arisa Arakawa.HEIC to JPEG\n",
            "Converted IMG_3297 - Hitomi Hiraoka.HEIC to JPEG\n",
            "Converted IMG_1344 - 誠整体.HEIC to JPEG\n",
            "Converted 37B2A806-09DE-4A6C-AA04-636BEB743146 - りょう.heic to JPEG\n",
            "Converted IMG_7865 - 吉川雅之.HEIC to JPEG\n",
            "Converted IMG_2485 - りも.HEIC to JPEG\n",
            "Converted IMG_2437 - 浦邊大史.HEIC to JPEG\n",
            "Converted IMG_7065 - ネギガナイトユウキ.HEIC to JPEG\n",
            "Converted 20230907_052344 - 隆幸.heic to JPEG\n",
            "Converted IMG_6108 - ラッド睦.HEIC to JPEG\n",
            "Converted IMG_4418 - Yuka Hirabayashi.HEIC to JPEG\n",
            "Converted IMG_0717 - S S.HEIC to JPEG\n",
            "Converted IMG_2684 - ひで.HEIC to JPEG\n",
            "Converted IMG_6049 - 坂本藍樹.HEIC to JPEG\n",
            "Converted IMG_0679 - Kondo Rie.heic to JPEG\n",
            "Converted IMG_1752 - 都濃政也.heic to JPEG\n",
            "Converted IMG_8733 - Mai Tada.heic to JPEG\n",
            "Converted IMG_0124 - norie sugihara (おつる).HEIC to JPEG\n",
            "Converted IMG_7052 - あびこ.HEIC to JPEG\n",
            "Converted IMG_1012 - 堀江美友.HEIC to JPEG\n",
            "Converted IMG_6673 - 古関絵美子.HEIC to JPEG\n",
            "Converted IMG_3913 - Kana Kawai.HEIC to JPEG\n",
            "Converted IMG_7593 - Re_ poris.HEIC to JPEG\n",
            "Converted Migite - Les Cocos.heic to JPEG\n",
            "Converted IMG_1521 - Lola RománTaketomi.HEIC to JPEG\n",
            "Converted IMG_1473 - Hiroki Chiba.heic to JPEG\n",
            "Converted IMG_7638 - y k.HEIC to JPEG\n",
            "Converted IMG_0897 - 平松雄太郎（IRODORI -イロドリ-）.HEIC to JPEG\n",
            "Converted IMG_1085 - 國吉大悟.heic to JPEG\n",
            "Converted IMG_9902 - a-ko@kca.biglobe.ne.jp.HEIC to JPEG\n",
            "Converted IMG_6392 - 榮優未.HEIC to JPEG\n",
            "Converted 10893792-962F-471E-8DBD-247C5C4D246D - Sota Okamoto.heic to JPEG\n",
            "Converted IMG_9535 - taniguchi minako.HEIC to JPEG\n",
            "Converted 9F85BCA6-6661-4216-BD90-CF41CB105FC5 - Miki Ishigaki.heic to JPEG\n",
            "Converted IMG_1796 - Ho2O hO2O.HEIC to JPEG\n",
            "Converted IMG_2325 - Yuuki Uchida.HEIC to JPEG\n",
            "Couldn't convert IMG_6587 - あこすあこす.HEIC: Input is not a HEIF/AVIF file\n",
            "Converted IMG_1905 - Manami Okamura.HEIC to JPEG\n",
            "Converted IMG_9516 - kujilife.HEIC to JPEG\n",
            "Converted IMG_7198 (1) - Akira Ishida.HEIC to JPEG\n",
            "Converted IMG_9773 - 虎金六知ひーやん.HEIC to JPEG\n",
            "Converted 02E8A61F-4014-49BB-B011-DB536054A91E_1_201_a - u akitakeru.heic to JPEG\n",
            "Converted IMG_3831 - TA KE.HEIC to JPEG\n",
            "Converted 4A280805-221B-427C-B0BD-3E90FDCCF995 - T T (瀧).heic to JPEG\n",
            "Converted IMG_8541 - 長尾早希.HEIC to JPEG\n",
            "Converted IMG_5738 - 黒川京子.HEIC to JPEG\n",
            "Converted IMG_1980 - Ayaka Saito.HEIC to JPEG\n",
            "Converted IMG_3199 - 星空.HEIC to JPEG\n",
            "Converted 695A9FCC-66CF-4B49-A7B7-6F2347AB8889 - 茅原陽子.heic to JPEG\n",
            "Converted IMG_7849 - 稲美.HEIC to JPEG\n",
            "Converted IMG_7728 - mayu.HEIC to JPEG\n",
            "Converted IMG_3822 - KT_DB.HEIC to JPEG\n",
            "Converted IMG_0348 - Yuki Nakazawa.HEIC to JPEG\n",
            "Converted 401A2CF2-4C3F-4CAF-8E47-F7B033D3A70A - 桃式会社Liam.heic to JPEG\n",
            "Converted IMG_8142 - 長岡知宏.HEIC to JPEG\n",
            "Converted IMG_0857 - 山野辺祥子.HEIC to JPEG\n",
            "Converted IMG_0858 - 山野辺祥子.HEIC to JPEG\n",
            "Converted IMG_4803 - 小野一樹.HEIC to JPEG\n",
            "Converted IMG_8892 - Keigo Tsubata.HEIC to JPEG\n",
            "Converted IMG_9896 - ともこ.HEIC to JPEG\n",
            "Converted IMG_6934 - Arisa Arakawa.HEIC to JPEG\n",
            "Converted IMG_3296 - Hitomi Hiraoka.HEIC to JPEG\n",
            "Converted IMG_1345 - 誠整体.HEIC to JPEG\n",
            "Converted FECF5CB6-0136-4B1D-A47C-B53E4D672A83 - りょう.heic to JPEG\n",
            "Converted IMG_7866 - 吉川雅之.HEIC to JPEG\n",
            "Converted IMG_2487 - りも.HEIC to JPEG\n",
            "Converted IMG_2436 - 浦邊大史.HEIC to JPEG\n",
            "Converted IMG_7064 - ネギガナイトユウキ.HEIC to JPEG\n",
            "Converted 20230907_052400 - 隆幸.heic to JPEG\n",
            "Converted IMG_6107 - ラッド睦.HEIC to JPEG\n",
            "Converted IMG_4419 - Yuka Hirabayashi.HEIC to JPEG\n",
            "Converted IMG_0716 - S S.HEIC to JPEG\n",
            "Converted IMG_2686 - ひで.HEIC to JPEG\n",
            "Converted IMG_6048 - 坂本藍樹.HEIC to JPEG\n",
            "Converted IMG_0681 - Kondo Rie.heic to JPEG\n",
            "Converted IMG_1750 - 都濃政也.heic to JPEG\n",
            "Converted IMG_8734 - Mai Tada.heic to JPEG\n",
            "Converted IMG_0131 - norie sugihara (おつる).HEIC to JPEG\n",
            "Converted IMG_7051 - あびこ.HEIC to JPEG\n",
            "Converted IMG_1011 - 堀江美友.HEIC to JPEG\n",
            "Converted IMG_6674 - 古関絵美子.HEIC to JPEG\n",
            "Converted IMG_3912 - Kana Kawai.HEIC to JPEG\n",
            "Converted IMG_7594 - Re_ poris.HEIC to JPEG\n",
            "Converted Hidarite - Les Cocos.heic to JPEG\n",
            "Converted IMG_1522 - Lola RománTaketomi.HEIC to JPEG\n",
            "Converted IMG_1474 - Hiroki Chiba.heic to JPEG\n",
            "Converted IMG_7639 - y k.HEIC to JPEG\n",
            "Converted IMG_0896 - 平松雄太郎（IRODORI -イロドリ-）.HEIC to JPEG\n",
            "Converted IMG_1084 - 國吉大悟.heic to JPEG\n",
            "Converted IMG_9903 - a-ko@kca.biglobe.ne.jp.HEIC to JPEG\n",
            "Converted IMG_6391 - 榮優未.HEIC to JPEG\n",
            "Converted 4FA8ED23-283C-4ACC-8071-61CB69E25860 - Sota Okamoto.heic to JPEG\n",
            "Converted IMG_9534 - taniguchi minako.HEIC to JPEG\n",
            "Converted 5FCAF5A5-F423-414E-B649-CA2BBDD38734 - Miki Ishigaki.heic to JPEG\n"
          ]
        }
      ]
    },
    {
      "cell_type": "markdown",
      "source": [
        "#背景ノイズ消去\n",
        "撮影された画像には、さまざまなレベルで背景に色々なものが写り込んでいる。このままでは背景画像の相違によって特徴量が抽出されてしまう危険性を否定できない。このため、セマンティックセグメンテーションの手法を使って、背景画像を白一色に統一する。\n",
        "デフォルトではMediaPipeに用意されているdeeplab_v3を搭載したモデルを使用しているが、今後はdeeplab_v3を独自に訓練したモデルを使用できるようにする。"
      ],
      "metadata": {
        "id": "mEbbHUWPaFqL"
      }
    },
    {
      "cell_type": "code",
      "source": [
        "!pip install -q mediapipe==0.10.0\n",
        "!wget -O deeplabv3.tflite -q https://storage.googleapis.com/mediapipe-models/image_segmenter/deeplab_v3/float32/1/deeplab_v3.tflite"
      ],
      "metadata": {
        "id": "JVi6KEfSZ-7k"
      },
      "execution_count": null,
      "outputs": []
    },
    {
      "cell_type": "code",
      "source": [
        "import os\n",
        "import cv2\n",
        "import numpy as np\n",
        "import mediapipe as mp\n",
        "from mediapipe.tasks import python\n",
        "from mediapipe.tasks.python import vision\n",
        "\n",
        "# 入力および出力ディレクトリを設定\n",
        "base_dir = '/content/drive/MyDrive/OptPhotoFiles/optPhotoFiles/'\n",
        "output_base_dir = '/content/drive/MyDrive/OptPhotoFiles/optPhotoFiles/segmented_photo/'\n",
        "sub_dirs = ['RA/RA_Right_Hand', 'RA/RA_Left_Hand', 'nonRA/nonRA_Right_Hand', 'nonRA/nonRA_Left_Hand']\n",
        "output_sub_dirs = ['RA/RA_Right_Hand', 'RA/RA_Left_Hand', 'nonRA/nonRA_Right_Hand', 'nonRA/nonRA_Left_Hand']\n",
        "\n",
        "# 画像のパスを取得\n",
        "image_paths = []\n",
        "for sub_dir in sub_dirs:\n",
        "    full_dir = os.path.join(base_dir, sub_dir)\n",
        "    for filename in os.listdir(full_dir):\n",
        "        if filename.endswith('.jpg'):\n",
        "            image_path = os.path.join(full_dir, filename)\n",
        "            image_paths.append(image_path)\n",
        "\n",
        "# 出力ディレクトリを作成\n",
        "for sub_dir in output_sub_dirs:\n",
        "    os.makedirs(os.path.join(output_base_dir, sub_dir), exist_ok=True)\n",
        "\n",
        "# 入力と出力のディレクトリ\n",
        "#base_dir = '/path/to/input'\n",
        "#output_base_dir = '/path/to/output'\n",
        "#os.makedirs(output_base_dir, exist_ok=True)\n",
        "\n",
        "# セグメンテーションオプションの設定\n",
        "base_options = python.BaseOptions(model_asset_path='deeplabv3.tflite')\n",
        "options = vision.ImageSegmenterOptions(base_options=base_options,\n",
        "                                       output_category_mask=True)\n",
        "\n",
        "# セグメンテーションモデルのロード\n",
        "with vision.ImageSegmenter.create_from_options(options) as segmenter:\n",
        "    # 入力ディレクトリ内のすべての画像ファイルに対して\n",
        "    for filename in os.listdir(base_dir):\n",
        "        if filename.endswith('.jpg'):\n",
        "            image_path = os.path.join(base_dir, filename)\n",
        "            image = cv2.imread(image_path)\n",
        "\n",
        "            # MediaPipeのImageオブジェクトを作成\n",
        "            mp_image = mp.Image(image=image, color_format=mp.ColorFormat.BGR)\n",
        "\n",
        "            # セグメンテーションの実行\n",
        "            segmentation_result = segmenter.segment(mp_image)\n",
        "            category_mask = segmentation_result.category_mask.numpy_view()\n",
        "\n",
        "            # 背景を白に、手の部分は元の画像を使用\n",
        "            output_image = np.where(\n",
        "                np.expand_dims(category_mask, axis=-1),\n",
        "                image,  # Hand part, keep original pixels\n",
        "                [255, 255, 255]  # Background part, set to white\n",
        "            )\n",
        "\n",
        "            # 出力画像の保存\n",
        "            output_path = os.path.join(output_base_dir, filename)\n",
        "            cv2.imwrite(output_path, output_image)"
      ],
      "metadata": {
        "id": "f49eCraSuQM3"
      },
      "execution_count": null,
      "outputs": []
    }
  ]
}