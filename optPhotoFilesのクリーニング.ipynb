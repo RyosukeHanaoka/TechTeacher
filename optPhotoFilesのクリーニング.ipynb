{
  "nbformat": 4,
  "nbformat_minor": 0,
  "metadata": {
    "colab": {
      "provenance": [],
      "authorship_tag": "ABX9TyO6A+Fw5HJKC44nDVam4ZUz",
      "include_colab_link": true
    },
    "kernelspec": {
      "name": "python3",
      "display_name": "Python 3"
    },
    "language_info": {
      "name": "python"
    }
  },
  "cells": [
    {
      "cell_type": "markdown",
      "metadata": {
        "id": "view-in-github",
        "colab_type": "text"
      },
      "source": [
        "<a href=\"https://colab.research.google.com/github/RyosukeHanaoka/TechTeacher/blob/main/optPhotoFiles%E3%81%AE%E3%82%AF%E3%83%AA%E3%83%BC%E3%83%8B%E3%83%B3%E3%82%B0.ipynb\" target=\"_parent\"><img src=\"https://colab.research.google.com/assets/colab-badge.svg\" alt=\"Open In Colab\"/></a>"
      ]
    },
    {
      "cell_type": "code",
      "source": [
        "from google.colab import drive\n",
        "drive.mount('/content/drive')"
      ],
      "metadata": {
        "colab": {
          "base_uri": "https://localhost:8080/"
        },
        "id": "N72MJ4aXuD65",
        "outputId": "5a81be0a-ddf1-4f44-abf6-c3de58380948"
      },
      "execution_count": 1,
      "outputs": [
        {
          "output_type": "stream",
          "name": "stdout",
          "text": [
            "Mounted at /content/drive\n"
          ]
        }
      ]
    },
    {
      "cell_type": "markdown",
      "source": [
        "#必要なライブラリの導入"
      ],
      "metadata": {
        "id": "6DcSKvvObSUR"
      }
    },
    {
      "cell_type": "code",
      "source": [
        "from PIL import Image\n",
        "import os\n",
        "import shutil\n",
        "!pip install pyheif\n",
        "!pip install rembg[gpu] # for library\n",
        "!pip install rembg[gpu,cli] # for library + cli\n",
        "!pip install pyheif\n",
        "!pip install --upgrade Pillow\n",
        "!pip install --upgrade opencv-python\n",
        "!pip install --upgrade opencv-contrib-python"
      ],
      "metadata": {
        "id": "tMopMNqDbQYl",
        "colab": {
          "base_uri": "https://localhost:8080/",
          "height": 1000
        },
        "outputId": "d3a8f1ad-4611-46ee-88f6-c78217bef2d8"
      },
      "execution_count": 2,
      "outputs": [
        {
          "output_type": "stream",
          "name": "stdout",
          "text": [
            "Collecting pyheif\n",
            "  Downloading pyheif-0.7.1-cp310-cp310-manylinux_2_17_x86_64.manylinux2014_x86_64.whl (9.8 MB)\n",
            "\u001b[2K     \u001b[90m━━━━━━━━━━━━━━━━━━━━━━━━━━━━━━━━━━━━━━━━\u001b[0m \u001b[32m9.8/9.8 MB\u001b[0m \u001b[31m70.5 MB/s\u001b[0m eta \u001b[36m0:00:00\u001b[0m\n",
            "\u001b[?25hRequirement already satisfied: cffi>=1.0.0 in /usr/local/lib/python3.10/dist-packages (from pyheif) (1.16.0)\n",
            "Requirement already satisfied: pycparser in /usr/local/lib/python3.10/dist-packages (from cffi>=1.0.0->pyheif) (2.21)\n",
            "Installing collected packages: pyheif\n",
            "Successfully installed pyheif-0.7.1\n",
            "Collecting rembg[gpu]\n",
            "  Downloading rembg-2.0.50-py3-none-any.whl (26 kB)\n",
            "Requirement already satisfied: numpy in /usr/local/lib/python3.10/dist-packages (from rembg[gpu]) (1.23.5)\n",
            "Collecting onnxruntime (from rembg[gpu])\n",
            "  Downloading onnxruntime-1.16.0-cp310-cp310-manylinux_2_17_x86_64.manylinux2014_x86_64.whl (6.2 MB)\n",
            "\u001b[2K     \u001b[90m━━━━━━━━━━━━━━━━━━━━━━━━━━━━━━━━━━━━━━━━\u001b[0m \u001b[32m6.2/6.2 MB\u001b[0m \u001b[31m56.9 MB/s\u001b[0m eta \u001b[36m0:00:00\u001b[0m\n",
            "\u001b[?25hRequirement already satisfied: opencv-python-headless in /usr/local/lib/python3.10/dist-packages (from rembg[gpu]) (4.8.1.78)\n",
            "Requirement already satisfied: pillow in /usr/local/lib/python3.10/dist-packages (from rembg[gpu]) (9.4.0)\n",
            "Requirement already satisfied: pooch in /usr/local/lib/python3.10/dist-packages (from rembg[gpu]) (1.7.0)\n",
            "Collecting pymatting (from rembg[gpu])\n",
            "  Downloading PyMatting-1.1.10-py3-none-any.whl (52 kB)\n",
            "\u001b[2K     \u001b[90m━━━━━━━━━━━━━━━━━━━━━━━━━━━━━━━━━━━━━━━━\u001b[0m \u001b[32m52.5/52.5 kB\u001b[0m \u001b[31m5.7 MB/s\u001b[0m eta \u001b[36m0:00:00\u001b[0m\n",
            "\u001b[?25hRequirement already satisfied: scikit-image in /usr/local/lib/python3.10/dist-packages (from rembg[gpu]) (0.19.3)\n",
            "Requirement already satisfied: scipy in /usr/local/lib/python3.10/dist-packages (from rembg[gpu]) (1.11.3)\n",
            "Requirement already satisfied: tqdm in /usr/local/lib/python3.10/dist-packages (from rembg[gpu]) (4.66.1)\n",
            "Collecting onnxruntime-gpu (from rembg[gpu])\n",
            "  Downloading onnxruntime_gpu-1.16.0-cp310-cp310-manylinux_2_17_x86_64.manylinux2014_x86_64.whl (153.4 MB)\n",
            "\u001b[2K     \u001b[90m━━━━━━━━━━━━━━━━━━━━━━━━━━━━━━━━━━━━━━━\u001b[0m \u001b[32m153.4/153.4 MB\u001b[0m \u001b[31m7.0 MB/s\u001b[0m eta \u001b[36m0:00:00\u001b[0m\n",
            "\u001b[?25hCollecting coloredlogs (from onnxruntime->rembg[gpu])\n",
            "  Downloading coloredlogs-15.0.1-py2.py3-none-any.whl (46 kB)\n",
            "\u001b[2K     \u001b[90m━━━━━━━━━━━━━━━━━━━━━━━━━━━━━━━━━━━━━━━━\u001b[0m \u001b[32m46.0/46.0 kB\u001b[0m \u001b[31m5.6 MB/s\u001b[0m eta \u001b[36m0:00:00\u001b[0m\n",
            "\u001b[?25hRequirement already satisfied: flatbuffers in /usr/local/lib/python3.10/dist-packages (from onnxruntime->rembg[gpu]) (23.5.26)\n",
            "Requirement already satisfied: packaging in /usr/local/lib/python3.10/dist-packages (from onnxruntime->rembg[gpu]) (23.2)\n",
            "Requirement already satisfied: protobuf in /usr/local/lib/python3.10/dist-packages (from onnxruntime->rembg[gpu]) (3.20.3)\n",
            "Requirement already satisfied: sympy in /usr/local/lib/python3.10/dist-packages (from onnxruntime->rembg[gpu]) (1.12)\n",
            "Requirement already satisfied: platformdirs>=2.5.0 in /usr/local/lib/python3.10/dist-packages (from pooch->rembg[gpu]) (3.11.0)\n",
            "Requirement already satisfied: requests>=2.19.0 in /usr/local/lib/python3.10/dist-packages (from pooch->rembg[gpu]) (2.31.0)\n",
            "Requirement already satisfied: numba!=0.49.0 in /usr/local/lib/python3.10/dist-packages (from pymatting->rembg[gpu]) (0.56.4)\n",
            "Requirement already satisfied: networkx>=2.2 in /usr/local/lib/python3.10/dist-packages (from scikit-image->rembg[gpu]) (3.1)\n",
            "Requirement already satisfied: imageio>=2.4.1 in /usr/local/lib/python3.10/dist-packages (from scikit-image->rembg[gpu]) (2.31.5)\n",
            "Requirement already satisfied: tifffile>=2019.7.26 in /usr/local/lib/python3.10/dist-packages (from scikit-image->rembg[gpu]) (2023.9.26)\n",
            "Requirement already satisfied: PyWavelets>=1.1.1 in /usr/local/lib/python3.10/dist-packages (from scikit-image->rembg[gpu]) (1.4.1)\n",
            "Requirement already satisfied: llvmlite<0.40,>=0.39.0dev0 in /usr/local/lib/python3.10/dist-packages (from numba!=0.49.0->pymatting->rembg[gpu]) (0.39.1)\n",
            "Requirement already satisfied: setuptools in /usr/local/lib/python3.10/dist-packages (from numba!=0.49.0->pymatting->rembg[gpu]) (67.7.2)\n",
            "Requirement already satisfied: charset-normalizer<4,>=2 in /usr/local/lib/python3.10/dist-packages (from requests>=2.19.0->pooch->rembg[gpu]) (3.3.0)\n",
            "Requirement already satisfied: idna<4,>=2.5 in /usr/local/lib/python3.10/dist-packages (from requests>=2.19.0->pooch->rembg[gpu]) (3.4)\n",
            "Requirement already satisfied: urllib3<3,>=1.21.1 in /usr/local/lib/python3.10/dist-packages (from requests>=2.19.0->pooch->rembg[gpu]) (2.0.6)\n",
            "Requirement already satisfied: certifi>=2017.4.17 in /usr/local/lib/python3.10/dist-packages (from requests>=2.19.0->pooch->rembg[gpu]) (2023.7.22)\n",
            "Collecting humanfriendly>=9.1 (from coloredlogs->onnxruntime->rembg[gpu])\n",
            "  Downloading humanfriendly-10.0-py2.py3-none-any.whl (86 kB)\n",
            "\u001b[2K     \u001b[90m━━━━━━━━━━━━━━━━━━━━━━━━━━━━━━━━━━━━━━━━\u001b[0m \u001b[32m86.8/86.8 kB\u001b[0m \u001b[31m10.7 MB/s\u001b[0m eta \u001b[36m0:00:00\u001b[0m\n",
            "\u001b[?25hRequirement already satisfied: mpmath>=0.19 in /usr/local/lib/python3.10/dist-packages (from sympy->onnxruntime->rembg[gpu]) (1.3.0)\n",
            "Installing collected packages: humanfriendly, pymatting, coloredlogs, onnxruntime-gpu, onnxruntime, rembg\n",
            "Successfully installed coloredlogs-15.0.1 humanfriendly-10.0 onnxruntime-1.16.0 onnxruntime-gpu-1.16.0 pymatting-1.1.10 rembg-2.0.50\n",
            "Requirement already satisfied: rembg[cli,gpu] in /usr/local/lib/python3.10/dist-packages (2.0.50)\n",
            "Requirement already satisfied: numpy in /usr/local/lib/python3.10/dist-packages (from rembg[cli,gpu]) (1.23.5)\n",
            "Requirement already satisfied: onnxruntime in /usr/local/lib/python3.10/dist-packages (from rembg[cli,gpu]) (1.16.0)\n",
            "Requirement already satisfied: opencv-python-headless in /usr/local/lib/python3.10/dist-packages (from rembg[cli,gpu]) (4.8.1.78)\n",
            "Requirement already satisfied: pillow in /usr/local/lib/python3.10/dist-packages (from rembg[cli,gpu]) (9.4.0)\n",
            "Requirement already satisfied: pooch in /usr/local/lib/python3.10/dist-packages (from rembg[cli,gpu]) (1.7.0)\n",
            "Requirement already satisfied: pymatting in /usr/local/lib/python3.10/dist-packages (from rembg[cli,gpu]) (1.1.10)\n",
            "Requirement already satisfied: scikit-image in /usr/local/lib/python3.10/dist-packages (from rembg[cli,gpu]) (0.19.3)\n",
            "Requirement already satisfied: scipy in /usr/local/lib/python3.10/dist-packages (from rembg[cli,gpu]) (1.11.3)\n",
            "Requirement already satisfied: tqdm in /usr/local/lib/python3.10/dist-packages (from rembg[cli,gpu]) (4.66.1)\n",
            "Requirement already satisfied: onnxruntime-gpu in /usr/local/lib/python3.10/dist-packages (from rembg[cli,gpu]) (1.16.0)\n",
            "Requirement already satisfied: aiohttp in /usr/local/lib/python3.10/dist-packages (from rembg[cli,gpu]) (3.8.5)\n",
            "Collecting asyncer (from rembg[cli,gpu])\n",
            "  Downloading asyncer-0.0.2-py3-none-any.whl (8.3 kB)\n",
            "Requirement already satisfied: click in /usr/local/lib/python3.10/dist-packages (from rembg[cli,gpu]) (8.1.7)\n",
            "Collecting fastapi (from rembg[cli,gpu])\n",
            "  Downloading fastapi-0.103.2-py3-none-any.whl (66 kB)\n",
            "\u001b[2K     \u001b[90m━━━━━━━━━━━━━━━━━━━━━━━━━━━━━━━━━━━━━━━━\u001b[0m \u001b[32m66.3/66.3 kB\u001b[0m \u001b[31m4.1 MB/s\u001b[0m eta \u001b[36m0:00:00\u001b[0m\n",
            "\u001b[?25hCollecting filetype (from rembg[cli,gpu])\n",
            "  Downloading filetype-1.2.0-py2.py3-none-any.whl (19 kB)\n",
            "Collecting gradio (from rembg[cli,gpu])\n",
            "  Downloading gradio-3.47.1-py3-none-any.whl (20.3 MB)\n",
            "\u001b[2K     \u001b[90m━━━━━━━━━━━━━━━━━━━━━━━━━━━━━━━━━━━━━━━━\u001b[0m \u001b[32m20.3/20.3 MB\u001b[0m \u001b[31m45.6 MB/s\u001b[0m eta \u001b[36m0:00:00\u001b[0m\n",
            "\u001b[?25hCollecting python-multipart (from rembg[cli,gpu])\n",
            "  Downloading python_multipart-0.0.6-py3-none-any.whl (45 kB)\n",
            "\u001b[2K     \u001b[90m━━━━━━━━━━━━━━━━━━━━━━━━━━━━━━━━━━━━━━━━\u001b[0m \u001b[32m45.7/45.7 kB\u001b[0m \u001b[31m5.6 MB/s\u001b[0m eta \u001b[36m0:00:00\u001b[0m\n",
            "\u001b[?25hCollecting uvicorn (from rembg[cli,gpu])\n",
            "  Downloading uvicorn-0.23.2-py3-none-any.whl (59 kB)\n",
            "\u001b[2K     \u001b[90m━━━━━━━━━━━━━━━━━━━━━━━━━━━━━━━━━━━━━━━━\u001b[0m \u001b[32m59.5/59.5 kB\u001b[0m \u001b[31m7.3 MB/s\u001b[0m eta \u001b[36m0:00:00\u001b[0m\n",
            "\u001b[?25hCollecting watchdog (from rembg[cli,gpu])\n",
            "  Downloading watchdog-3.0.0-py3-none-manylinux2014_x86_64.whl (82 kB)\n",
            "\u001b[2K     \u001b[90m━━━━━━━━━━━━━━━━━━━━━━━━━━━━━━━━━━━━━━━━\u001b[0m \u001b[32m82.1/82.1 kB\u001b[0m \u001b[31m9.7 MB/s\u001b[0m eta \u001b[36m0:00:00\u001b[0m\n",
            "\u001b[?25hRequirement already satisfied: attrs>=17.3.0 in /usr/local/lib/python3.10/dist-packages (from aiohttp->rembg[cli,gpu]) (23.1.0)\n",
            "Requirement already satisfied: charset-normalizer<4.0,>=2.0 in /usr/local/lib/python3.10/dist-packages (from aiohttp->rembg[cli,gpu]) (3.3.0)\n",
            "Requirement already satisfied: multidict<7.0,>=4.5 in /usr/local/lib/python3.10/dist-packages (from aiohttp->rembg[cli,gpu]) (6.0.4)\n",
            "Requirement already satisfied: async-timeout<5.0,>=4.0.0a3 in /usr/local/lib/python3.10/dist-packages (from aiohttp->rembg[cli,gpu]) (4.0.3)\n",
            "Requirement already satisfied: yarl<2.0,>=1.0 in /usr/local/lib/python3.10/dist-packages (from aiohttp->rembg[cli,gpu]) (1.9.2)\n",
            "Requirement already satisfied: frozenlist>=1.1.1 in /usr/local/lib/python3.10/dist-packages (from aiohttp->rembg[cli,gpu]) (1.4.0)\n",
            "Requirement already satisfied: aiosignal>=1.1.2 in /usr/local/lib/python3.10/dist-packages (from aiohttp->rembg[cli,gpu]) (1.3.1)\n",
            "Requirement already satisfied: anyio<4.0.0,>=3.4.0 in /usr/local/lib/python3.10/dist-packages (from asyncer->rembg[cli,gpu]) (3.7.1)\n",
            "Requirement already satisfied: pydantic!=1.8,!=1.8.1,!=2.0.0,!=2.0.1,!=2.1.0,<3.0.0,>=1.7.4 in /usr/local/lib/python3.10/dist-packages (from fastapi->rembg[cli,gpu]) (1.10.13)\n",
            "Collecting starlette<0.28.0,>=0.27.0 (from fastapi->rembg[cli,gpu])\n",
            "  Downloading starlette-0.27.0-py3-none-any.whl (66 kB)\n",
            "\u001b[2K     \u001b[90m━━━━━━━━━━━━━━━━━━━━━━━━━━━━━━━━━━━━━━━━\u001b[0m \u001b[32m67.0/67.0 kB\u001b[0m \u001b[31m9.5 MB/s\u001b[0m eta \u001b[36m0:00:00\u001b[0m\n",
            "\u001b[?25hRequirement already satisfied: typing-extensions>=4.5.0 in /usr/local/lib/python3.10/dist-packages (from fastapi->rembg[cli,gpu]) (4.5.0)\n",
            "Collecting aiofiles<24.0,>=22.0 (from gradio->rembg[cli,gpu])\n",
            "  Downloading aiofiles-23.2.1-py3-none-any.whl (15 kB)\n",
            "Requirement already satisfied: altair<6.0,>=4.2.0 in /usr/local/lib/python3.10/dist-packages (from gradio->rembg[cli,gpu]) (4.2.2)\n",
            "Collecting ffmpy (from gradio->rembg[cli,gpu])\n",
            "  Downloading ffmpy-0.3.1.tar.gz (5.5 kB)\n",
            "  Preparing metadata (setup.py) ... \u001b[?25l\u001b[?25hdone\n",
            "Collecting gradio-client==0.6.0 (from gradio->rembg[cli,gpu])\n",
            "  Downloading gradio_client-0.6.0-py3-none-any.whl (298 kB)\n",
            "\u001b[2K     \u001b[90m━━━━━━━━━━━━━━━━━━━━━━━━━━━━━━━━━━━━━━\u001b[0m \u001b[32m298.8/298.8 kB\u001b[0m \u001b[31m32.3 MB/s\u001b[0m eta \u001b[36m0:00:00\u001b[0m\n",
            "\u001b[?25hCollecting httpx (from gradio->rembg[cli,gpu])\n",
            "  Downloading httpx-0.25.0-py3-none-any.whl (75 kB)\n",
            "\u001b[2K     \u001b[90m━━━━━━━━━━━━━━━━━━━━━━━━━━━━━━━━━━━━━━━━\u001b[0m \u001b[32m75.7/75.7 kB\u001b[0m \u001b[31m9.3 MB/s\u001b[0m eta \u001b[36m0:00:00\u001b[0m\n",
            "\u001b[?25hCollecting huggingface-hub>=0.14.0 (from gradio->rembg[cli,gpu])\n",
            "  Downloading huggingface_hub-0.18.0-py3-none-any.whl (301 kB)\n",
            "\u001b[2K     \u001b[90m━━━━━━━━━━━━━━━━━━━━━━━━━━━━━━━━━━━━━━\u001b[0m \u001b[32m302.0/302.0 kB\u001b[0m \u001b[31m34.9 MB/s\u001b[0m eta \u001b[36m0:00:00\u001b[0m\n",
            "\u001b[?25hRequirement already satisfied: importlib-resources<7.0,>=1.3 in /usr/local/lib/python3.10/dist-packages (from gradio->rembg[cli,gpu]) (6.1.0)\n",
            "Requirement already satisfied: jinja2<4.0 in /usr/local/lib/python3.10/dist-packages (from gradio->rembg[cli,gpu]) (3.1.2)\n",
            "Requirement already satisfied: markupsafe~=2.0 in /usr/local/lib/python3.10/dist-packages (from gradio->rembg[cli,gpu]) (2.1.3)\n",
            "Requirement already satisfied: matplotlib~=3.0 in /usr/local/lib/python3.10/dist-packages (from gradio->rembg[cli,gpu]) (3.7.1)\n",
            "Collecting orjson~=3.0 (from gradio->rembg[cli,gpu])\n",
            "  Downloading orjson-3.9.8-cp310-cp310-manylinux_2_17_x86_64.manylinux2014_x86_64.whl (138 kB)\n",
            "\u001b[2K     \u001b[90m━━━━━━━━━━━━━━━━━━━━━━━━━━━━━━━━━━━━━━\u001b[0m \u001b[32m138.7/138.7 kB\u001b[0m \u001b[31m13.4 MB/s\u001b[0m eta \u001b[36m0:00:00\u001b[0m\n",
            "\u001b[?25hRequirement already satisfied: packaging in /usr/local/lib/python3.10/dist-packages (from gradio->rembg[cli,gpu]) (23.2)\n",
            "Requirement already satisfied: pandas<3.0,>=1.0 in /usr/local/lib/python3.10/dist-packages (from gradio->rembg[cli,gpu]) (1.5.3)\n",
            "Collecting pydub (from gradio->rembg[cli,gpu])\n",
            "  Downloading pydub-0.25.1-py2.py3-none-any.whl (32 kB)\n",
            "Requirement already satisfied: pyyaml<7.0,>=5.0 in /usr/local/lib/python3.10/dist-packages (from gradio->rembg[cli,gpu]) (6.0.1)\n",
            "Requirement already satisfied: requests~=2.0 in /usr/local/lib/python3.10/dist-packages (from gradio->rembg[cli,gpu]) (2.31.0)\n",
            "Collecting semantic-version~=2.0 (from gradio->rembg[cli,gpu])\n",
            "  Downloading semantic_version-2.10.0-py2.py3-none-any.whl (15 kB)\n",
            "Collecting websockets<12.0,>=10.0 (from gradio->rembg[cli,gpu])\n",
            "  Downloading websockets-11.0.3-cp310-cp310-manylinux_2_5_x86_64.manylinux1_x86_64.manylinux_2_17_x86_64.manylinux2014_x86_64.whl (129 kB)\n",
            "\u001b[2K     \u001b[90m━━━━━━━━━━━━━━━━━━━━━━━━━━━━━━━━━━━━━━\u001b[0m \u001b[32m129.9/129.9 kB\u001b[0m \u001b[31m14.8 MB/s\u001b[0m eta \u001b[36m0:00:00\u001b[0m\n",
            "\u001b[?25hRequirement already satisfied: fsspec in /usr/local/lib/python3.10/dist-packages (from gradio-client==0.6.0->gradio->rembg[cli,gpu]) (2023.6.0)\n",
            "Collecting h11>=0.8 (from uvicorn->rembg[cli,gpu])\n",
            "  Downloading h11-0.14.0-py3-none-any.whl (58 kB)\n",
            "\u001b[2K     \u001b[90m━━━━━━━━━━━━━━━━━━━━━━━━━━━━━━━━━━━━━━━━\u001b[0m \u001b[32m58.3/58.3 kB\u001b[0m \u001b[31m7.8 MB/s\u001b[0m eta \u001b[36m0:00:00\u001b[0m\n",
            "\u001b[?25hRequirement already satisfied: coloredlogs in /usr/local/lib/python3.10/dist-packages (from onnxruntime->rembg[cli,gpu]) (15.0.1)\n",
            "Requirement already satisfied: flatbuffers in /usr/local/lib/python3.10/dist-packages (from onnxruntime->rembg[cli,gpu]) (23.5.26)\n",
            "Requirement already satisfied: protobuf in /usr/local/lib/python3.10/dist-packages (from onnxruntime->rembg[cli,gpu]) (3.20.3)\n",
            "Requirement already satisfied: sympy in /usr/local/lib/python3.10/dist-packages (from onnxruntime->rembg[cli,gpu]) (1.12)\n",
            "Requirement already satisfied: platformdirs>=2.5.0 in /usr/local/lib/python3.10/dist-packages (from pooch->rembg[cli,gpu]) (3.11.0)\n",
            "Requirement already satisfied: numba!=0.49.0 in /usr/local/lib/python3.10/dist-packages (from pymatting->rembg[cli,gpu]) (0.56.4)\n",
            "Requirement already satisfied: networkx>=2.2 in /usr/local/lib/python3.10/dist-packages (from scikit-image->rembg[cli,gpu]) (3.1)\n",
            "Requirement already satisfied: imageio>=2.4.1 in /usr/local/lib/python3.10/dist-packages (from scikit-image->rembg[cli,gpu]) (2.31.5)\n",
            "Requirement already satisfied: tifffile>=2019.7.26 in /usr/local/lib/python3.10/dist-packages (from scikit-image->rembg[cli,gpu]) (2023.9.26)\n",
            "Requirement already satisfied: PyWavelets>=1.1.1 in /usr/local/lib/python3.10/dist-packages (from scikit-image->rembg[cli,gpu]) (1.4.1)\n",
            "Requirement already satisfied: entrypoints in /usr/local/lib/python3.10/dist-packages (from altair<6.0,>=4.2.0->gradio->rembg[cli,gpu]) (0.4)\n",
            "Requirement already satisfied: jsonschema>=3.0 in /usr/local/lib/python3.10/dist-packages (from altair<6.0,>=4.2.0->gradio->rembg[cli,gpu]) (4.19.1)\n",
            "Requirement already satisfied: toolz in /usr/local/lib/python3.10/dist-packages (from altair<6.0,>=4.2.0->gradio->rembg[cli,gpu]) (0.12.0)\n",
            "Requirement already satisfied: idna>=2.8 in /usr/local/lib/python3.10/dist-packages (from anyio<4.0.0,>=3.4.0->asyncer->rembg[cli,gpu]) (3.4)\n",
            "Requirement already satisfied: sniffio>=1.1 in /usr/local/lib/python3.10/dist-packages (from anyio<4.0.0,>=3.4.0->asyncer->rembg[cli,gpu]) (1.3.0)\n",
            "Requirement already satisfied: exceptiongroup in /usr/local/lib/python3.10/dist-packages (from anyio<4.0.0,>=3.4.0->asyncer->rembg[cli,gpu]) (1.1.3)\n",
            "Requirement already satisfied: filelock in /usr/local/lib/python3.10/dist-packages (from huggingface-hub>=0.14.0->gradio->rembg[cli,gpu]) (3.12.4)\n",
            "Requirement already satisfied: contourpy>=1.0.1 in /usr/local/lib/python3.10/dist-packages (from matplotlib~=3.0->gradio->rembg[cli,gpu]) (1.1.1)\n",
            "Requirement already satisfied: cycler>=0.10 in /usr/local/lib/python3.10/dist-packages (from matplotlib~=3.0->gradio->rembg[cli,gpu]) (0.12.0)\n",
            "Requirement already satisfied: fonttools>=4.22.0 in /usr/local/lib/python3.10/dist-packages (from matplotlib~=3.0->gradio->rembg[cli,gpu]) (4.43.1)\n",
            "Requirement already satisfied: kiwisolver>=1.0.1 in /usr/local/lib/python3.10/dist-packages (from matplotlib~=3.0->gradio->rembg[cli,gpu]) (1.4.5)\n",
            "Requirement already satisfied: pyparsing>=2.3.1 in /usr/local/lib/python3.10/dist-packages (from matplotlib~=3.0->gradio->rembg[cli,gpu]) (3.1.1)\n",
            "Requirement already satisfied: python-dateutil>=2.7 in /usr/local/lib/python3.10/dist-packages (from matplotlib~=3.0->gradio->rembg[cli,gpu]) (2.8.2)\n",
            "Requirement already satisfied: llvmlite<0.40,>=0.39.0dev0 in /usr/local/lib/python3.10/dist-packages (from numba!=0.49.0->pymatting->rembg[cli,gpu]) (0.39.1)\n",
            "Requirement already satisfied: setuptools in /usr/local/lib/python3.10/dist-packages (from numba!=0.49.0->pymatting->rembg[cli,gpu]) (67.7.2)\n",
            "Requirement already satisfied: pytz>=2020.1 in /usr/local/lib/python3.10/dist-packages (from pandas<3.0,>=1.0->gradio->rembg[cli,gpu]) (2023.3.post1)\n",
            "Requirement already satisfied: urllib3<3,>=1.21.1 in /usr/local/lib/python3.10/dist-packages (from requests~=2.0->gradio->rembg[cli,gpu]) (2.0.6)\n",
            "Requirement already satisfied: certifi>=2017.4.17 in /usr/local/lib/python3.10/dist-packages (from requests~=2.0->gradio->rembg[cli,gpu]) (2023.7.22)\n",
            "Requirement already satisfied: humanfriendly>=9.1 in /usr/local/lib/python3.10/dist-packages (from coloredlogs->onnxruntime->rembg[cli,gpu]) (10.0)\n",
            "Collecting httpcore<0.19.0,>=0.18.0 (from httpx->gradio->rembg[cli,gpu])\n",
            "  Downloading httpcore-0.18.0-py3-none-any.whl (76 kB)\n",
            "\u001b[2K     \u001b[90m━━━━━━━━━━━━━━━━━━━━━━━━━━━━━━━━━━━━━━━━\u001b[0m \u001b[32m76.0/76.0 kB\u001b[0m \u001b[31m8.7 MB/s\u001b[0m eta \u001b[36m0:00:00\u001b[0m\n",
            "\u001b[?25hRequirement already satisfied: mpmath>=0.19 in /usr/local/lib/python3.10/dist-packages (from sympy->onnxruntime->rembg[cli,gpu]) (1.3.0)\n",
            "Requirement already satisfied: jsonschema-specifications>=2023.03.6 in /usr/local/lib/python3.10/dist-packages (from jsonschema>=3.0->altair<6.0,>=4.2.0->gradio->rembg[cli,gpu]) (2023.7.1)\n",
            "Requirement already satisfied: referencing>=0.28.4 in /usr/local/lib/python3.10/dist-packages (from jsonschema>=3.0->altair<6.0,>=4.2.0->gradio->rembg[cli,gpu]) (0.30.2)\n",
            "Requirement already satisfied: rpds-py>=0.7.1 in /usr/local/lib/python3.10/dist-packages (from jsonschema>=3.0->altair<6.0,>=4.2.0->gradio->rembg[cli,gpu]) (0.10.4)\n",
            "Requirement already satisfied: six>=1.5 in /usr/local/lib/python3.10/dist-packages (from python-dateutil>=2.7->matplotlib~=3.0->gradio->rembg[cli,gpu]) (1.16.0)\n",
            "Building wheels for collected packages: ffmpy\n",
            "  Building wheel for ffmpy (setup.py) ... \u001b[?25l\u001b[?25hdone\n",
            "  Created wheel for ffmpy: filename=ffmpy-0.3.1-py3-none-any.whl size=5579 sha256=343db5bac9e818009bca0d43a1fd220023aa859a24f3ca10f8c1a9350c4e9e66\n",
            "  Stored in directory: /root/.cache/pip/wheels/01/a6/d1/1c0828c304a4283b2c1639a09ad86f83d7c487ef34c6b4a1bf\n",
            "Successfully built ffmpy\n",
            "Installing collected packages: pydub, filetype, ffmpy, websockets, watchdog, semantic-version, python-multipart, orjson, h11, aiofiles, uvicorn, starlette, huggingface-hub, httpcore, asyncer, httpx, fastapi, gradio-client, gradio\n",
            "Successfully installed aiofiles-23.2.1 asyncer-0.0.2 fastapi-0.103.2 ffmpy-0.3.1 filetype-1.2.0 gradio-3.47.1 gradio-client-0.6.0 h11-0.14.0 httpcore-0.18.0 httpx-0.25.0 huggingface-hub-0.18.0 orjson-3.9.8 pydub-0.25.1 python-multipart-0.0.6 semantic-version-2.10.0 starlette-0.27.0 uvicorn-0.23.2 watchdog-3.0.0 websockets-11.0.3\n",
            "Requirement already satisfied: pyheif in /usr/local/lib/python3.10/dist-packages (0.7.1)\n",
            "Requirement already satisfied: cffi>=1.0.0 in /usr/local/lib/python3.10/dist-packages (from pyheif) (1.16.0)\n",
            "Requirement already satisfied: pycparser in /usr/local/lib/python3.10/dist-packages (from cffi>=1.0.0->pyheif) (2.21)\n",
            "Requirement already satisfied: Pillow in /usr/local/lib/python3.10/dist-packages (9.4.0)\n",
            "Collecting Pillow\n",
            "  Downloading Pillow-10.0.1-cp310-cp310-manylinux_2_28_x86_64.whl (3.6 MB)\n",
            "\u001b[2K     \u001b[90m━━━━━━━━━━━━━━━━━━━━━━━━━━━━━━━━━━━━━━━━\u001b[0m \u001b[32m3.6/3.6 MB\u001b[0m \u001b[31m32.4 MB/s\u001b[0m eta \u001b[36m0:00:00\u001b[0m\n",
            "\u001b[?25hInstalling collected packages: Pillow\n",
            "  Attempting uninstall: Pillow\n",
            "    Found existing installation: Pillow 9.4.0\n",
            "    Uninstalling Pillow-9.4.0:\n",
            "      Successfully uninstalled Pillow-9.4.0\n",
            "Successfully installed Pillow-10.0.1\n"
          ]
        },
        {
          "output_type": "display_data",
          "data": {
            "application/vnd.colab-display-data+json": {
              "pip_warning": {
                "packages": [
                  "PIL"
                ]
              }
            }
          },
          "metadata": {}
        },
        {
          "output_type": "stream",
          "name": "stdout",
          "text": [
            "Requirement already satisfied: opencv-python in /usr/local/lib/python3.10/dist-packages (4.8.0.76)\n",
            "Collecting opencv-python\n",
            "  Downloading opencv_python-4.8.1.78-cp37-abi3-manylinux_2_17_x86_64.manylinux2014_x86_64.whl (61.7 MB)\n",
            "\u001b[2K     \u001b[90m━━━━━━━━━━━━━━━━━━━━━━━━━━━━━━━━━━━━━━━━\u001b[0m \u001b[32m61.7/61.7 MB\u001b[0m \u001b[31m15.4 MB/s\u001b[0m eta \u001b[36m0:00:00\u001b[0m\n",
            "\u001b[?25hRequirement already satisfied: numpy>=1.21.2 in /usr/local/lib/python3.10/dist-packages (from opencv-python) (1.23.5)\n",
            "Installing collected packages: opencv-python\n",
            "  Attempting uninstall: opencv-python\n",
            "    Found existing installation: opencv-python 4.8.0.76\n",
            "    Uninstalling opencv-python-4.8.0.76:\n",
            "      Successfully uninstalled opencv-python-4.8.0.76\n",
            "Successfully installed opencv-python-4.8.1.78\n",
            "Requirement already satisfied: opencv-contrib-python in /usr/local/lib/python3.10/dist-packages (4.8.0.76)\n",
            "Collecting opencv-contrib-python\n",
            "  Downloading opencv_contrib_python-4.8.1.78-cp37-abi3-manylinux_2_17_x86_64.manylinux2014_x86_64.whl (67.8 MB)\n",
            "\u001b[2K     \u001b[90m━━━━━━━━━━━━━━━━━━━━━━━━━━━━━━━━━━━━━━━━\u001b[0m \u001b[32m67.8/67.8 MB\u001b[0m \u001b[31m10.2 MB/s\u001b[0m eta \u001b[36m0:00:00\u001b[0m\n",
            "\u001b[?25hRequirement already satisfied: numpy>=1.21.2 in /usr/local/lib/python3.10/dist-packages (from opencv-contrib-python) (1.23.5)\n",
            "Installing collected packages: opencv-contrib-python\n",
            "  Attempting uninstall: opencv-contrib-python\n",
            "    Found existing installation: opencv-contrib-python 4.8.0.76\n",
            "    Uninstalling opencv-contrib-python-4.8.0.76:\n",
            "      Successfully uninstalled opencv-contrib-python-4.8.0.76\n",
            "Successfully installed opencv-contrib-python-4.8.1.78\n"
          ]
        }
      ]
    },
    {
      "cell_type": "markdown",
      "source": [
        "##データのバックアップ\n",
        "加工した画像は別に保存するので、原本がクラッシュすることはない予定だが、二重三重に原本を保護することを心がける。このため、shutil.copytree()を用いて、OptPhotoFiles/backup/内に原本のコピーを作成する。"
      ],
      "metadata": {
        "id": "saa0wWJmbYVx"
      }
    },
    {
      "cell_type": "code",
      "source": [
        "# データのバックアップ\n",
        "shutil.copytree('/content/drive/MyDrive/OptPhotoFiles/optPhotoFiles/RA/RA_Right_Hand/',\n",
        "                '/content/drive/MyDrive/OptPhotoFiles/backup/optPhotoFiles/RA_Right_Hand/')\n",
        "shutil.copytree('/content/drive/MyDrive/OptPhotoFiles/optPhotoFiles/nonRA/nonRA_Right_Hand/',\n",
        "                '/content/drive/MyDrive/OptPhotoFiles/backup/optPhotoFiles/nonRA_Right_Hand/')\n",
        "shutil.copytree('/content/drive/MyDrive/OptPhotoFiles/optPhotoFiles/RA/RA_Left_Hand/',\n",
        "                '/content/drive/MyDrive/OptPhotoFiles/backup/optPhotoFiles/RA_Left_Hand/')\n",
        "shutil.copytree('/content/drive/MyDrive/OptPhotoFiles/optPhotoFiles/nonRA/nonRA_Left_Hand/',\n",
        "                '/content/drive/MyDrive/OptPhotoFiles/backup/optPhotoFiles/nonRA_Left_Hand/')\n"
      ],
      "metadata": {
        "colab": {
          "base_uri": "https://localhost:8080/",
          "height": 156
        },
        "id": "MlbdogUWtnbo",
        "outputId": "f102aed4-6003-41b8-f147-e3997c75d05f"
      },
      "execution_count": null,
      "outputs": [
        {
          "output_type": "stream",
          "name": "stdout",
          "text": [
            "Collecting pyheif\n",
            "  Downloading pyheif-0.7.1-cp310-cp310-manylinux_2_17_x86_64.manylinux2014_x86_64.whl (9.8 MB)\n",
            "\u001b[2K     \u001b[90m━━━━━━━━━━━━━━━━━━━━━━━━━━━━━━━━━━━━━━━━\u001b[0m \u001b[32m9.8/9.8 MB\u001b[0m \u001b[31m56.6 MB/s\u001b[0m eta \u001b[36m0:00:00\u001b[0m\n",
            "\u001b[?25hRequirement already satisfied: cffi>=1.0.0 in /usr/local/lib/python3.10/dist-packages (from pyheif) (1.16.0)\n",
            "Requirement already satisfied: pycparser in /usr/local/lib/python3.10/dist-packages (from cffi>=1.0.0->pyheif) (2.21)\n",
            "Installing collected packages: pyheif\n",
            "Successfully installed pyheif-0.7.1\n"
          ]
        },
        {
          "output_type": "execute_result",
          "data": {
            "text/plain": [
              "'/content/drive/MyDrive/OptPhotoFiles/backup/optPhotoFiles/nonRA_Left_Hand/'"
            ],
            "application/vnd.google.colaboratory.intrinsic+json": {
              "type": "string"
            }
          },
          "metadata": {},
          "execution_count": 2
        }
      ]
    },
    {
      "cell_type": "markdown",
      "source": [
        "#HEICフォーマットの画像の変換\n",
        "HEICフォーマットの画像が大量に含まれていたため、pyheifライブラリを用いて、これををjpegフォーマット画像に変換する関数\"heic_convert_to\"を定義した。"
      ],
      "metadata": {
        "id": "B9Ca-3cqcQpn"
      }
    },
    {
      "cell_type": "code",
      "source": [
        "#heicを変換する関数を定義\n",
        "def heic_convert_to(heic_filename, output_filename, q=90):\n",
        "    import pyheif\n",
        "    from PIL import Image\n",
        "\n",
        "    heif = pyheif.read(heic_filename)\n",
        "\n",
        "    image = Image.frombytes(\n",
        "        heif.mode,\n",
        "        heif.size,\n",
        "        heif.data,\n",
        "        \"raw\",\n",
        "        heif.mode,\n",
        "        heif.stride,\n",
        "    )\n",
        "\n",
        "    image.save(output_filename, quality=q)"
      ],
      "metadata": {
        "id": "T0e53Ms_HOdD"
      },
      "execution_count": 3,
      "outputs": []
    },
    {
      "cell_type": "markdown",
      "source": [
        "#ファイル名の再定義関数を定義\n",
        "協力者から送られたファイル名には、日本語全角文字や個人名が含まれ、その命名規則もさまざまである。このため、これ以降、個人のプロファイリングが不可能となることを受容し、ファイル名を再定義する関数、\"rename_files\"を定義した。"
      ],
      "metadata": {
        "id": "HfZCTNSpdDbU"
      }
    },
    {
      "cell_type": "code",
      "execution_count": 4,
      "metadata": {
        "id": "Ecz_8zOYtgDk"
      },
      "outputs": [],
      "source": [
        "#ファイル名を通し番号で統一する関数\"rename_files\"を定義。\n",
        "def rename_files(directory, prefix, start_number=1):\n",
        "    counter = start_number\n",
        "    for foldername, subfolders, filenames in os.walk(directory):\n",
        "        for filename in filenames:\n",
        "            # ファイルの絶対パスを取得\n",
        "            filepath = os.path.join(foldername, filename)\n",
        "\n",
        "            # 新しいファイル名を作成\n",
        "            new_filename = f\"{prefix}_{str(counter).zfill(6)}{os.path.splitext(filename)[1]}\"\n",
        "            new_filepath = os.path.join(foldername, new_filename)\n",
        "\n",
        "            # ファイル名を変更\n",
        "            os.rename(filepath, new_filepath)\n",
        "            counter += 1"
      ]
    },
    {
      "cell_type": "markdown",
      "source": [
        "#ファイル名の再定義\n",
        "\"optPhotoFiles\"に格納されている全ファイルを変更する。患者群では、\"patients\"が、健常者群では\"healthy_control\"が含まれるファイル番号を命名する。再定義後の画像は、OptPhotoFiles/optPhotoFiles_renamed/に格納する。"
      ],
      "metadata": {
        "id": "QFhodxczYIVD"
      }
    },
    {
      "cell_type": "code",
      "source": [
        "# 変換する画像が含まれるディレクトリパス(nonRA_右手)\n",
        "os.makedirs('/content/drive/MyDrive/OptPhotoFiles/optPhotoFiles_renamed/optPhotoFiles_nonRA_right_renamed', exist_ok=True)\n",
        "input_dir = '/content/drive/MyDrive/OptPhotoFiles/optPhotoFiles/nonRA/nonRA_Right_Hand'\n",
        "output_dir = '/content/drive/MyDrive/OptPhotoFiles/optPhotoFiles_renamed/optPhotoFiles_nonRA_right_renamed'\n",
        "#input_dirの内部を検索\n",
        "for filename in os.listdir(input_dir):\n",
        "    if filename.lower().endswith('.heic'):\n",
        "        input_filepath = os.path.join(input_dir, filename)\n",
        "        output_filepath = os.path.join(output_dir, os.path.splitext(filename)[0] + '.jpg')\n",
        "        try:\n",
        "            heic_convert_to(input_filepath, output_filepath)#関数;heic_convert_toを実行\n",
        "            print(f\"Converted {filename} to JPEG\")#作業に成功したらこちらを表示\n",
        "        except Exception as e:\n",
        "            print(f\"Couldn't convert {filename}: {e}\")#うまくいかなければこちらを表示\n",
        "    else :\n",
        "        input_filepath = os.path.join(input_dir, filename)\n",
        "        output_filepath = os.path.join(output_dir, os.path.splitext(filename)[0] + '.jpg')\n",
        "        shutil.copy(input_filepath, output_filepath)\n",
        "rename_files('/content/drive/MyDrive/OptPhotoFiles/optPhotoFiles_renamed/optPhotoFiles_nonRA_right_renamed/', 'healthy_control')\n",
        "\n",
        "# 変換する画像が含まれるディレクトリパス(nonRA_左手)\n",
        "os.makedirs('/content/drive/MyDrive/OptPhotoFiles/optPhotoFiles_renamed/optPhotoFiles_nonRA_left_renamed', exist_ok=True)\n",
        "input_dir = '/content/drive/MyDrive/OptPhotoFiles/optPhotoFiles/nonRA/nonRA_Left_Hand'\n",
        "output_dir = '/content/drive/MyDrive/OptPhotoFiles/optPhotoFiles_renamed/optPhotoFiles_nonRA_left_renamed'\n",
        "#input_dirの内部を検索\n",
        "for filename in os.listdir(input_dir):\n",
        "    if filename.lower().endswith('.heic'):\n",
        "        input_filepath = os.path.join(input_dir, filename)\n",
        "        output_filepath = os.path.join(output_dir, os.path.splitext(filename)[0] + '.jpg')\n",
        "\n",
        "        try:\n",
        "            heic_convert_to(input_filepath, output_filepath)#関数;heic_convert_toを実行\n",
        "            print(f\"Converted {filename} to JPEG\")#作業に成功したらこちらを表示\n",
        "        except Exception as e:\n",
        "            print(f\"Couldn't convert {filename}: {e}\")#うまくいかなければこちらを表示\n",
        "    else :\n",
        "        input_filepath = os.path.join(input_dir, filename)\n",
        "        output_filepath = os.path.join(output_dir, os.path.splitext(filename)[0] + '.jpg')\n",
        "        shutil.copy(input_filepath, output_filepath)\n",
        "rename_files('/content/drive/MyDrive/OptPhotoFiles/optPhotoFiles_renamed/optPhotoFiles_nonRA_left_renamed/', 'healthy_control')\n",
        "\n",
        "# 変換する画像が含まれるディレクトリパス(RA_右手)\n",
        "os.makedirs('/content/drive/MyDrive/OptPhotoFiles/optPhotoFiles_renamed/optPhotoFiles_RA_right_renamed', exist_ok=True)\n",
        "input_dir = '/content/drive/MyDrive/OptPhotoFiles/optPhotoFiles/RA/RA_Right_Hand'\n",
        "output_dir = '/content/drive/MyDrive/OptPhotoFiles/optPhotoFiles_renamed/optPhotoFiles_RA_right_renamed'\n",
        "#input_dirの内部を検索\n",
        "for filename in os.listdir(input_dir):\n",
        "    if filename.lower().endswith('.heic'):\n",
        "        input_filepath = os.path.join(input_dir, filename)\n",
        "        output_filepath = os.path.join(output_dir, os.path.splitext(filename)[0] + '.jpg')\n",
        "\n",
        "        try:\n",
        "            heic_convert_to(input_filepath, output_filepath)#関数;heic_convert_toを実行\n",
        "            print(f\"Converted {filename} to JPEG\")#作業に成功したらこちらを表示\n",
        "        except Exception as e:\n",
        "            print(f\"Couldn't convert {filename}: {e}\")#うまくいかなければこちらを表示\n",
        "    else :\n",
        "        input_filepath = os.path.join(input_dir, filename)\n",
        "        output_filepath = os.path.join(output_dir, os.path.splitext(filename)[0] + '.jpg')\n",
        "        shutil.copy(input_filepath, output_filepath)\n",
        "rename_files('/content/drive/MyDrive/OptPhotoFiles/optPhotoFiles_renamed/optPhotoFiles_RA_right_renamed/', 'patients')\n",
        "\n",
        "# 変換する画像が含まれるディレクトリパス(RA_左手)\n",
        "os.makedirs('/content/drive/MyDrive/OptPhotoFiles/optPhotoFiles_renamed/optPhotoFiles_RA_left_renamed', exist_ok=True)\n",
        "input_dir = '/content/drive/MyDrive/OptPhotoFiles/optPhotoFiles/RA/RA_Left_Hand'\n",
        "output_dir = '/content/drive/MyDrive/OptPhotoFiles/optPhotoFiles_renamed/optPhotoFiles_RA_left_renamed'\n",
        "#input_dirの内部を検索\n",
        "for filename in os.listdir(input_dir):\n",
        "    if filename.lower().endswith('.heic'):\n",
        "        input_filepath = os.path.join(input_dir, filename)\n",
        "        output_filepath = os.path.join(output_dir, os.path.splitext(filename)[0] + '.jpg')\n",
        "\n",
        "        try:\n",
        "            heic_convert_to(input_filepath, output_filepath)#関数;heic_convert_toを実行\n",
        "            print(f\"Converted {filename} to JPEG\")#作業に成功したらこちらを表示\n",
        "        except Exception as e:\n",
        "            print(f\"Couldn't convert {filename}: {e}\")#うまくいかなければこちらを表示\n",
        "    else :\n",
        "        input_filepath = os.path.join(input_dir, filename)\n",
        "        output_filepath = os.path.join(output_dir, os.path.splitext(filename)[0] + '.jpg')\n",
        "        shutil.copy(input_filepath, output_filepath)\n",
        "rename_files('/content/drive/MyDrive/OptPhotoFiles/optPhotoFiles_renamed/optPhotoFiles_RA_left_renamed/', 'patients')"
      ],
      "metadata": {
        "colab": {
          "base_uri": "https://localhost:8080/"
        },
        "id": "L9S0_3DlXEyD",
        "outputId": "5452cabf-7005-4d49-a10e-4a2564870423"
      },
      "execution_count": 5,
      "outputs": [
        {
          "output_type": "stream",
          "name": "stdout",
          "text": [
            "Converted IMG_1797 - Ho2O hO2O.HEIC to JPEG\n",
            "Converted IMG_2324 - Yuuki Uchida.HEIC to JPEG\n",
            "Couldn't convert IMG_6586 - あこすあこす.HEIC: Input is not a HEIF/AVIF file\n",
            "Converted IMG_1907 - Manami Okamura.HEIC to JPEG\n",
            "Converted IMG_9517 - kujilife.HEIC to JPEG\n",
            "Converted IMG_7199 (2) - Akira Ishida.HEIC to JPEG\n",
            "Converted IMG_9772 - 虎金六知ひーやん.HEIC to JPEG\n",
            "Converted 85597DAA-3D79-48F4-9D3A-B2D814E104C2_1_201_a - u akitakeru.heic to JPEG\n",
            "Converted IMG_3830 - TA KE.HEIC to JPEG\n",
            "Converted CFB65066-75A1-41BA-8A5F-647920ED0899 - T T (瀧).heic to JPEG\n",
            "Converted IMG_8542 - 長尾早希.HEIC to JPEG\n",
            "Converted IMG_5739 - 黒川京子.HEIC to JPEG\n",
            "Converted IMG_1981 - Ayaka Saito.HEIC to JPEG\n",
            "Converted IMG_3200 - 星空.HEIC to JPEG\n",
            "Converted 4F665B36-1D03-40F8-BCD6-6FE616E12B22 - 茅原陽子.heic to JPEG\n",
            "Converted IMG_7850 - 稲美.HEIC to JPEG\n",
            "Converted IMG_7729 - mayu.HEIC to JPEG\n",
            "Converted IMG_3821 - KT_DB.HEIC to JPEG\n",
            "Converted IMG_0350 - Yuki Nakazawa.HEIC to JPEG\n",
            "Converted 9ACDA11C-8900-4391-B5CA-CB03144BE301 - 桃式会社Liam.heic to JPEG\n",
            "Converted IMG_8141 - 長岡知宏.HEIC to JPEG\n",
            "Converted IMG_4804 - 小野一樹.HEIC to JPEG\n",
            "Converted IMG_8891 - Keigo Tsubata.HEIC to JPEG\n",
            "Converted IMG_9897 - ともこ.HEIC to JPEG\n",
            "Converted IMG_6933 - Arisa Arakawa.HEIC to JPEG\n",
            "Converted IMG_3297 - Hitomi Hiraoka.HEIC to JPEG\n",
            "Converted IMG_1344 - 誠整体.HEIC to JPEG\n",
            "Converted 37B2A806-09DE-4A6C-AA04-636BEB743146 - りょう.heic to JPEG\n",
            "Converted IMG_7865 - 吉川雅之.HEIC to JPEG\n",
            "Converted IMG_2485 - りも.HEIC to JPEG\n",
            "Converted IMG_2437 - 浦邊大史.HEIC to JPEG\n",
            "Converted IMG_7065 - ネギガナイトユウキ.HEIC to JPEG\n",
            "Converted 20230907_052344 - 隆幸.heic to JPEG\n",
            "Converted IMG_6108 - ラッド睦.HEIC to JPEG\n",
            "Converted IMG_4418 - Yuka Hirabayashi.HEIC to JPEG\n",
            "Converted IMG_0717 - S S.HEIC to JPEG\n",
            "Converted IMG_2684 - ひで.HEIC to JPEG\n",
            "Converted IMG_6049 - 坂本藍樹.HEIC to JPEG\n",
            "Converted IMG_0679 - Kondo Rie.heic to JPEG\n",
            "Converted IMG_1752 - 都濃政也.heic to JPEG\n",
            "Converted IMG_8733 - Mai Tada.heic to JPEG\n",
            "Converted IMG_0124 - norie sugihara (おつる).HEIC to JPEG\n",
            "Converted IMG_7052 - あびこ.HEIC to JPEG\n",
            "Converted IMG_1012 - 堀江美友.HEIC to JPEG\n",
            "Converted IMG_6673 - 古関絵美子.HEIC to JPEG\n",
            "Converted IMG_3913 - Kana Kawai.HEIC to JPEG\n",
            "Converted IMG_7593 - Re_ poris.HEIC to JPEG\n",
            "Converted Migite - Les Cocos.heic to JPEG\n",
            "Converted IMG_1521 - Lola RománTaketomi.HEIC to JPEG\n",
            "Converted IMG_1473 - Hiroki Chiba.heic to JPEG\n",
            "Converted IMG_7638 - y k.HEIC to JPEG\n",
            "Converted IMG_0897 - 平松雄太郎（IRODORI -イロドリ-）.HEIC to JPEG\n",
            "Converted IMG_1085 - 國吉大悟.heic to JPEG\n",
            "Converted IMG_9902 - a-ko@kca.biglobe.ne.jp.HEIC to JPEG\n",
            "Converted IMG_6392 - 榮優未.HEIC to JPEG\n",
            "Converted 10893792-962F-471E-8DBD-247C5C4D246D - Sota Okamoto.heic to JPEG\n",
            "Converted IMG_9535 - taniguchi minako.HEIC to JPEG\n",
            "Converted 9F85BCA6-6661-4216-BD90-CF41CB105FC5 - Miki Ishigaki.heic to JPEG\n",
            "Converted IMG_1796 - Ho2O hO2O.HEIC to JPEG\n",
            "Converted IMG_2325 - Yuuki Uchida.HEIC to JPEG\n",
            "Couldn't convert IMG_6587 - あこすあこす.HEIC: Input is not a HEIF/AVIF file\n",
            "Converted IMG_1905 - Manami Okamura.HEIC to JPEG\n",
            "Converted IMG_9516 - kujilife.HEIC to JPEG\n",
            "Converted IMG_7198 (1) - Akira Ishida.HEIC to JPEG\n",
            "Converted IMG_9773 - 虎金六知ひーやん.HEIC to JPEG\n",
            "Converted 02E8A61F-4014-49BB-B011-DB536054A91E_1_201_a - u akitakeru.heic to JPEG\n",
            "Converted IMG_3831 - TA KE.HEIC to JPEG\n",
            "Converted 4A280805-221B-427C-B0BD-3E90FDCCF995 - T T (瀧).heic to JPEG\n",
            "Converted IMG_8541 - 長尾早希.HEIC to JPEG\n",
            "Converted IMG_5738 - 黒川京子.HEIC to JPEG\n",
            "Converted IMG_1980 - Ayaka Saito.HEIC to JPEG\n",
            "Converted IMG_3199 - 星空.HEIC to JPEG\n",
            "Converted 695A9FCC-66CF-4B49-A7B7-6F2347AB8889 - 茅原陽子.heic to JPEG\n",
            "Converted IMG_7849 - 稲美.HEIC to JPEG\n",
            "Converted IMG_7728 - mayu.HEIC to JPEG\n",
            "Converted IMG_3822 - KT_DB.HEIC to JPEG\n",
            "Converted IMG_0348 - Yuki Nakazawa.HEIC to JPEG\n",
            "Converted 401A2CF2-4C3F-4CAF-8E47-F7B033D3A70A - 桃式会社Liam.heic to JPEG\n",
            "Converted IMG_8142 - 長岡知宏.HEIC to JPEG\n",
            "Converted IMG_0857 - 山野辺祥子.HEIC to JPEG\n",
            "Converted IMG_0858 - 山野辺祥子.HEIC to JPEG\n",
            "Converted IMG_4803 - 小野一樹.HEIC to JPEG\n",
            "Converted IMG_8892 - Keigo Tsubata.HEIC to JPEG\n",
            "Converted IMG_9896 - ともこ.HEIC to JPEG\n",
            "Converted IMG_6934 - Arisa Arakawa.HEIC to JPEG\n",
            "Converted IMG_3296 - Hitomi Hiraoka.HEIC to JPEG\n",
            "Converted IMG_1345 - 誠整体.HEIC to JPEG\n",
            "Converted FECF5CB6-0136-4B1D-A47C-B53E4D672A83 - りょう.heic to JPEG\n",
            "Converted IMG_7866 - 吉川雅之.HEIC to JPEG\n",
            "Converted IMG_2487 - りも.HEIC to JPEG\n",
            "Converted IMG_2436 - 浦邊大史.HEIC to JPEG\n",
            "Converted IMG_7064 - ネギガナイトユウキ.HEIC to JPEG\n",
            "Converted 20230907_052400 - 隆幸.heic to JPEG\n",
            "Converted IMG_6107 - ラッド睦.HEIC to JPEG\n",
            "Converted IMG_4419 - Yuka Hirabayashi.HEIC to JPEG\n",
            "Converted IMG_0716 - S S.HEIC to JPEG\n",
            "Converted IMG_2686 - ひで.HEIC to JPEG\n",
            "Converted IMG_6048 - 坂本藍樹.HEIC to JPEG\n",
            "Converted IMG_0681 - Kondo Rie.heic to JPEG\n",
            "Converted IMG_1750 - 都濃政也.heic to JPEG\n",
            "Converted IMG_8734 - Mai Tada.heic to JPEG\n",
            "Converted IMG_0131 - norie sugihara (おつる).HEIC to JPEG\n",
            "Converted IMG_7051 - あびこ.HEIC to JPEG\n",
            "Converted IMG_1011 - 堀江美友.HEIC to JPEG\n",
            "Converted IMG_6674 - 古関絵美子.HEIC to JPEG\n",
            "Converted IMG_3912 - Kana Kawai.HEIC to JPEG\n",
            "Converted IMG_7594 - Re_ poris.HEIC to JPEG\n",
            "Converted Hidarite - Les Cocos.heic to JPEG\n",
            "Converted IMG_1522 - Lola RománTaketomi.HEIC to JPEG\n",
            "Converted IMG_1474 - Hiroki Chiba.heic to JPEG\n",
            "Converted IMG_7639 - y k.HEIC to JPEG\n",
            "Converted IMG_0896 - 平松雄太郎（IRODORI -イロドリ-）.HEIC to JPEG\n",
            "Converted IMG_1084 - 國吉大悟.heic to JPEG\n",
            "Converted IMG_9903 - a-ko@kca.biglobe.ne.jp.HEIC to JPEG\n",
            "Converted IMG_6391 - 榮優未.HEIC to JPEG\n",
            "Converted 4FA8ED23-283C-4ACC-8071-61CB69E25860 - Sota Okamoto.heic to JPEG\n",
            "Converted IMG_9534 - taniguchi minako.HEIC to JPEG\n",
            "Converted 5FCAF5A5-F423-414E-B649-CA2BBDD38734 - Miki Ishigaki.heic to JPEG\n"
          ]
        }
      ]
    },
    {
      "cell_type": "markdown",
      "source": [
        "#背景ノイズ消去\n",
        "撮影された画像には、さまざまなレベルで背景に色々なものが写り込んでいる。このままでは背景画像の相違によって特徴量が抽出されてしまう危険性を否定できない。このため、セマンティックセグメンテーションの手法を使って、背景画像を白一色に統一する。\n",
        "デフォルトではMediaPipeに用意されているdeeplab_v3を搭載したモデルを使用しているが、今後はdeeplab_v3を独自に訓練したモデルを使用できるようにする。"
      ],
      "metadata": {
        "id": "mEbbHUWPaFqL"
      }
    },
    {
      "cell_type": "code",
      "source": [
        "from pathlib import Path\n",
        "from rembg import remove, new_session\n",
        "from PIL import UnidentifiedImageError\n",
        "\n",
        "session = new_session()\n",
        "\n",
        "base_input_dir = '/content/drive/MyDrive/OptPhotoFiles/optPhotoFiles_renamed'\n",
        "base_output_dir = '/content/drive/MyDrive/OptPhotoFiles/optPhotoFiles_modified'\n",
        "\n",
        "directories = ['optPhotoFiles_nonRA_right_renamed', 'optPhotoFiles_nonRA_left_renamed', 'optPhotoFiles_RA_right_renamed', 'optPhotoFiles_RA_left_renamed']\n",
        "\n",
        "# 新しいディレクトリ名のマッピング\n",
        "dir_mapping = {\n",
        "    'optPhotoFiles_nonRA_right_renamed': 'nonRA_right',\n",
        "    'optPhotoFiles_nonRA_left_renamed': 'nonRA_left',\n",
        "    'optPhotoFiles_RA_right_renamed': 'RA_right',\n",
        "    'optPhotoFiles_RA_left_renamed': 'RA_left'\n",
        "}\n",
        "\n",
        "for dir_name in directories:\n",
        "    input_dir = Path(base_input_dir) / dir_name\n",
        "    output_dir = Path(base_output_dir) / dir_mapping[dir_name]\n",
        "    output_dir.mkdir(parents=True, exist_ok=True)\n",
        "\n",
        "    for file in input_dir.glob('*.jpg'):\n",
        "        input_path = str(file)\n",
        "        output_filename = file.stem + \".out.jpg\"\n",
        "        output_path = output_dir / output_filename\n",
        "\n",
        "        try:\n",
        "            with open(input_path, 'rb') as i:\n",
        "                with open(output_path, 'wb') as o:\n",
        "                    input_data = i.read()\n",
        "                    output_data = remove(input_data, session=session)\n",
        "                    o.write(output_data)\n",
        "        except UnidentifiedImageError:\n",
        "            print(f\"Error processing file: {input_path}\")\n",
        "            continue\n",
        "\n",
        ""
      ],
      "metadata": {
        "id": "JVi6KEfSZ-7k",
        "colab": {
          "base_uri": "https://localhost:8080/",
          "height": 394
        },
        "outputId": "5919f43e-81a2-4507-984f-0c89f1510f2b"
      },
      "execution_count": 7,
      "outputs": [
        {
          "output_type": "error",
          "ename": "KeyboardInterrupt",
          "evalue": "ignored",
          "traceback": [
            "\u001b[0;31m---------------------------------------------------------------------------\u001b[0m",
            "\u001b[0;31mKeyboardInterrupt\u001b[0m                         Traceback (most recent call last)",
            "\u001b[0;32m<ipython-input-7-5d355bc93be6>\u001b[0m in \u001b[0;36m<cell line: 20>\u001b[0;34m()\u001b[0m\n\u001b[1;32m     32\u001b[0m                 \u001b[0;32mwith\u001b[0m \u001b[0mopen\u001b[0m\u001b[0;34m(\u001b[0m\u001b[0moutput_path\u001b[0m\u001b[0;34m,\u001b[0m \u001b[0;34m'wb'\u001b[0m\u001b[0;34m)\u001b[0m \u001b[0;32mas\u001b[0m \u001b[0mo\u001b[0m\u001b[0;34m:\u001b[0m\u001b[0;34m\u001b[0m\u001b[0;34m\u001b[0m\u001b[0m\n\u001b[1;32m     33\u001b[0m                     \u001b[0minput_data\u001b[0m \u001b[0;34m=\u001b[0m \u001b[0mi\u001b[0m\u001b[0;34m.\u001b[0m\u001b[0mread\u001b[0m\u001b[0;34m(\u001b[0m\u001b[0;34m)\u001b[0m\u001b[0;34m\u001b[0m\u001b[0;34m\u001b[0m\u001b[0m\n\u001b[0;32m---> 34\u001b[0;31m                     \u001b[0moutput_data\u001b[0m \u001b[0;34m=\u001b[0m \u001b[0mremove\u001b[0m\u001b[0;34m(\u001b[0m\u001b[0minput_data\u001b[0m\u001b[0;34m,\u001b[0m \u001b[0msession\u001b[0m\u001b[0;34m=\u001b[0m\u001b[0msession\u001b[0m\u001b[0;34m)\u001b[0m\u001b[0;34m\u001b[0m\u001b[0;34m\u001b[0m\u001b[0m\n\u001b[0m\u001b[1;32m     35\u001b[0m                     \u001b[0mo\u001b[0m\u001b[0;34m.\u001b[0m\u001b[0mwrite\u001b[0m\u001b[0;34m(\u001b[0m\u001b[0moutput_data\u001b[0m\u001b[0;34m)\u001b[0m\u001b[0;34m\u001b[0m\u001b[0;34m\u001b[0m\u001b[0m\n\u001b[1;32m     36\u001b[0m         \u001b[0;32mexcept\u001b[0m \u001b[0mUnidentifiedImageError\u001b[0m\u001b[0;34m:\u001b[0m\u001b[0;34m\u001b[0m\u001b[0;34m\u001b[0m\u001b[0m\n",
            "\u001b[0;32m/usr/local/lib/python3.10/dist-packages/rembg/bg.py\u001b[0m in \u001b[0;36mremove\u001b[0;34m(data, alpha_matting, alpha_matting_foreground_threshold, alpha_matting_background_threshold, alpha_matting_erode_size, session, only_mask, post_process_mask, bgcolor, *args, **kwargs)\u001b[0m\n\u001b[1;32m    190\u001b[0m                 \u001b[0mcutout\u001b[0m \u001b[0;34m=\u001b[0m \u001b[0mputalpha_cutout\u001b[0m\u001b[0;34m(\u001b[0m\u001b[0mimg\u001b[0m\u001b[0;34m,\u001b[0m \u001b[0mmask\u001b[0m\u001b[0;34m)\u001b[0m\u001b[0;34m\u001b[0m\u001b[0;34m\u001b[0m\u001b[0m\n\u001b[1;32m    191\u001b[0m             \u001b[0;32melse\u001b[0m\u001b[0;34m:\u001b[0m\u001b[0;34m\u001b[0m\u001b[0;34m\u001b[0m\u001b[0m\n\u001b[0;32m--> 192\u001b[0;31m                 \u001b[0mcutout\u001b[0m \u001b[0;34m=\u001b[0m \u001b[0mnaive_cutout\u001b[0m\u001b[0;34m(\u001b[0m\u001b[0mimg\u001b[0m\u001b[0;34m,\u001b[0m \u001b[0mmask\u001b[0m\u001b[0;34m)\u001b[0m\u001b[0;34m\u001b[0m\u001b[0;34m\u001b[0m\u001b[0m\n\u001b[0m\u001b[1;32m    193\u001b[0m \u001b[0;34m\u001b[0m\u001b[0m\n\u001b[1;32m    194\u001b[0m         \u001b[0mcutouts\u001b[0m\u001b[0;34m.\u001b[0m\u001b[0mappend\u001b[0m\u001b[0;34m(\u001b[0m\u001b[0mcutout\u001b[0m\u001b[0;34m)\u001b[0m\u001b[0;34m\u001b[0m\u001b[0;34m\u001b[0m\u001b[0m\n",
            "\u001b[0;32m/usr/local/lib/python3.10/dist-packages/rembg/bg.py\u001b[0m in \u001b[0;36mnaive_cutout\u001b[0;34m(img, mask)\u001b[0m\n\u001b[1;32m     76\u001b[0m \u001b[0;32mdef\u001b[0m \u001b[0mnaive_cutout\u001b[0m\u001b[0;34m(\u001b[0m\u001b[0mimg\u001b[0m\u001b[0;34m:\u001b[0m \u001b[0mPILImage\u001b[0m\u001b[0;34m,\u001b[0m \u001b[0mmask\u001b[0m\u001b[0;34m:\u001b[0m \u001b[0mPILImage\u001b[0m\u001b[0;34m)\u001b[0m \u001b[0;34m->\u001b[0m \u001b[0mPILImage\u001b[0m\u001b[0;34m:\u001b[0m\u001b[0;34m\u001b[0m\u001b[0;34m\u001b[0m\u001b[0m\n\u001b[1;32m     77\u001b[0m     \u001b[0mempty\u001b[0m \u001b[0;34m=\u001b[0m \u001b[0mImage\u001b[0m\u001b[0;34m.\u001b[0m\u001b[0mnew\u001b[0m\u001b[0;34m(\u001b[0m\u001b[0;34m\"RGBA\"\u001b[0m\u001b[0;34m,\u001b[0m \u001b[0;34m(\u001b[0m\u001b[0mimg\u001b[0m\u001b[0;34m.\u001b[0m\u001b[0msize\u001b[0m\u001b[0;34m)\u001b[0m\u001b[0;34m,\u001b[0m \u001b[0;36m0\u001b[0m\u001b[0;34m)\u001b[0m\u001b[0;34m\u001b[0m\u001b[0;34m\u001b[0m\u001b[0m\n\u001b[0;32m---> 78\u001b[0;31m     \u001b[0mcutout\u001b[0m \u001b[0;34m=\u001b[0m \u001b[0mImage\u001b[0m\u001b[0;34m.\u001b[0m\u001b[0mcomposite\u001b[0m\u001b[0;34m(\u001b[0m\u001b[0mimg\u001b[0m\u001b[0;34m,\u001b[0m \u001b[0mempty\u001b[0m\u001b[0;34m,\u001b[0m \u001b[0mmask\u001b[0m\u001b[0;34m)\u001b[0m\u001b[0;34m\u001b[0m\u001b[0;34m\u001b[0m\u001b[0m\n\u001b[0m\u001b[1;32m     79\u001b[0m     \u001b[0;32mreturn\u001b[0m \u001b[0mcutout\u001b[0m\u001b[0;34m\u001b[0m\u001b[0;34m\u001b[0m\u001b[0m\n\u001b[1;32m     80\u001b[0m \u001b[0;34m\u001b[0m\u001b[0m\n",
            "\u001b[0;32m/usr/local/lib/python3.10/dist-packages/PIL/Image.py\u001b[0m in \u001b[0;36mcomposite\u001b[0;34m(image1, image2, mask)\u001b[0m\n\u001b[1;32m   3339\u001b[0m     \u001b[0;32mreturn\u001b[0m \u001b[0mimage\u001b[0m\u001b[0;34m\u001b[0m\u001b[0;34m\u001b[0m\u001b[0m\n\u001b[1;32m   3340\u001b[0m \u001b[0;34m\u001b[0m\u001b[0m\n\u001b[0;32m-> 3341\u001b[0;31m \u001b[0;34m\u001b[0m\u001b[0m\n\u001b[0m\u001b[1;32m   3342\u001b[0m \u001b[0;32mdef\u001b[0m \u001b[0meval\u001b[0m\u001b[0;34m(\u001b[0m\u001b[0mimage\u001b[0m\u001b[0;34m,\u001b[0m \u001b[0;34m*\u001b[0m\u001b[0margs\u001b[0m\u001b[0;34m)\u001b[0m\u001b[0;34m:\u001b[0m\u001b[0;34m\u001b[0m\u001b[0;34m\u001b[0m\u001b[0m\n\u001b[1;32m   3343\u001b[0m     \"\"\"\n",
            "\u001b[0;32m/usr/local/lib/python3.10/dist-packages/PIL/Image.py\u001b[0m in \u001b[0;36mpaste\u001b[0;34m(self, im, box, mask)\u001b[0m\n\u001b[1;32m   1729\u001b[0m         \"\"\"\n\u001b[1;32m   1730\u001b[0m \u001b[0;34m\u001b[0m\u001b[0m\n\u001b[0;32m-> 1731\u001b[0;31m         \u001b[0;32mif\u001b[0m \u001b[0;32mnot\u001b[0m \u001b[0misinstance\u001b[0m\u001b[0;34m(\u001b[0m\u001b[0msource\u001b[0m\u001b[0;34m,\u001b[0m \u001b[0;34m(\u001b[0m\u001b[0mlist\u001b[0m\u001b[0;34m,\u001b[0m \u001b[0mtuple\u001b[0m\u001b[0;34m)\u001b[0m\u001b[0;34m)\u001b[0m\u001b[0;34m:\u001b[0m\u001b[0;34m\u001b[0m\u001b[0;34m\u001b[0m\u001b[0m\n\u001b[0m\u001b[1;32m   1732\u001b[0m             \u001b[0mmsg\u001b[0m \u001b[0;34m=\u001b[0m \u001b[0;34m\"Source must be a tuple\"\u001b[0m\u001b[0;34m\u001b[0m\u001b[0;34m\u001b[0m\u001b[0m\n\u001b[1;32m   1733\u001b[0m             \u001b[0;32mraise\u001b[0m \u001b[0mValueError\u001b[0m\u001b[0;34m(\u001b[0m\u001b[0mmsg\u001b[0m\u001b[0;34m)\u001b[0m\u001b[0;34m\u001b[0m\u001b[0;34m\u001b[0m\u001b[0m\n",
            "\u001b[0;31mKeyboardInterrupt\u001b[0m: "
          ]
        }
      ]
    }
  ]
}