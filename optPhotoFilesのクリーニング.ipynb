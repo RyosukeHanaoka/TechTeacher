{
  "nbformat": 4,
  "nbformat_minor": 0,
  "metadata": {
    "colab": {
      "provenance": [],
      "authorship_tag": "ABX9TyMaYXJwztohNKLzxIqeaQPm",
      "include_colab_link": true
    },
    "kernelspec": {
      "name": "python3",
      "display_name": "Python 3"
    },
    "language_info": {
      "name": "python"
    }
  },
  "cells": [
    {
      "cell_type": "markdown",
      "metadata": {
        "id": "view-in-github",
        "colab_type": "text"
      },
      "source": [
        "<a href=\"https://colab.research.google.com/github/RyosukeHanaoka/TechTeacher/blob/main/optPhotoFiles%E3%81%AE%E3%82%AF%E3%83%AA%E3%83%BC%E3%83%8B%E3%83%B3%E3%82%B0.ipynb\" target=\"_parent\"><img src=\"https://colab.research.google.com/assets/colab-badge.svg\" alt=\"Open In Colab\"/></a>"
      ]
    },
    {
      "cell_type": "code",
      "source": [
        "from google.colab import drive\n",
        "drive.mount('/content/drive')"
      ],
      "metadata": {
        "id": "N72MJ4aXuD65"
      },
      "execution_count": null,
      "outputs": []
    },
    {
      "cell_type": "code",
      "source": [
        "from PIL import Image\n",
        "import os\n",
        "!pip install pyheif\n",
        "\n",
        "##以下の(1)と(2)は、使用しない方はコメントアウトすること。\n",
        "# 変換する画像が含まれるディレクトリパス(右手)\n",
        "input_dir = '/content/drive/MyDrive/OptPhotoFiles/optPhotoFiles/nonRA/nonRA_Right_Hand'\n",
        "output_dir = '/content/drive/MyDrive/OptPhotoFiles/optPhotoFiles/nonRA/nonRA_Right_Hand'\n",
        "\n",
        "# 変換する画像が含まれるディレクトリパス(左手)\n",
        "#input_dir = '/content/drive/MyDrive/OptPhotoFiles/optPhotoFiles/nonRA/nonRA_Left_Hand'\n",
        "#output_dir = '/content/drive/MyDrive/OptPhotoFiles/optPhotoFiles/nonRA/nonRA_Left_Hand'\n",
        "\n",
        "#heicを変換する関数を定義\n",
        "def heic_convert_to(heic_filename, output_filename, q=90):\n",
        "    import pyheif\n",
        "    from PIL import Image\n",
        "\n",
        "    heif = pyheif.read(heic_filename)\n",
        "\n",
        "    image = Image.frombytes(\n",
        "        heif.mode,\n",
        "        heif.size,\n",
        "        heif.data,\n",
        "        \"raw\",\n",
        "        heif.mode,\n",
        "        heif.stride,\n",
        "    )\n",
        "\n",
        "    image.save(output_filename, quality=q)\n",
        "\n",
        "#input_dirの内部を検索\n",
        "for filename in os.listdir(input_dir):\n",
        "    if filename.lower().endswith('.heic'):\n",
        "        input_filepath = os.path.join(input_dir, filename)\n",
        "        output_filepath = os.path.join(output_dir, os.path.splitext(filename)[0] + '.jpeg')\n",
        "\n",
        "        try:\n",
        "            heic_convert_to(input_filepath, output_filepath)#関数;heic_convert_toを実行\n",
        "            print(f\"Converted {filename} to JPEG\")#作業に成功したらこちらを表示\n",
        "        except Exception as e:\n",
        "            print(f\"Couldn't convert {filename}: {e}\")#うまくいかなければこちらを表示"
      ],
      "metadata": {
        "id": "MlbdogUWtnbo"
      },
      "execution_count": null,
      "outputs": []
    },
    {
      "cell_type": "code",
      "execution_count": null,
      "metadata": {
        "id": "Ecz_8zOYtgDk"
      },
      "outputs": [],
      "source": [
        "#ファイル名を通し番号で統一する関数\"rename_files\"を定義。\n",
        "def rename_files(directory, prefix, start_number=1):\n",
        "    counter = start_number\n",
        "    for foldername, subfolders, filenames in os.walk(directory):\n",
        "        for filename in filenames:\n",
        "            # ファイルの絶対パスを取得\n",
        "            filepath = os.path.join(foldername, filename)\n",
        "\n",
        "            # 新しいファイル名を作成\n",
        "            new_filename = f\"{prefix}_{str(counter).zfill(6)}{os.path.splitext(filename)[1]}\"\n",
        "            new_filepath = os.path.join(foldername, new_filename)\n",
        "\n",
        "            # ファイル名を変更\n",
        "            os.rename(filepath, new_filepath)\n",
        "            counter += 1\n",
        "\n",
        "##以下の(1)と(2)は使用しない方をコメントアウトすること。\n",
        "#関数\"rename_files\"を実行(右手用)。\n",
        "rename_files('/content/drive/MyDrive/OptPhotoFiles/optPhotoFiles/RA/RA_Right_Hand/', 'patients')\n",
        "rename_files('/content/drive/MyDrive/OptPhotoFiles/optPhotoFiles/nonRA/nonRA_Right_Hand/', 'healthy_control')\n",
        "\n",
        "#関数\"rename_files\"を実行(左手用)。\n",
        "#rename_files('/content/drive/MyDrive/OptPhotoFiles/optPhotoFiles/RA/RA_Left_Hand/', 'patients')\n",
        "#rename_files('/content/drive/MyDrive/OptPhotoFiles/optPhotoFiles/nonRA/nonRA_Left_Hand/', 'healthy_control')"
      ]
    },
    {
      "cell_type": "code",
      "source": [
        "!pip install -q mediapipe==0.10.0\n",
        "#@title Start downloading here.\n",
        "!wget -O deeplabv3.tflite -q https://storage.googleapis.com/mediapipe-models/image_segmenter/deeplab_v3/float32/1/deeplab_v3.tflite"
      ],
      "metadata": {
        "id": "pEpNzY4Kt_0Q"
      },
      "execution_count": null,
      "outputs": []
    },
    {
      "cell_type": "code",
      "source": [
        "import os\n",
        "import cv2\n",
        "import numpy as np\n",
        "import mediapipe as mp\n",
        "from mediapipe.tasks import python\n",
        "from mediapipe.tasks.python import vision\n",
        "\n",
        "# 入力および出力ディレクトリを設定\n",
        "base_dir = '/content/drive/MyDrive/OptPhotoFiles/optPhotoFiles/'\n",
        "output_base_dir = '/content/drive/MyDrive/OptPhotoFiles/optPhotoFiles/segmented_photo/'\n",
        "sub_dirs = ['RA/RA_Right_Hand', 'RA/RA_Left_Hand', 'nonRA/nonRA_Right_Hand', 'nonRA/nonRA_Left_Hand']\n",
        "output_sub_dirs = ['RA/RA_Right_Hand', 'RA/RA_Left_Hand', 'nonRA/nonRA_Right_Hand', 'nonRA/nonRA_Left_Hand']\n",
        "\n",
        "# 画像のパスを取得\n",
        "image_paths = []\n",
        "for sub_dir in sub_dirs:\n",
        "    full_dir = os.path.join(base_dir, sub_dir)\n",
        "    for filename in os.listdir(full_dir):\n",
        "        if filename.endswith('.jpg'):\n",
        "            image_path = os.path.join(full_dir, filename)\n",
        "            image_paths.append(image_path)\n",
        "\n",
        "# 出力ディレクトリを作成\n",
        "for sub_dir in output_sub_dirs:\n",
        "    os.makedirs(os.path.join(output_base_dir, sub_dir), exist_ok=True)\n",
        "\n",
        "WHITE_COLOR = (255, 255, 255)  # white\n",
        "\n",
        "# ImageSegmenterのオプションを作成\n",
        "base_options = python.BaseOptions(model_asset_path='deeplabv3.tflite')\n",
        "options = vision.ImageSegmenterOptions(base_options=base_options, output_category_mask=False)#次回はoutput_category_mask=Falseで試みる。\n",
        "\n",
        "# ImageSegmenterを作成\n",
        "with vision.ImageSegmenter.create_from_options(options) as segmenter:\n",
        "    for image_path in image_paths:\n",
        "        image = mp.Image.create_from_file(image_path)\n",
        "        segmentation_result = segmenter.segment(image)\n",
        "        category_mask = segmentation_result.category_mask\n",
        "\n",
        "        image_data = image.numpy_view()\n",
        "\n",
        "        # Apply the mask to set the background to white\n",
        "        white_bg_image = np.zeros(image_data.shape, dtype=np.uint8)\n",
        "        white_bg_image[:] = WHITE_COLOR\n",
        "        condition = np.stack((category_mask.numpy_view(),) * 3, axis=-1) > 0.2\n",
        "        output_image = np.where(condition, image_data, white_bg_image)\n",
        "\n",
        "        print(f'Segmentation mask of {os.path.basename(image_path)}:')\n",
        "\n",
        "        output_sub_dir = [d for d in output_sub_dirs if d in image_path][0]\n",
        "        output_path = os.path.join(output_base_dir, output_sub_dir, os.path.basename(image_path))\n",
        "        cv2.imwrite(output_path, output_image)"
      ],
      "metadata": {
        "id": "f49eCraSuQM3"
      },
      "execution_count": null,
      "outputs": []
    }
  ]
}