{
  "nbformat": 4,
  "nbformat_minor": 0,
  "metadata": {
    "colab": {
      "provenance": [],
      "mount_file_id": "https://github.com/RyosukeHanaoka/TechTeacher/blob/main/dicomFileToPng.ipynb",
      "authorship_tag": "ABX9TyOikBzOZVIsxH54iPH/p25J",
      "include_colab_link": true
    },
    "kernelspec": {
      "name": "python3",
      "display_name": "Python 3"
    },
    "language_info": {
      "name": "python"
    }
  },
  "cells": [
    {
      "cell_type": "markdown",
      "metadata": {
        "id": "view-in-github",
        "colab_type": "text"
      },
      "source": [
        "<a href=\"https://colab.research.google.com/github/RyosukeHanaoka/TechTeacher/blob/main/dicomFileToPng.ipynb\" target=\"_parent\"><img src=\"https://colab.research.google.com/assets/colab-badge.svg\" alt=\"Open In Colab\"/></a>"
      ]
    },
    {
      "cell_type": "markdown",
      "source": [
        "#必要なモジュールのインストール"
      ],
      "metadata": {
        "id": "viYqzpLZnbE9"
      }
    },
    {
      "cell_type": "code",
      "source": [
        "!pip install pydicom\n",
        "!pip install pylibjpeg\n",
        "!pip install python-gdcm\n",
        "!pip install pylibjpeg-libjpeg"
      ],
      "metadata": {
        "colab": {
          "base_uri": "https://localhost:8080/"
        },
        "id": "kPsQvIyGQTcF",
        "outputId": "15dc6b01-d8ac-4e85-e44a-cadbd99ddd6b"
      },
      "execution_count": 2,
      "outputs": [
        {
          "output_type": "stream",
          "name": "stdout",
          "text": [
            "Requirement already satisfied: pydicom in /usr/local/lib/python3.10/dist-packages (2.4.3)\n",
            "Requirement already satisfied: pylibjpeg in /usr/local/lib/python3.10/dist-packages (1.4.0)\n",
            "Requirement already satisfied: numpy in /usr/local/lib/python3.10/dist-packages (from pylibjpeg) (1.23.5)\n",
            "Requirement already satisfied: python-gdcm in /usr/local/lib/python3.10/dist-packages (3.0.22)\n",
            "Requirement already satisfied: pylibjpeg-libjpeg in /usr/local/lib/python3.10/dist-packages (1.3.4)\n",
            "Requirement already satisfied: numpy>=1.22 in /usr/local/lib/python3.10/dist-packages (from pylibjpeg-libjpeg) (1.23.5)\n"
          ]
        }
      ]
    },
    {
      "cell_type": "code",
      "source": [
        "# まず、使用するライブラリを呼び出す。\n",
        "from google.colab import drive\n",
        "import os\n",
        "import shutil\n",
        "import pydicom\n",
        "import cv2\n",
        "import numpy as np"
      ],
      "metadata": {
        "id": "rqw2EVD2odWl"
      },
      "execution_count": 3,
      "outputs": []
    },
    {
      "cell_type": "code",
      "source": [
        "# Google Driveを呼び出す。\n",
        "drive.mount('/content/drive')"
      ],
      "metadata": {
        "colab": {
          "base_uri": "https://localhost:8080/"
        },
        "id": "53EuykkiooBI",
        "outputId": "d1ee69b7-1da0-4855-e0b9-50485a539e88"
      },
      "execution_count": 4,
      "outputs": [
        {
          "output_type": "stream",
          "name": "stdout",
          "text": [
            "Mounted at /content/drive\n"
          ]
        }
      ]
    },
    {
      "cell_type": "markdown",
      "source": [
        "#作業に使用するxpFilesのコピーを作成する。"
      ],
      "metadata": {
        "id": "tWfC_E7FnqUU"
      }
    },
    {
      "cell_type": "code",
      "source": [
        "# xpFilesのコピーを作成する。\n",
        "shutil.copytree('/content/drive/MyDrive/xpFiles','/content/drive/MyDrive/xpFiles_copy')"
      ],
      "metadata": {
        "id": "Xq5YBjNuosSj",
        "colab": {
          "base_uri": "https://localhost:8080/",
          "height": 34
        },
        "outputId": "a0389192-d946-4380-e501-0af4bfac871a"
      },
      "execution_count": 5,
      "outputs": [
        {
          "output_type": "execute_result",
          "data": {
            "text/plain": [
              "'/content/drive/MyDrive/xpFiles_copy'"
            ],
            "application/vnd.google.colaboratory.intrinsic+json": {
              "type": "string"
            }
          },
          "metadata": {},
          "execution_count": 5
        }
      ]
    },
    {
      "cell_type": "markdown",
      "source": [
        "#directory名に含まれている患者idをDICOMファイルのファイル名の先頭に付加する。"
      ],
      "metadata": {
        "id": "YF--6gASoA1u"
      }
    },
    {
      "cell_type": "code",
      "source": [
        "for root, dirs, files in os.walk('/content/drive/MyDrive/xpFiles_copy'):# '/content/drive/MyDrive/xpFiles_copy'の中のroot、directory、fileを走査する。\n",
        "    for file in files:\n",
        "        # 変数patient_idを定義\n",
        "        patient_id = os.path.dirname(root)[40:46]\n",
        "        # 変数patient_filename_taleを定義\n",
        "        patient_filename_tale = os.path.basename(root)\n",
        "        # 変数new_filenameを定義\n",
        "        file_extension = os.path.splitext(file)[1]  # 元のファイルの拡張子を取得\n",
        "        new_filename = patient_id+'_'+ patient_filename_tale+\".dcm\"\n",
        "        os.rename(os.path.join(root, file), os.path.join(root, new_filename))"
      ],
      "metadata": {
        "id": "dA9nqBrg-sxV"
      },
      "execution_count": 6,
      "outputs": []
    },
    {
      "cell_type": "markdown",
      "source": [
        "###ファイルの損傷に備えてxpFiles_copyはバックアップとして保存、xpFiles_copy_of_copyを作成"
      ],
      "metadata": {
        "id": "2KHwhKvFoYCo"
      }
    },
    {
      "cell_type": "code",
      "source": [
        "# xpFiles_copyのコピーを作成する。\n",
        "shutil.copytree('/content/drive/MyDrive/xpFiles_copy','/content/drive/MyDrive/xpFiles_copy_of_copy')"
      ],
      "metadata": {
        "colab": {
          "base_uri": "https://localhost:8080/",
          "height": 34
        },
        "id": "icyaiLNKK4zi",
        "outputId": "6f906d7c-5745-48dc-f5aa-629d9c4f6c70"
      },
      "execution_count": 7,
      "outputs": [
        {
          "output_type": "execute_result",
          "data": {
            "text/plain": [
              "'/content/drive/MyDrive/xpFiles_copy_of_copy'"
            ],
            "application/vnd.google.colaboratory.intrinsic+json": {
              "type": "string"
            }
          },
          "metadata": {},
          "execution_count": 7
        }
      ]
    },
    {
      "cell_type": "markdown",
      "source": [
        "#DICOMの'BodyPartExamined'が'HAND'のファイルのみ抽出、'xpFiles_Hand'に保存"
      ],
      "metadata": {
        "id": "wLo-2d2ZpP9t"
      }
    },
    {
      "cell_type": "code",
      "source": [
        "os.makedirs('/content/drive/MyDrive/xpFiles_Hand', exist_ok=True)\n",
        "\n",
        "for root, dirs, files in os.walk('/content/drive/MyDrive/xpFiles_copy_of_copy'):\n",
        "    for file in files:\n",
        "        dcmfile_path = os.path.join(root, file)\n",
        "        ds = pydicom.dcmread(dcmfile_path, force=True)\n",
        "\n",
        "        if hasattr(ds, 'BodyPartExamined'):\n",
        "            body_part = ds.BodyPartExamined\n",
        "            if body_part == 'HAND':\n",
        "                shutil.move(dcmfile_path, '/content/drive/MyDrive/xpFiles_Hand')"
      ],
      "metadata": {
        "id": "cP27QTWKKyoA"
      },
      "execution_count": 8,
      "outputs": []
    },
    {
      "cell_type": "code",
      "source": [
        "#xpFiles_Handのコピーを作成する。\n",
        "shutil.copytree('/content/drive/MyDrive/xpFiles_Hand','/content/drive/MyDrive/xpFiles_Hand_copy')"
      ],
      "metadata": {
        "colab": {
          "base_uri": "https://localhost:8080/",
          "height": 34
        },
        "id": "5hqzzmnfk6RN",
        "outputId": "0473b642-a2b9-4ada-f397-349d15098e91"
      },
      "execution_count": 9,
      "outputs": [
        {
          "output_type": "execute_result",
          "data": {
            "text/plain": [
              "'/content/drive/MyDrive/xpFiles_Hand_copy'"
            ],
            "application/vnd.google.colaboratory.intrinsic+json": {
              "type": "string"
            }
          },
          "metadata": {},
          "execution_count": 9
        }
      ]
    },
    {
      "cell_type": "markdown",
      "source": [
        "#DICOMをPNGに変換する。"
      ],
      "metadata": {
        "id": "NZfYLCjFp67d"
      }
    },
    {
      "cell_type": "code",
      "source": [
        "import numpy as np\n",
        "import pydicom\n",
        "import pylibjpeg\n",
        "from PIL import Image\n",
        "import os"
      ],
      "metadata": {
        "id": "LASmQs57Swex"
      },
      "execution_count": 10,
      "outputs": []
    },
    {
      "cell_type": "code",
      "source": [
        "def dicom_to_png(dcmfile_path, png_directory):\n",
        "    try:\n",
        "        ds = pydicom.dcmread(dcmfile_path)\n",
        "        rescale_slope = 1  # デフォルト値を1に設定\n",
        "        rescale_intercept = 0  # デフォルト値を0に設定\n",
        "\n",
        "        if 'RescaleSlope' in ds:\n",
        "            rescale_slope = ds.RescaleSlope\n",
        "        if 'RescaleIntercept' in ds:\n",
        "            rescale_intercept = ds.RescaleIntercept\n",
        "\n",
        "        img = ds.pixel_array * rescale_slope + rescale_intercept\n",
        "        pngfile_path = os.path.join(png_directory, os.path.basename(dcmfile_path).replace('.dcm', '.png'))\n",
        "        cv2.imwrite(pngfile_path, img.astype(np.uint8))\n",
        "    except RuntimeError as e:\n",
        "        print(f\"An error occurred while processing {dcmfile_path}: {str(e)}\")\n",
        "png_directory = '/content/drive/MyDrive/xpFiles_hand_png'\n",
        "\n",
        "os.makedirs(png_directory, exist_ok=True)\n",
        "\n",
        "for root, dirs, files in os.walk('/content/drive/MyDrive/xpFiles_Hand_copy'):\n",
        "    for file in files:\n",
        "        dcmfile_path = os.path.join(root, file)\n",
        "        dicom_to_png(dcmfile_path, png_directory)"
      ],
      "metadata": {
        "id": "naOhG13RmtAA"
      },
      "execution_count": 12,
      "outputs": []
    },
    {
      "cell_type": "code",
      "source": [
        "import os\n",
        "import shutil\n",
        "\n",
        "# ソースディレクトリとターゲットディレクトリの設定\n",
        "source_dir = '/content/drive/MyDrive/xpFiles_Hand'\n",
        "target_dir = '/content/drive/MyDrive/xpFiles_png'\n",
        "\n",
        "# ターゲットディレクトリが存在しない場合は作成\n",
        "if not os.path.exists(target_dir):\n",
        "    os.makedirs(target_dir)\n",
        "\n",
        "# ソースディレクトリ内のファイルをループして処理\n",
        "for filename in os.listdir(source_dir):\n",
        "    if filename.endswith(\".png\"):\n",
        "        # PNGファイルだけを移動\n",
        "        shutil.move(os.path.join(source_dir, filename), os.path.join(target_dir, filename))\n",
        "\n",
        "print(\"PNG files have been moved successfully!\")"
      ],
      "metadata": {
        "id": "7myig6YVv3Cv"
      },
      "execution_count": null,
      "outputs": []
    }
  ]
}