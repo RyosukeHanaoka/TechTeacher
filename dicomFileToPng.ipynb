{
  "nbformat": 4,
  "nbformat_minor": 0,
  "metadata": {
    "colab": {
      "provenance": [],
      "mount_file_id": "1yYERCbi-0XT8PapR93G_jAb-IUY8JNBp",
      "authorship_tag": "ABX9TyPb+WWMnen32hHDsawZdExx",
      "include_colab_link": true
    },
    "kernelspec": {
      "name": "python3",
      "display_name": "Python 3"
    },
    "language_info": {
      "name": "python"
    }
  },
  "cells": [
    {
      "cell_type": "markdown",
      "metadata": {
        "id": "view-in-github",
        "colab_type": "text"
      },
      "source": [
        "<a href=\"https://colab.research.google.com/github/RyosukeHanaoka/TechTeacher/blob/main/dicomFileToPng.ipynb\" target=\"_parent\"><img src=\"https://colab.research.google.com/assets/colab-badge.svg\" alt=\"Open In Colab\"/></a>"
      ]
    },
    {
      "cell_type": "code",
      "source": [
        "!pip install pydicom\n",
        "!pip install pylibjpeg\n",
        "!pip install python-gdcm\n",
        "!pip install pylibjpeg-libjpeg\n",
        "!pip install pillow as PIL"
      ],
      "metadata": {
        "colab": {
          "base_uri": "https://localhost:8080/"
        },
        "id": "kPsQvIyGQTcF",
        "outputId": "925723d1-49c4-4b39-f222-665bdf5378b9"
      },
      "execution_count": null,
      "outputs": [
        {
          "output_type": "stream",
          "name": "stdout",
          "text": [
            "Collecting pydicom\n",
            "  Downloading pydicom-2.4.2-py3-none-any.whl (1.8 MB)\n",
            "\u001b[?25l     \u001b[90m━━━━━━━━━━━━━━━━━━━━━━━━━━━━━━━━━━━━━━━━\u001b[0m \u001b[32m0.0/1.8 MB\u001b[0m \u001b[31m?\u001b[0m eta \u001b[36m-:--:--\u001b[0m\r\u001b[2K     \u001b[91m━━━━\u001b[0m\u001b[90m╺\u001b[0m\u001b[90m━━━━━━━━━━━━━━━━━━━━━━━━━━━━━━━━━━━\u001b[0m \u001b[32m0.2/1.8 MB\u001b[0m \u001b[31m5.9 MB/s\u001b[0m eta \u001b[36m0:00:01\u001b[0m\r\u001b[2K     \u001b[91m━━━━━━━━━━━━━━━━━\u001b[0m\u001b[91m╸\u001b[0m\u001b[90m━━━━━━━━━━━━━━━━━━━━━━\u001b[0m \u001b[32m0.8/1.8 MB\u001b[0m \u001b[31m11.5 MB/s\u001b[0m eta \u001b[36m0:00:01\u001b[0m\r\u001b[2K     \u001b[90m━━━━━━━━━━━━━━━━━━━━━━━━━━━━━━━━━━━━━━━━\u001b[0m \u001b[32m1.8/1.8 MB\u001b[0m \u001b[31m19.1 MB/s\u001b[0m eta \u001b[36m0:00:00\u001b[0m\n",
            "\u001b[?25hInstalling collected packages: pydicom\n",
            "Successfully installed pydicom-2.4.2\n",
            "Collecting pylibjpeg\n",
            "  Downloading pylibjpeg-1.4.0-py3-none-any.whl (28 kB)\n",
            "Requirement already satisfied: numpy in /usr/local/lib/python3.10/dist-packages (from pylibjpeg) (1.23.5)\n",
            "Installing collected packages: pylibjpeg\n",
            "Successfully installed pylibjpeg-1.4.0\n",
            "Collecting python-gdcm\n",
            "  Downloading python_gdcm-3.0.22-cp310-cp310-manylinux_2_17_x86_64.manylinux2014_x86_64.whl (13.0 MB)\n",
            "\u001b[2K     \u001b[90m━━━━━━━━━━━━━━━━━━━━━━━━━━━━━━━━━━━━━━━━\u001b[0m \u001b[32m13.0/13.0 MB\u001b[0m \u001b[31m30.2 MB/s\u001b[0m eta \u001b[36m0:00:00\u001b[0m\n",
            "\u001b[?25hInstalling collected packages: python-gdcm\n",
            "Successfully installed python-gdcm-3.0.22\n",
            "Collecting pylibjpeg-libjpeg\n",
            "  Downloading pylibjpeg_libjpeg-1.3.4-cp310-cp310-manylinux_2_17_x86_64.manylinux2014_x86_64.whl (4.3 MB)\n",
            "\u001b[2K     \u001b[90m━━━━━━━━━━━━━━━━━━━━━━━━━━━━━━━━━━━━━━━━\u001b[0m \u001b[32m4.3/4.3 MB\u001b[0m \u001b[31m45.3 MB/s\u001b[0m eta \u001b[36m0:00:00\u001b[0m\n",
            "\u001b[?25hRequirement already satisfied: numpy>=1.22 in /usr/local/lib/python3.10/dist-packages (from pylibjpeg-libjpeg) (1.23.5)\n",
            "Installing collected packages: pylibjpeg-libjpeg\n",
            "Successfully installed pylibjpeg-libjpeg-1.3.4\n",
            "Requirement already satisfied: pillow in /usr/local/lib/python3.10/dist-packages (9.4.0)\n",
            "\u001b[31mERROR: Could not find a version that satisfies the requirement as (from versions: none)\u001b[0m\u001b[31m\n",
            "\u001b[0m\u001b[31mERROR: No matching distribution found for as\u001b[0m\u001b[31m\n",
            "\u001b[0m"
          ]
        }
      ]
    },
    {
      "cell_type": "code",
      "source": [
        "# まず、使用するライブラリを呼び出す。\n",
        "from google.colab import drive\n",
        "import os\n",
        "import shutil\n",
        "import pydicom\n",
        "import cv2\n",
        "import numpy as np"
      ],
      "metadata": {
        "id": "rqw2EVD2odWl"
      },
      "execution_count": null,
      "outputs": []
    },
    {
      "cell_type": "code",
      "source": [
        "# Google Driveを呼び出す。\n",
        "drive.mount('/content/drive')"
      ],
      "metadata": {
        "colab": {
          "base_uri": "https://localhost:8080/"
        },
        "id": "53EuykkiooBI",
        "outputId": "e5f36267-fcce-4c62-d7f7-378f647caf6c"
      },
      "execution_count": null,
      "outputs": [
        {
          "output_type": "stream",
          "name": "stdout",
          "text": [
            "Drive already mounted at /content/drive; to attempt to forcibly remount, call drive.mount(\"/content/drive\", force_remount=True).\n"
          ]
        }
      ]
    },
    {
      "cell_type": "code",
      "source": [
        "# xpFilesのコピーを作成する。\n",
        "shutil.copytree('/content/drive/MyDrive/xpFiles','/content/drive/MyDrive/xpFiles_copy')"
      ],
      "metadata": {
        "id": "Xq5YBjNuosSj"
      },
      "execution_count": null,
      "outputs": []
    },
    {
      "cell_type": "code",
      "source": [
        "for root, dirs, files in os.walk('/content/drive/MyDrive/xpFiles_copy'):# '/content/drive/MyDrive/xpFiles_copy'の中のroot、directory、fileを走査する。\n",
        "    for file in files:\n",
        "        # 変数patient_idを定義\n",
        "        patient_id = os.path.dirname(root)[40:46]\n",
        "        # 変数patient_filename_taleを定義\n",
        "        patient_filename_tale = os.path.basename(root)\n",
        "        # 変数new_filenameを定義\n",
        "        file_extension = os.path.splitext(file)[1]  # 元のファイルの拡張子を取得\n",
        "        new_filename = patient_id+'_'+ patient_filename_tale+\".dcm\"\n",
        "        os.rename(os.path.join(root, file), os.path.join(root, new_filename))"
      ],
      "metadata": {
        "id": "dA9nqBrg-sxV"
      },
      "execution_count": null,
      "outputs": []
    },
    {
      "cell_type": "code",
      "source": [
        "# xpFiles_copyのコピーを作成する。\n",
        "shutil.copytree('/content/drive/MyDrive/xpFiles_copy','/content/drive/MyDrive/xpFiles_copy_of_copy')"
      ],
      "metadata": {
        "colab": {
          "base_uri": "https://localhost:8080/",
          "height": 34
        },
        "id": "icyaiLNKK4zi",
        "outputId": "acdcd0d4-c71f-4e55-81ca-4b38ff746cf2"
      },
      "execution_count": null,
      "outputs": [
        {
          "output_type": "execute_result",
          "data": {
            "text/plain": [
              "'/content/drive/MyDrive/xpFiles_copy_of_copy'"
            ],
            "application/vnd.google.colaboratory.intrinsic+json": {
              "type": "string"
            }
          },
          "metadata": {},
          "execution_count": 7
        }
      ]
    },
    {
      "cell_type": "code",
      "source": [
        "os.makedirs('/content/drive/MyDrive/xpFiles_Hand', exist_ok=True)\n",
        "\n",
        "for root, dirs, files in os.walk('/content/drive/MyDrive/xpFiles_copy_of_copy'):\n",
        "    for file in files:\n",
        "        dcmfile_path = os.path.join(root, file)\n",
        "        ds = pydicom.dcmread(dcmfile_path, force=True)\n",
        "\n",
        "        if hasattr(ds, 'BodyPartExamined'):\n",
        "            body_part = ds.BodyPartExamined\n",
        "            if body_part == 'HAND':\n",
        "                shutil.move(dcmfile_path, '/content/drive/MyDrive/xpFiles_Hand')"
      ],
      "metadata": {
        "id": "cP27QTWKKyoA"
      },
      "execution_count": null,
      "outputs": []
    },
    {
      "cell_type": "code",
      "source": [
        "#xpFiles_Handのコピーを作成する。\n",
        "shutil.copytree('/content/drive/MyDrive/xpFiles_Hand','/content/drive/MyDrive/xpFiles_Hand_copy')"
      ],
      "metadata": {
        "colab": {
          "base_uri": "https://localhost:8080/",
          "height": 34
        },
        "id": "5hqzzmnfk6RN",
        "outputId": "741b1311-fafc-4dfc-d74c-ce09f25cccf5"
      },
      "execution_count": null,
      "outputs": [
        {
          "output_type": "execute_result",
          "data": {
            "text/plain": [
              "'/content/drive/MyDrive/xpFiles_Hand_copy'"
            ],
            "application/vnd.google.colaboratory.intrinsic+json": {
              "type": "string"
            }
          },
          "metadata": {},
          "execution_count": 17
        }
      ]
    },
    {
      "cell_type": "code",
      "source": [
        "import numpy as np\n",
        "import pydicom\n",
        "import pylibjpeg\n",
        "from PIL import Image\n",
        "import os"
      ],
      "metadata": {
        "id": "LASmQs57Swex"
      },
      "execution_count": null,
      "outputs": []
    },
    {
      "cell_type": "code",
      "source": [
        "def dicom_to_png(dcmfile_path):\n",
        "    try:\n",
        "        ds = pydicom.dcmread(dcmfile_path)  # dicomファイルのメタデータを変数dsに代入。\n",
        "        rescale_slope = 1  # デフォルト値を1に設定\n",
        "        rescale_intercept = 0  # デフォルト値を0に設定\n",
        "\n",
        "        if 'RescaleSlope' in ds:\n",
        "            rescale_slope = ds.RescaleSlope\n",
        "        if 'RescaleIntercept' in ds:\n",
        "            rescale_intercept = ds.RescaleIntercept\n",
        "\n",
        "        img = ds.pixel_array * rescale_slope + rescale_intercept\n",
        "        img = np.clip((img - (ds.WindowCenter - 0.5)) / (ds.WindowWidth - 0.5 + np.spacing(1)) * 255, 0, 255)  # 画像のウインドニングを行う計算式\n",
        "        pngfile_path = dcmfile_path.replace('.dcm', '.png')  # 拡張子の変更\n",
        "        cv2.imwrite(pngfile_path, img.astype(np.uint8))\n",
        "    except RuntimeError as e:\n",
        "        print(f\"An error occurred while processing {dcmfile_path}: {str(e)}\")\n",
        "        # このファイルはスキップして次に進みます\n",
        "\n",
        "for root, dirs, files in os.walk('/content/drive/MyDrive/xpFiles_Hand'):\n",
        "    for file in files:\n",
        "        dcmfile_path = os.path.join(root, file)\n",
        "        dicom_to_png(dcmfile_path)"
      ],
      "metadata": {
        "id": "6r6J0MDTVf83"
      },
      "execution_count": null,
      "outputs": []
    },
    {
      "cell_type": "code",
      "source": [
        "def dicom_to_png(dcmfile_path, png_directory):\n",
        "    try:\n",
        "        ds = pydicom.dcmread(dcmfile_path)\n",
        "        rescale_slope = 1  # デフォルト値を1に設定\n",
        "        rescale_intercept = 0  # デフォルト値を0に設定\n",
        "\n",
        "        if 'RescaleSlope' in ds:\n",
        "            rescale_slope = ds.RescaleSlope\n",
        "        if 'RescaleIntercept' in ds:\n",
        "            rescale_intercept = ds.RescaleIntercept\n",
        "\n",
        "        img = ds.pixel_array * rescale_slope + rescale_intercept\n",
        "        img = np.clip((img - (ds.WindowCenter - 0.5)) / (ds.WindowWidth - 0.5 + np.spacing(1)) * 255, 0, 255)\n",
        "        pngfile_path = dcmfile_path.replace('.dcm', '.png')  # 拡張子の変更\n",
        "        cv2.imwrite(pngfile_path, img.astype(np.uint8))\n",
        "    except RuntimeError as e:\n",
        "        print(f\"An error occurred while processing {dcmfile_path}: {str(e)}\")\n",
        "\n",
        "png_directory = '/content/drive/MyDrive/xpFiles_PNG'\n",
        "\n",
        "# 必要であれば、ディレクトリを作成します。\n",
        "os.makedirs(png_directory, exist_ok=True)\n",
        "\n",
        "for root, dirs, files in os.walk('/content/drive/MyDrive/xpFiles_Hand_copy'):\n",
        "    for file in files:\n",
        "        dcmfile_path = os.path.join(root, file)\n",
        "        dicom_to_png(dcmfile_path, png_directory)"
      ],
      "metadata": {
        "id": "3WeKxVMgal-K"
      },
      "execution_count": null,
      "outputs": []
    },
    {
      "cell_type": "code",
      "source": [
        "import os\n",
        "import shutil\n",
        "\n",
        "# ソースディレクトリとターゲットディレクトリの設定\n",
        "source_dir = '/content/drive/MyDrive/xpFiles_Hand'\n",
        "target_dir = '/content/drive/MyDrive/xpFiles_png'\n",
        "\n",
        "# ターゲットディレクトリが存在しない場合は作成\n",
        "if not os.path.exists(target_dir):\n",
        "    os.makedirs(target_dir)\n",
        "\n",
        "# ソースディレクトリ内のファイルをループして処理\n",
        "for filename in os.listdir(source_dir):\n",
        "    if filename.endswith(\".png\"):\n",
        "        # PNGファイルだけを移動\n",
        "        shutil.move(os.path.join(source_dir, filename), os.path.join(target_dir, filename))\n",
        "\n",
        "print(\"PNG files have been moved successfully!\")"
      ],
      "metadata": {
        "colab": {
          "base_uri": "https://localhost:8080/"
        },
        "id": "7myig6YVv3Cv",
        "outputId": "adaff0c6-58c2-427d-d0db-99b2d8e828a6"
      },
      "execution_count": null,
      "outputs": [
        {
          "output_type": "stream",
          "name": "stdout",
          "text": [
            "PNG files have been moved successfully!\n"
          ]
        }
      ]
    }
  ]
}