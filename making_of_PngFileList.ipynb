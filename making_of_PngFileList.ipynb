{
  "nbformat": 4,
  "nbformat_minor": 0,
  "metadata": {
    "colab": {
      "provenance": [],
      "authorship_tag": "ABX9TyONFOKhzJDF4qgWBuggcOgh",
      "include_colab_link": true
    },
    "kernelspec": {
      "name": "python3",
      "display_name": "Python 3"
    },
    "language_info": {
      "name": "python"
    }
  },
  "cells": [
    {
      "cell_type": "markdown",
      "metadata": {
        "id": "view-in-github",
        "colab_type": "text"
      },
      "source": [
        "<a href=\"https://colab.research.google.com/github/RyosukeHanaoka/TechTeacher/blob/main/making_of_PngFileList.ipynb\" target=\"_parent\"><img src=\"https://colab.research.google.com/assets/colab-badge.svg\" alt=\"Open In Colab\"/></a>"
      ]
    },
    {
      "cell_type": "code",
      "execution_count": 1,
      "metadata": {
        "colab": {
          "base_uri": "https://localhost:8080/"
        },
        "id": "dl8Q241m4jGJ",
        "outputId": "4da2fd85-8f85-400d-a12b-ced0e3f2fde5"
      },
      "outputs": [
        {
          "output_type": "stream",
          "name": "stdout",
          "text": [
            "Mounted at /content/drive\n"
          ]
        }
      ],
      "source": [
        "from google.colab import drive\n",
        "drive.mount('/content/drive')\n"
      ]
    },
    {
      "cell_type": "code",
      "source": [
        "import os\n",
        "import csv\n",
        "\n",
        "# 指定されたディレクトリへ移動\n",
        "path = \"/content/drive/MyDrive/backUpofXpFilesFinal_png\"\n",
        "os.chdir(path)\n",
        "\n",
        "# CSVファイルを作成\n",
        "with open('file_list.csv', 'w', newline='') as csvfile:\n",
        "    fieldnames = ['filename', 'file_path']\n",
        "    writer = csv.DictWriter(csvfile, fieldnames=fieldnames)\n",
        "\n",
        "    # ヘッダーを書き込み\n",
        "    writer.writeheader()\n",
        "\n",
        "    # PNGファイルを検索して、ファイル名とパスを書き込み\n",
        "    for filename in os.listdir(path):\n",
        "        if filename.endswith(\".png\"):\n",
        "            writer.writerow({'filename': filename, 'file_path': os.path.join(path, filename)})\n"
      ],
      "metadata": {
        "id": "cdcXfke-4v3r"
      },
      "execution_count": 2,
      "outputs": []
    }
  ]
}