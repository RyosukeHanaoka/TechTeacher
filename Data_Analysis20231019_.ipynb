{
  "nbformat": 4,
  "nbformat_minor": 0,
  "metadata": {
    "colab": {
      "provenance": [],
      "authorship_tag": "ABX9TyPglRFY3s+qaVVtu1vG6CXa",
      "include_colab_link": true
    },
    "kernelspec": {
      "name": "python3",
      "display_name": "Python 3"
    },
    "language_info": {
      "name": "python"
    }
  },
  "cells": [
    {
      "cell_type": "markdown",
      "metadata": {
        "id": "view-in-github",
        "colab_type": "text"
      },
      "source": [
        "<a href=\"https://colab.research.google.com/github/RyosukeHanaoka/TechTeacher/blob/main/Data_Analysis20231019_.ipynb\" target=\"_parent\"><img src=\"https://colab.research.google.com/assets/colab-badge.svg\" alt=\"Open In Colab\"/></a>"
      ]
    },
    {
      "cell_type": "code",
      "execution_count": 4,
      "metadata": {
        "colab": {
          "base_uri": "https://localhost:8080/",
          "height": 1000
        },
        "id": "07J8uUszJwJO",
        "outputId": "055272c3-0d14-4137-cd68-1d8041116dfb"
      },
      "outputs": [
        {
          "output_type": "stream",
          "name": "stdout",
          "text": [
            "Mounted at /content/drive\n",
            "RA group - Mean age: 69.79, Median age: 72.0, Standard Deviation: 13.31, Q1: 64.0, Q3: 80.0\n",
            "Control group - Mean age: 39.13, Median age: 37.0, Standard Deviation: 12.19, Q1: 30.0, Q3: 47.0\n",
            "RA group age distribution:\n",
            "10-14: 0\n",
            "15-19: 0\n",
            "20-24: 1\n",
            "25-29: 1\n",
            "30-34: 3\n",
            "35-39: 2\n",
            "40-44: 2\n",
            "45-49: 11\n",
            "50-54: 13\n",
            "55-59: 11\n",
            "60-64: 20\n",
            "65-69: 36\n",
            "70-74: 34\n",
            "75-79: 32\n",
            "80-84: 42\n",
            "85-89: 14\n",
            "90-94: 6\n",
            "95-99: 1\n",
            "\n",
            "Control group age distribution:\n",
            "10-14: 0\n",
            "15-19: 28\n",
            "20-24: 99\n",
            "25-29: 156\n",
            "30-34: 208\n",
            "35-39: 197\n",
            "40-44: 160\n",
            "45-49: 156\n",
            "50-54: 89\n",
            "55-59: 46\n",
            "60-64: 24\n",
            "65-69: 45\n",
            "70-74: 8\n",
            "75-79: 6\n",
            "80-84: 2\n",
            "85-89: 1\n",
            "90-94: 0\n",
            "95-99: 0\n"
          ]
        },
        {
          "output_type": "display_data",
          "data": {
            "text/plain": [
              "<Figure size 1200x600 with 1 Axes>"
            ],
            "image/png": "[encoded data removed]"
          },
          "metadata": {}
        },
        {
          "output_type": "stream",
          "name": "stdout",
          "text": [
            "RA group - Female counts:\n",
            "1    167\n",
            "0     62\n",
            "Name: female, dtype: int64\n",
            "Control group - Female counts:\n",
            "1.0    660\n",
            "0.0    565\n",
            "Name: female, dtype: int64\n"
          ]
        }
      ],
      "source": [
        "# 必要なライブラリのインポート\n",
        "import pandas as pd\n",
        "import numpy as np\n",
        "import matplotlib.pyplot as plt\n",
        "\n",
        "# Google Driveのマウント\n",
        "from google.colab import files\n",
        "from google.colab import drive\n",
        "drive.mount('/content/drive')\n",
        "\n",
        "# データの読み込み\n",
        "ra_df = pd.read_csv(\"/content/drive/MyDrive/OptPhotoFiles/optPhotoTable/optPhotoTable_RA.csv\")\n",
        "control_df = pd.read_csv(\"/content/drive/MyDrive/OptPhotoFiles/optPhotoTable/optPhotoTable_controls.csv\")\n",
        "\n",
        "# 統計量の計算\n",
        "def get_statistics(df, column_name):\n",
        "    mean = df[column_name].mean()\n",
        "    median = df[column_name].median()\n",
        "    std = df[column_name].std()\n",
        "    q1 = df[column_name].quantile(0.25)\n",
        "    q3 = df[column_name].quantile(0.75)\n",
        "\n",
        "    return mean, median, std, q1, q3\n",
        "\n",
        "mean_ra, median_ra, std_ra, q1_ra, q3_ra = get_statistics(ra_df, \"age\")\n",
        "mean_control, median_control, std_control, q1_control, q3_control = get_statistics(control_df, \"age\")\n",
        "\n",
        "# 結果の表示\n",
        "print(f\"RA group - Mean age: {mean_ra:.2f}, Median age: {median_ra}, Standard Deviation: {std_ra:.2f}, Q1: {q1_ra}, Q3: {q3_ra}\")\n",
        "print(f\"Control group - Mean age: {mean_control:.2f}, Median age: {median_control}, Standard Deviation: {std_control:.2f}, Q1: {q1_control}, Q3: {q3_control}\")\n",
        "\n",
        "# 5歳刻みの度数分布\n",
        "bins = list(range(10, 105, 5))\n",
        "ra_hist_values, _ = np.histogram(ra_df[\"age\"], bins=bins)\n",
        "control_hist_values, _ = np.histogram(control_df[\"age\"], bins=bins)\n",
        "\n",
        "print(\"RA group age distribution:\")\n",
        "for i in range(len(bins)-1):\n",
        "    print(f\"{bins[i]}-{bins[i+1]-1}: {ra_hist_values[i]}\")\n",
        "\n",
        "print(\"\\nControl group age distribution:\")\n",
        "for i in range(len(bins)-1):\n",
        "    print(f\"{bins[i]}-{bins[i+1]-1}: {control_hist_values[i]}\")\n",
        "\n",
        "# ヒストグラムの表示\n",
        "plt.figure(figsize=(12, 6))\n",
        "plt.hist(ra_df[\"age\"], bins=bins, alpha=0.5, label=\"RA\")\n",
        "plt.hist(control_df[\"age\"], bins=bins, alpha=0.5, label=\"Control\")\n",
        "plt.title(\"Age distribution\")\n",
        "plt.xlabel(\"Age\")\n",
        "plt.ylabel(\"Count\")\n",
        "plt.legend()\n",
        "plt.show()\n",
        "\n",
        "# femaleの度数\n",
        "ra_female_counts = ra_df[\"female\"].value_counts()\n",
        "control_female_counts = control_df[\"female\"].value_counts()\n",
        "\n",
        "print(f\"RA group - Female counts:\\n{ra_female_counts}\")\n",
        "print(f\"Control group - Female counts:\\n{control_female_counts}\")\n"
      ]
    }
  ]
}