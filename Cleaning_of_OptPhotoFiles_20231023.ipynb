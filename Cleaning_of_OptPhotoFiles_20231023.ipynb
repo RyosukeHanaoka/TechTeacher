{
  "nbformat": 4,
  "nbformat_minor": 0,
  "metadata": {
    "colab": {
      "provenance": [],
      "authorship_tag": "ABX9TyMasbkhMxReLOK/CwfWX8OL",
      "include_colab_link": true
    },
    "kernelspec": {
      "name": "python3",
      "display_name": "Python 3"
    },
    "language_info": {
      "name": "python"
    }
  },
  "cells": [
    {
      "cell_type": "markdown",
      "metadata": {
        "id": "view-in-github",
        "colab_type": "text"
      },
      "source": [
        "<a href=\"https://colab.research.google.com/github/RyosukeHanaoka/TechTeacher/blob/main/Cleaning_of_OptPhotoFiles_20231023.ipynb\" target=\"_parent\"><img src=\"https://colab.research.google.com/assets/colab-badge.svg\" alt=\"Open In Colab\"/></a>"
      ]
    },
    {
      "cell_type": "markdown",
      "source": [
        "#OptPhotoFilesを整備する。\n",
        "OptPhotoFilesというディレクトリに含まれているファイルを、解析に適した形式に整える作業。\n",
        "注意：本ノートブックは失われたノートの復元物です。実際の使用には、幾らかの修正が必要になる可能性があります。既存のファイルを破損しないように注意してください。"
      ],
      "metadata": {
        "id": "4_JutXSB-ZRo"
      }
    },
    {
      "cell_type": "markdown",
      "source": [
        "#出発点となるファイルの生成（バックアップファイルから）\n",
        "\"/content/drive/MyDrive/OptPhotoFiles/optPhotoFilesBackUp/optPhotoFiles/\"には、nonRA_left_HandとnonRA_Right_Handというディレクトリが存在し、その中にたくさんの雑多な画像ファイルが含まれています。ファイル形式はjpgが主体ですが、heicが含まれていたり、ひどいものではhtmlが含まれていたりします。そこでまず、\n",
        "/content/drive/MyDrive/OptPhotoFiles/optPhotoFilesBackUp/optPhotoFiles/nonRA_Right_Handに含まれているファイルのファイル形式を統一します。最初に全てコピーして、/content/drive/MyDrive/OptPhotoFiles/optPhotoFiles/nonRA/nonRA_Right_Handを新規に作成し、その中にファイルを格納します。"
      ],
      "metadata": {
        "id": "4BVkRe_8-nl0"
      }
    },
    {
      "cell_type": "markdown",
      "source": [
        "まず、Google Driveをマウントする。"
      ],
      "metadata": {
        "id": "lMZbAM8lAaou"
      }
    },
    {
      "cell_type": "code",
      "source": [
        "from google.colab import drive\n",
        "drive.mount('/content/drive')"
      ],
      "metadata": {
        "id": "jdEpt3ru-hZI"
      },
      "execution_count": null,
      "outputs": []
    },
    {
      "cell_type": "markdown",
      "source": [
        "#ファイル形式の統一（jpg以外の画像形式をjpgに変換、htmlファイルは削除）\n",
        "次に、ディレクトリをコピーし、ファイル形式の統一を行います。"
      ],
      "metadata": {
        "id": "viVydCyqAhRN"
      }
    },
    {
      "cell_type": "code",
      "source": [
        "import os\n",
        "import shutil\n",
        "from PIL import Image\n",
        "\n",
        "# ディレクトリのコピー\n",
        "src_dir = \"/content/drive/MyDrive/OptPhotoFiles/optPhotoFilesBackUp/optPhotoFiles/nonRA_Right_Hand\"\n",
        "dst_dir = \"/content/drive/MyDrive/OptPhotoFiles/optPhotoFiles/nonRA/nonRA_Right_Hand\"\n",
        "\n",
        "if not os.path.exists(dst_dir):\n",
        "    shutil.copytree(src_dir, dst_dir)\n",
        "\n",
        "# ファイル形式の統一\n",
        "for root, dirs, files in os.walk(dst_dir):\n",
        "    for file in files:\n",
        "        file_path = os.path.join(root, file)\n",
        "        file_ext = os.path.splitext(file)[1].lower()\n",
        "\n",
        "        # htmlファイルの場合、削除\n",
        "        if file_ext == '.html':\n",
        "            os.remove(file_path)\n",
        "        # heicファイルの場合、jpgに変換\n",
        "        elif file_ext == '.heic':\n",
        "            with Image.open(file_path) as im:\n",
        "                new_file_path = os.path.join(root, os.path.splitext(file)[0] + '.jpg')\n",
        "                im.convert(\"RGB\").save(new_file_path, \"JPEG\")\n",
        "                os.remove(file_path)\n",
        "\n",
        "print(\"Process completed!\")"
      ],
      "metadata": {
        "id": "CBBKPYjT-wwJ"
      },
      "execution_count": null,
      "outputs": []
    },
    {
      "cell_type": "markdown",
      "source": [
        "このコードを実行すると、nonRA_Right_Hand ディレクトリの内容が nonRA/nonRA_Right_Hand にコピーされ、ファイル形式が統一されます。"
      ],
      "metadata": {
        "id": "jFFQ2uchBPaH"
      }
    },
    {
      "cell_type": "markdown",
      "source": [
        "念の為、各ディレクトリに含まれるファイル数を表示する。"
      ],
      "metadata": {
        "id": "LApUG6a_KUPV"
      }
    },
    {
      "cell_type": "code",
      "source": [
        "import os\n",
        "\n",
        "# 対象のディレクトリ\n",
        "target_dir = \"/content/drive/MyDrive/OptPhotoFiles/optPhotoFilesBackUp/optPhotoFiles/nonRA_Right_Hand\"\n",
        "\n",
        "# ファイル数を計算\n",
        "file_count = sum([len(files) for _, _, files in os.walk(target_dir)])\n",
        "\n",
        "print(f\"Total number of files in {target_dir}: {file_count}\")"
      ],
      "metadata": {
        "id": "-LUiCmGXKQDe"
      },
      "execution_count": null,
      "outputs": []
    },
    {
      "cell_type": "code",
      "source": [
        "# 対象のディレクトリ\n",
        "target_dir = \"/content/drive/MyDrive/OptPhotoFiles/optPhotoFiles/nonRA/nonRA_Right_Hand\"\n",
        "\n",
        "# ファイル数を計算\n",
        "file_count = sum([len(files) for _, _, files in os.walk(target_dir)])\n",
        "\n",
        "print(f\"Total number of files in {target_dir}: {file_count}\")"
      ],
      "metadata": {
        "id": "qaINX1A3KnZB"
      },
      "execution_count": null,
      "outputs": []
    },
    {
      "cell_type": "markdown",
      "source": [
        "同様の処理を左手でも施行する。"
      ],
      "metadata": {
        "id": "NY3B_S0DEBY3"
      }
    },
    {
      "cell_type": "code",
      "source": [
        "# ディレクトリのコピー\n",
        "src_dir = \"/content/drive/MyDrive/OptPhotoFiles/optPhotoFilesBackUp/optPhotoFiles/nonRA_Left_Hand\"\n",
        "dst_dir = \"/content/drive/MyDrive/OptPhotoFiles/optPhotoFiles/nonRA/nonRA_Left_Hand\"\n",
        "\n",
        "if not os.path.exists(dst_dir):\n",
        "    shutil.copytree(src_dir, dst_dir)\n",
        "\n",
        "# ファイル形式の統一\n",
        "for root, dirs, files in os.walk(dst_dir):\n",
        "    for file in files:\n",
        "        file_path = os.path.join(root, file)\n",
        "        file_ext = os.path.splitext(file)[1].lower()\n",
        "\n",
        "        # htmlファイルの場合、削除\n",
        "        if file_ext == '.html':\n",
        "            os.remove(file_path)\n",
        "        # heicファイルの場合、jpgに変換\n",
        "        elif file_ext == '.heic':\n",
        "            with Image.open(file_path) as im:\n",
        "                new_file_path = os.path.join(root, os.path.splitext(file)[0] + '.jpg')\n",
        "                im.convert(\"RGB\").save(new_file_path, \"JPEG\")\n",
        "                os.remove(file_path)\n",
        "\n",
        "print(\"Process completed!\")"
      ],
      "metadata": {
        "id": "bQnx59p8D9fE"
      },
      "execution_count": null,
      "outputs": []
    },
    {
      "cell_type": "code",
      "source": [
        "# 対象のディレクトリ\n",
        "target_dir = \"/content/drive/MyDrive/OptPhotoFiles/optPhotoFilesBackUp/optPhotoFiles/nonRA_Left_Hand\"\n",
        "\n",
        "# ファイル数を計算\n",
        "file_count = sum([len(files) for _, _, files in os.walk(target_dir)])\n",
        "\n",
        "print(f\"Total number of files in {target_dir}: {file_count}\")"
      ],
      "metadata": {
        "id": "bltOGY1-Kz0b"
      },
      "execution_count": null,
      "outputs": []
    },
    {
      "cell_type": "code",
      "source": [
        "# 対象のディレクトリ\n",
        "target_dir = \"/content/drive/MyDrive/OptPhotoFiles/optPhotoFiles/nonRA/nonRA_Left_Hand\"\n",
        "\n",
        "# ファイル数を計算\n",
        "file_count = sum([len(files) for _, _, files in os.walk(target_dir)])\n",
        "\n",
        "print(f\"Total number of files in {target_dir}: {file_count}\")"
      ],
      "metadata": {
        "id": "OKwsCP3CK44B"
      },
      "execution_count": null,
      "outputs": []
    },
    {
      "cell_type": "markdown",
      "source": [
        "ここからは、バックアップファイルの破損防止のため、/content/drive/MyDrive/OptPhotoFiles/optPhotoFiles/nonRA/nonRA_Right_Handと、/content/drive/MyDrive/OptPhotoFiles/optPhotoFiles/nonRA/nonRA_Left_Handを改変する。"
      ],
      "metadata": {
        "id": "NOLu7iTeE_7F"
      }
    },
    {
      "cell_type": "markdown",
      "source": [
        "#拡張子の統一\n",
        "ここからは、/content/drive/MyDrive/OptPhotoFiles/optPhotoFiles/nonRA/nonRA_Right_Handを改変します。heicは全てjpgに変換し、jpgファイルの中で、拡張子が”jpg”以外の表記の場合、それらの拡張子をjpgに統一してください。ファイルが破損しているなどの理由で変換できない場合は削除していいです。ただし、削除したファイル名を教えてください。"
      ],
      "metadata": {
        "id": "hhoLaDiuGFru"
      }
    },
    {
      "cell_type": "code",
      "source": [
        "!pip install pyheif\n",
        "from PIL import Image\n",
        "import os\n",
        "import pyheif\n",
        "\n",
        "src_dir = \"/content/drive/MyDrive/OptPhotoFiles/optPhotoFiles/nonRA/nonRA_Right_Hand\"\n",
        "dst_dir = \"/content/drive/MyDrive/OptPhotoFiles/optPhotoFiles/nonRA/nonRA_Right_Hand_2nd\"\n",
        "\n",
        "if not os.path.exists(dst_dir):\n",
        "    os.makedirs(dst_dir)\n",
        "\n",
        "failed_files = []\n",
        "\n",
        "for root, _, files in os.walk(src_dir):\n",
        "    for file in files:\n",
        "        src_path = os.path.join(root, file)\n",
        "        filename, ext = os.path.splitext(file)\n",
        "\n",
        "        try:\n",
        "            # Convert heic files to jpg\n",
        "            if ext.lower() == '.heic':\n",
        "                heif_file = pyheif.read(src_path)\n",
        "                image = Image.frombytes(\n",
        "                    heif_file.mode,\n",
        "                    heif_file.size,\n",
        "                    heif_file.data,\n",
        "                    \"raw\",\n",
        "                    heif_file.mode,\n",
        "                    heif_file.stride,\n",
        "                )\n",
        "                dst_path = os.path.join(dst_dir, filename + '.jpg')\n",
        "                image.save(dst_path, \"JPEG\")\n",
        "\n",
        "            # Rename other jpg files to ensure the extension is \".jpg\"\n",
        "            elif ext.lower() in ['.jpeg', '.jpg']:\n",
        "                dst_path = os.path.join(dst_dir, filename + '.jpg')\n",
        "                image = Image.open(src_path)\n",
        "                image.save(dst_path, \"JPEG\")\n",
        "\n",
        "        except Exception as e:\n",
        "            print(f\"Error processing file {file}: {e}\")\n",
        "            failed_files.append(file)\n",
        "\n",
        "if failed_files:\n",
        "    print(\"Failed to process the following files:\")\n",
        "    for file in failed_files:\n",
        "        print(file)\n",
        "else:\n",
        "    print(\"All files processed successfully!\")"
      ],
      "metadata": {
        "id": "H2YOmm5bHnw0"
      },
      "execution_count": null,
      "outputs": []
    },
    {
      "cell_type": "markdown",
      "source": [
        "ファイル数の確認を行う。"
      ],
      "metadata": {
        "id": "FUHLEUm0LYs8"
      }
    },
    {
      "cell_type": "code",
      "source": [
        "# 対象のディレクトリ\n",
        "target_dir = \"/content/drive/MyDrive/OptPhotoFiles/optPhotoFiles/nonRA/nonRA_Right_Hand_2nd\"\n",
        "\n",
        "# ファイル数を計算\n",
        "file_count = sum([len(files) for _, _, files in os.walk(target_dir)])\n",
        "\n",
        "print(f\"Total number of files in {target_dir}: {file_count}\")"
      ],
      "metadata": {
        "id": "3XpwNl33LGmq"
      },
      "execution_count": null,
      "outputs": []
    },
    {
      "cell_type": "markdown",
      "source": [
        "ここまでと同じ処理を/content/drive/MyDrive/OptPhotoFiles/optPhotoFilesBackUp/nonRA_Left_Handに含まれているファイルにも行なう。"
      ],
      "metadata": {
        "id": "O8ptmRSlIMaL"
      }
    },
    {
      "cell_type": "code",
      "source": [
        "src_dir = \"/content/drive/MyDrive/OptPhotoFiles/optPhotoFiles/nonRA/nonRA_Left_Hand\"\n",
        "dst_dir = \"/content/drive/MyDrive/OptPhotoFiles/optPhotoFiles/nonRA/nonRA_Left_Hand_2nd\"\n",
        "\n",
        "if not os.path.exists(dst_dir):\n",
        "    os.makedirs(dst_dir)\n",
        "\n",
        "failed_files = []\n",
        "\n",
        "for root, _, files in os.walk(src_dir):\n",
        "    for file in files:\n",
        "        src_path = os.path.join(root, file)\n",
        "        filename, ext = os.path.splitext(file)\n",
        "\n",
        "        try:\n",
        "            # Convert heic files to jpg\n",
        "            if ext.lower() == '.heic':\n",
        "                heif_file = pyheif.read(src_path)\n",
        "                image = Image.frombytes(\n",
        "                    heif_file.mode,\n",
        "                    heif_file.size,\n",
        "                    heif_file.data,\n",
        "                    \"raw\",\n",
        "                    heif_file.mode,\n",
        "                    heif_file.stride,\n",
        "                )\n",
        "                dst_path = os.path.join(dst_dir, filename + '.jpg')\n",
        "                image.save(dst_path, \"JPEG\")\n",
        "\n",
        "            # Rename other jpg files to ensure the extension is \".jpg\"\n",
        "            elif ext.lower() in ['.jpeg', '.jpg']:\n",
        "                dst_path = os.path.join(dst_dir, filename + '.jpg')\n",
        "                image = Image.open(src_path)\n",
        "                image.save(dst_path, \"JPEG\")\n",
        "\n",
        "        except Exception as e:\n",
        "            print(f\"Error processing file {file}: {e}\")\n",
        "            failed_files.append(file)\n",
        "\n",
        "if failed_files:\n",
        "    print(\"Failed to process the following files:\")\n",
        "    for file in failed_files:\n",
        "        print(file)\n",
        "else:\n",
        "    print(\"All files processed successfully!\")"
      ],
      "metadata": {
        "id": "pv2NCeA-H9Ik"
      },
      "execution_count": null,
      "outputs": []
    },
    {
      "cell_type": "markdown",
      "source": [
        "ファイル数の確認を行う。"
      ],
      "metadata": {
        "id": "c95cvfGcLd_8"
      }
    },
    {
      "cell_type": "code",
      "source": [
        "# 対象のディレクトリ\n",
        "target_dir = \"/content/drive/MyDrive/OptPhotoFiles/optPhotoFiles/nonRA/nonRA_Left_Hand_2nd\"\n",
        "\n",
        "# ファイル数を計算\n",
        "file_count = sum([len(files) for _, _, files in os.walk(target_dir)])\n",
        "\n",
        "print(f\"Total number of files in {target_dir}: {file_count}\")"
      ],
      "metadata": {
        "id": "mKI2EeSmLSP7"
      },
      "execution_count": null,
      "outputs": []
    },
    {
      "cell_type": "markdown",
      "source": [
        "#ディレクトリを新規に作成し、統一したファイル名のファイルを格納する。\n",
        "さらに/content/drive/MyDrive/OptPhotoFiles/optPhotoFiles/nonRA/nonRA_Right_Hand_2ndに含まれているファイルのファイル名を統一します。optPhotoTable_controlsに記載されている順番に通し番号をふり、今までのファイル名を、nonRA_right_hand_通し番号_.jpgとなるように変更し、新たに/content/drive/MyDrive/OptPhotoFiles/optPhotoFiles/nonRA/nonRA_Right_Hand_3rdを作成し、そこに格納してください。optPhotoTable_controlsには、新たな行に新しいファイル名を記入してください。\n",
        "\n",
        "\n",
        "次に、ファイル名の変更と、/content/drive/MyDrive/OptPhotoFiles/optPhotoTable/に格納されているoptPhotoTable_controlsの改変作業です。\n",
        "optPhotoTable_controlsの構造は以下の通り。\n",
        "先頭行は見出し。\n",
        "0列目：time_stamp（日時と時間）\n",
        "1列目：informed_consent（０と１の２区分変数）\n",
        "2列目：age（0から100までの整数）\n",
        "3列目：female（０と１の２区分変数）\n",
        "4列目：RA（０と１の２区分変数）\n",
        "5列目：arthralgia（０と１の２区分変数）\n",
        "6列目：right_hand_url（文字列）\n",
        "7列目：left_hand_url（文字列）\n",
        "8列目：crowdworks_username（全角半角混在の文字列）\n",
        "9列目：right_hand_filename（全角半角混在の文字列）\n",
        "10列目：left_hand_filename（全角半角混在の文字列）\n"
      ],
      "metadata": {
        "id": "DAESI8jJ--hb"
      }
    },
    {
      "cell_type": "code",
      "source": [
        "import pandas as pd\n",
        "\n",
        "# ファイル名を統一するディレクトリ\n",
        "src_dir_2nd = \"/content/drive/MyDrive/OptPhotoFiles/optPhotoFiles/nonRA/nonRA_Right_Hand_2nd\"\n",
        "dst_dir_3rd = \"/content/drive/MyDrive/OptPhotoFiles/optPhotoFiles/nonRA/nonRA_Right_Hand_3rd\"\n",
        "\n",
        "# optPhotoTable_controlsのパス (適切なパスに変更してください)\n",
        "optPhotoTable_controls_path = \"/content/drive/MyDrive/OptPhotoFiles/opyPhotoTable/optPhotoTable_controls.csv\"\n",
        "\n",
        "# optPhotoTable_controlsを読み込む\n",
        "optPhotoTable_controls = pd.read_csv(optPhotoTable_controls_path)\n",
        "\n",
        "# ディレクトリが存在しない場合、新規作成\n",
        "if not os.path.exists(dst_dir_3rd):\n",
        "    os.makedirs(dst_dir_3rd)\n",
        "\n",
        "# ファイル名の統一と移動\n",
        "for index, row in optPhotoTable_controls.iterrows():\n",
        "    original_name = row['right_hand_filename']  # この部分はoptPhotoTable_controlsのカラム名に合わせて変更してください\n",
        "    new_name = f\"nonRA_right_hand_{index + 1}_.jpg\"\n",
        "\n",
        "    src_file_path = os.path.join(src_dir_2nd, original_name)\n",
        "    dst_file_path = os.path.join(dst_dir_3rd, new_name)\n",
        "\n",
        "    if os.path.exists(src_file_path):\n",
        "        shutil.copy2(src_file_path, dst_file_path)\n",
        "\n",
        "    # optPhotoTable_controlsに新しいファイル名を追加\n",
        "    optPhotoTable_controls.at[index, 'filename'] = new_name\n",
        "\n",
        "# optPhotoTable_controlsを更新\n",
        "optPhotoTable_controls.to_csv(optPhotoTable_controls_path, index=False)\n",
        "\n",
        "print(\"Process completed!\")"
      ],
      "metadata": {
        "id": "dRwx7Mua-_mk"
      },
      "execution_count": null,
      "outputs": []
    },
    {
      "cell_type": "markdown",
      "source": [
        "やはりファイル数の確認を行う。"
      ],
      "metadata": {
        "id": "6S0CvNGjLqqh"
      }
    },
    {
      "cell_type": "code",
      "source": [
        "# 対象のディレクトリ\n",
        "target_dir = \"/content/drive/MyDrive/OptPhotoFiles/optPhotoFiles/nonRA/nonRA_Right_Hand_3rd\"\n",
        "\n",
        "# ファイル数を計算\n",
        "file_count = sum([len(files) for _, _, files in os.walk(target_dir)])\n",
        "\n",
        "print(f\"Total number of files in {target_dir}: {file_count}\")"
      ],
      "metadata": {
        "id": "RFLJTcc_Lnbe"
      },
      "execution_count": null,
      "outputs": []
    },
    {
      "cell_type": "markdown",
      "source": [
        "同様の作業を/content/drive/MyDrive/OptPhotoFiles/optPhotoFiles/nonRA/nonRA_Left_Hand_2ndにも施行する。"
      ],
      "metadata": {
        "id": "v-fTPpOuIsex"
      }
    },
    {
      "cell_type": "code",
      "source": [
        "# ファイル名を統一するディレクトリ\n",
        "src_dir_2nd = \"/content/drive/MyDrive/OptPhotoFiles/optPhotoFiles/nonRA/nonRA_Left_Hand_2nd\"\n",
        "dst_dir_3rd = \"/content/drive/MyDrive/OptPhotoFiles/optPhotoFiles/nonRA/nonRA_Left_Hand_3rd\"\n",
        "\n",
        "# optPhotoTable_controlsのパス (適切なパスに変更してください)\n",
        "optPhotoTable_controls_path = \"/content/drive/MyDrive/OptPhotoFiles/opyPhotoTable/optPhotoTable_controls.csv\"\n",
        "\n",
        "# optPhotoTable_controlsを読み込む\n",
        "optPhotoTable_controls = pd.read_csv(optPhotoTable_controls_path)\n",
        "\n",
        "# ディレクトリが存在しない場合、新規作成\n",
        "if not os.path.exists(dst_dir_3rd):\n",
        "    os.makedirs(dst_dir_3rd)\n",
        "\n",
        "# ファイル名の統一と移動\n",
        "for index, row in optPhotoTable_controls.iterrows():\n",
        "    original_name = row['left_hand_filename']  # この部分はoptPhotoTable_controlsのカラム名に合わせて変更してください\n",
        "    new_name = f\"nonRA_left_hand_{index + 1}_.jpg\"\n",
        "\n",
        "    src_file_path = os.path.join(src_dir_2nd, original_name)\n",
        "    dst_file_path = os.path.join(dst_dir_3rd, new_name)\n",
        "\n",
        "    if os.path.exists(src_file_path):\n",
        "        shutil.copy2(src_file_path, dst_file_path)\n",
        "\n",
        "    # optPhotoTable_controlsに新しいファイル名を追加\n",
        "    optPhotoTable_controls.at[index, 'filename'] = new_name\n",
        "\n",
        "# optPhotoTable_controlsを更新\n",
        "optPhotoTable_controls.to_csv(optPhotoTable_controls_path, index=False)\n",
        "\n",
        "print(\"Process completed!\")"
      ],
      "metadata": {
        "id": "psgoW0ZAIc6-"
      },
      "execution_count": null,
      "outputs": []
    },
    {
      "cell_type": "markdown",
      "source": [
        "やはりファイル数の確認を行う。"
      ],
      "metadata": {
        "id": "qsCJMMf9L9zP"
      }
    },
    {
      "cell_type": "code",
      "source": [
        "# 対象のディレクトリ\n",
        "target_dir = \"/content/drive/MyDrive/OptPhotoFiles/optPhotoFiles/nonRA/nonRA_Left_Hand_3rd\"\n",
        "\n",
        "# ファイル数を計算\n",
        "file_count = sum([len(files) for _, _, files in os.walk(target_dir)])\n",
        "\n",
        "print(f\"Total number of files in {target_dir}: {file_count}\")"
      ],
      "metadata": {
        "id": "tpGiF8fUL5tw"
      },
      "execution_count": null,
      "outputs": []
    },
    {
      "cell_type": "markdown",
      "source": [
        "このコードを実行すると、指定した手順に従って処理が行われます。ただし、optPhotoTable_controls の正確なカラム名やパスに関する情報が不足しているため、必要に応じてコードの適切な部分を修正してください。"
      ],
      "metadata": {
        "id": "T-RpBPI4B4Ry"
      }
    },
    {
      "cell_type": "markdown",
      "source": [
        "\n",
        "\n"
      ],
      "metadata": {
        "id": "gdGUN2CnCO_X"
      }
    },
    {
      "cell_type": "markdown",
      "source": [
        "#rembgライブラリを使用した背景の削除\n",
        "/content/drive/MyDrive/OptPhotoFiles/optPhotoFiles/nonRA/nonRA_Right_Hand_3rdに含まれている画像は、非常に雑多な背景のなかに手背の画像が撮影されています。背景が学習に悪影響を及ぼさないように、背景を削除します。ライブラリrembgのremoveとnew_sessionを使用してください。\n",
        "背景を削除した画像は、/content/drive/MyDrive/OptPhotoFiles/optPhotoFiles/nonRA/nonRA_Right_Hand_4thに格納して、/content/drive/MyDrive/OptPhotoFiles/optPhotoFiles/nonRA/nonRA_Right_Hand_3rdのファイルが破損しないようにした。"
      ],
      "metadata": {
        "id": "Qs28CiuQ_G6g"
      }
    },
    {
      "cell_type": "code",
      "source": [
        "!pip install rembg\n",
        "\n",
        "import os\n",
        "from rembg import remove\n",
        "from concurrent.futures import ProcessPoolExecutor\n",
        "\n",
        "def remove_bg_from_file(file_path, dst_dir):\n",
        "    with open(file_path, \"rb\") as f:\n",
        "        img = f.read()\n",
        "        output = remove(img)\n",
        "\n",
        "    dst_file_path = os.path.join(dst_dir, os.path.basename(file_path))\n",
        "    with open(dst_file_path, \"wb\") as f_out:\n",
        "        f_out.write(output)\n",
        "\n",
        "# 画像の背景を削除するディレクトリ\n",
        "src_dir = \"/content/drive/MyDrive/OptPhotoFiles/optPhotoFiles/nonRA/nonRA_Right_Hand_3rd\"\n",
        "dst_dir = \"/content/drive/MyDrive/OptPhotoFiles/optPhotoFiles/nonRA/nonRA_Right_Hand_4th\"\n",
        "\n",
        "# ディレクトリが存在しない場合、新規作成\n",
        "if not os.path.exists(dst_dir):\n",
        "    os.makedirs(dst_dir)\n",
        "\n",
        "file_paths = [os.path.join(src_dir, file) for file in os.listdir(src_dir) if file.lower().endswith(('.png', '.jpg', '.jpeg'))]\n",
        "\n",
        "# Use all available CPU cores for parallel processing\n",
        "with ProcessPoolExecutor() as executor:\n",
        "    executor.map(remove_bg_from_file, file_paths, [dst_dir] * len(file_paths))\n",
        "\n",
        "print(\"Background removal and saving to new directory completed!\")"
      ],
      "metadata": {
        "id": "k3wrUf8Y_Npb"
      },
      "execution_count": null,
      "outputs": []
    },
    {
      "cell_type": "markdown",
      "source": [
        "最終的なファイル数の確認を行う。"
      ],
      "metadata": {
        "id": "VTzkk7H4MeW5"
      }
    },
    {
      "cell_type": "code",
      "source": [
        "# 対象のディレクトリ\n",
        "target_dir = \"/content/drive/MyDrive/OptPhotoFiles/optPhotoFiles/nonRA/nonRA_Right_Hand_4th\"\n",
        "\n",
        "# ファイル数を計算\n",
        "file_count = sum([len(files) for _, _, files in os.walk(target_dir)])\n",
        "\n",
        "print(f\"Total number of files in {target_dir}: {file_count}\")"
      ],
      "metadata": {
        "id": "XqSKetlbMRxq"
      },
      "execution_count": null,
      "outputs": []
    },
    {
      "cell_type": "markdown",
      "source": [],
      "metadata": {
        "id": "kShnbHq7I-3o"
      }
    },
    {
      "cell_type": "code",
      "source": [
        "# 画像の背景を削除するディレクトリ\n",
        "src_dir = \"/content/drive/MyDrive/OptPhotoFiles/optPhotoFiles/nonRA/nonRA_Left_Hand_3rd\"\n",
        "dst_dir = \"/content/drive/MyDrive/OptPhotoFiles/optPhotoFiles/nonRA/nonRA_Left_Hand_4th\"\n",
        "\n",
        "# ディレクトリが存在しない場合、新規作成\n",
        "if not os.path.exists(dst_dir):\n",
        "    os.makedirs(dst_dir)\n",
        "\n",
        "file_paths = [os.path.join(src_dir, file) for file in os.listdir(src_dir) if file.lower().endswith(('.png', '.jpg', '.jpeg'))]\n",
        "\n",
        "# Use all available CPU cores for parallel processing\n",
        "with ProcessPoolExecutor() as executor:\n",
        "    executor.map(remove_bg_from_file, file_paths, [dst_dir] * len(file_paths))\n",
        "\n",
        "print(\"Background removal and saving to new directory completed!\")"
      ],
      "metadata": {
        "id": "hI6EwLovJBC7"
      },
      "execution_count": null,
      "outputs": []
    },
    {
      "cell_type": "markdown",
      "source": [
        "rembgは、バックグラウンドの削除のためのディープラーニングモデルを基盤としていますが、現行のバージョンではGPUをサポートしていません。したがって、直接のGPUの利用は難しいです。\n",
        "\n",
        "しかしながら、高速化のアプローチとして以下の方法が考えられます：\n",
        "\n",
        "並行処理: 複数の画像の背景削除を同時に行うことで、全体の処理時間を短縮することができます。Pythonのconcurrent.futuresを使用して、複数のCPUコアでの並行処理を実現します。"
      ],
      "metadata": {
        "id": "o6H6nAVlDWfo"
      }
    },
    {
      "cell_type": "markdown",
      "source": [
        "最終的なファイル数の確認を行う。"
      ],
      "metadata": {
        "id": "e29iojzyMlhh"
      }
    },
    {
      "cell_type": "code",
      "source": [
        "# 対象のディレクトリ\n",
        "target_dir = \"/content/drive/MyDrive/OptPhotoFiles/optPhotoFiles/nonRA/nonRA_Left_Hand_4th\"\n",
        "\n",
        "# ファイル数を計算\n",
        "file_count = sum([len(files) for _, _, files in os.walk(target_dir)])\n",
        "\n",
        "print(f\"Total number of files in {target_dir}: {file_count}\")"
      ],
      "metadata": {
        "id": "HiENJ2uCDX2a"
      },
      "execution_count": null,
      "outputs": []
    }
  ]
}